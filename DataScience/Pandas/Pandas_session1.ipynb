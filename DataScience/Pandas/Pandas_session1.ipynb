{
 "cells": [
  {
   "cell_type": "code",
   "execution_count": 14,
   "id": "b2be41cf",
   "metadata": {},
   "outputs": [
    {
     "name": "stdout",
     "output_type": "stream",
     "text": [
      "    0\n",
      "0  10\n",
      "1  20\n",
      "2  30\n",
      "3  40\n",
      "4  50\n",
      "5  60\n"
     ]
    }
   ],
   "source": [
    "# Creating a DF from a list\n",
    "import pandas as pd\n",
    "data = [10, 20, 30, 40, 50,60]\n",
    "df = pd.DataFrame(data)\n",
    "print(df)"
   ]
  },
  {
   "cell_type": "code",
   "execution_count": null,
   "id": "2e2f4e7c",
   "metadata": {},
   "outputs": [
    {
     "name": "stdout",
     "output_type": "stream",
     "text": [
      "RangeIndex(start=0, stop=2, step=1)\n"
     ]
    }
   ],
   "source": [
    "# Creating a DF From a numpy array\n",
    "import numpy as np\n",
    "import pandas as pd \n",
    "\n",
    "data = np.array([[1,2,3],[4,5,6]])\n",
    "df = pd.DataFrame(data)\n",
    "print(df.index) \n"
   ]
  },
  {
   "cell_type": "code",
   "execution_count": 12,
   "id": "a43f00b8",
   "metadata": {},
   "outputs": [
    {
     "name": "stdout",
     "output_type": "stream",
     "text": [
      "      Name  Age  Gender  Salary\n",
      "0    Kiran   25    Male   50000\n",
      "1  Keerthi   30  Female   55000\n",
      "2    Mohit   22    Male   40000\n"
     ]
    }
   ],
   "source": [
    "# Creating DF from a data dictionary\n",
    "import pandas as pd\n",
    "\n",
    "data = {'Name': ['Kiran', 'Keerthi', 'Mohit' ],\n",
    "        'Age': [25, 30, 22 ],\n",
    "        'Gender': ['Male', 'Female', 'Male' ],\n",
    "        'Salary': [50000, 55000, 40000 ]}\n",
    "\n",
    "df = pd.DataFrame(data)\n",
    "print(df)  # Accessing the index\n"
   ]
  },
  {
   "cell_type": "code",
   "execution_count": null,
   "id": "1e2c46ca",
   "metadata": {},
   "outputs": [
    {
     "name": "stdout",
     "output_type": "stream",
     "text": [
      "    Name  Age  Gender  Salary\n",
      "0   John   25    Male   50000\n",
      "1  Alice   30  Female   55000\n",
      "2    Bob   22    Male   40000\n",
      "       Age  Gender  Salary\n",
      "Name                      \n",
      "John    25    Male   50000\n",
      "Alice   30  Female   55000\n",
      "Bob     22    Male   40000\n",
      "   index   Name  Age  Gender  Salary\n",
      "0      0   John   25    Male   50000\n",
      "1      1  Alice   30  Female   55000\n",
      "2      2    Bob   22    Male   40000\n"
     ]
    }
   ],
   "source": [
    "# Indexing \n",
    "\n",
    "# Creating DF from a data dictionary\n",
    "import pandas as pd\n",
    "\n",
    "data = {'Name': ['Kiran', 'Keerthi', 'Mohit' ],\n",
    "        'Age': [25, 30, 22 ],\n",
    "        'Gender': ['Male', 'Female', 'Male' ],\n",
    "        'Salary': [50000, 55000, 40000 ]}\n",
    "\n",
    "df = pd.DataFrame(data)\n",
    "print(df)  # Accessing the index\n",
    "df_with_index = df.set_index('Name')\n",
    "print(df_with_index)  # Accessing the index\n",
    "df_reset = df.reset_index()\n",
    "print(df_reset)"
   ]
  },
  {
   "cell_type": "code",
   "execution_count": 16,
   "id": "440d5bb9",
   "metadata": {},
   "outputs": [
    {
     "name": "stdout",
     "output_type": "stream",
     "text": [
      "    Name  Age Gender  Salary\n",
      "0  Kiran   25   Male   50000\n",
      "      Name  Age  Salary\n",
      "0    Kiran   25   50000\n",
      "1  Keerthi   30   55000\n"
     ]
    }
   ],
   "source": [
    "# Accessing specific rows and columns\n",
    "import pandas as pd\n",
    "data = {'Name': ['Kiran', 'Keerthi', 'Mohit' ],\n",
    "        'Age': [25, 30, 22 ],\n",
    "        'Gender': ['Male', 'Female', 'Male' ],\n",
    "        'Salary': [50000, 55000, 40000 ]}\n",
    "df = pd.DataFrame(data)\n",
    "# Accessing a specific column\n",
    "df_filter = df[df['Name']=='Kiran']  # Accessing a specific row\n",
    "print(df_filter)\n",
    "\n",
    "# Access the first three rows and the 'Name' and 'Age' columns\n",
    "subset = df.loc[0:1, ['Name', 'Age','Salary']]\n",
    "print(subset)\n",
    "        "
   ]
  },
  {
   "cell_type": "code",
   "execution_count": null,
   "id": "e0c322b7",
   "metadata": {},
   "outputs": [],
   "source": []
  }
 ],
 "metadata": {
  "kernelspec": {
   "display_name": "Python 3",
   "language": "python",
   "name": "python3"
  },
  "language_info": {
   "codemirror_mode": {
    "name": "ipython",
    "version": 3
   },
   "file_extension": ".py",
   "mimetype": "text/x-python",
   "name": "python",
   "nbconvert_exporter": "python",
   "pygments_lexer": "ipython3",
   "version": "3.13.7"
  }
 },
 "nbformat": 4,
 "nbformat_minor": 5
}
