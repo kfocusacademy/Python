{
 "cells": [
  {
   "cell_type": "code",
   "execution_count": null,
   "id": "fd442c3c",
   "metadata": {},
   "outputs": [
    {
     "name": "stdout",
     "output_type": "stream",
     "text": [
      "           Empid       City State Dept         DOB   Salary\n",
      "Empname                                                    \n",
      "Keerthi S   1001  Bangalore    KA   IT  01-02-1999   800000\n",
      "Manasa K    1002  Hyderabad    TN   HR  01-01-2002   600000\n",
      "Manish R    1003  Hyderabad    TN   FI  01-08-2003   700000\n",
      "Sanish D    1004  Bangalore    KA   IT  01-01-2004  1000000\n",
      "Trivesh K   1005  Bangalore    KA   IT  01-11-1998  1000000\n",
      "Ajay  R     1006  Bangalore    KA   IT  01-11-1998  1200000\n",
      "Sarath K    1007  Bangalore    KA   IT  01-11-1995  1600000\n",
      "Sandhya K   1008  Hyderabad    TN   HR  01-01-2004   600000\n",
      "Binay R     1009  Bangalore    KA   IT  01-11-1996  1400000\n",
      "Kavitha     1010  Bangalore    KA   HR  01-11-1993   400000\n"
     ]
    }
   ],
   "source": [
    "# Importing from a CSV file\n",
    "import pandas as pd\n",
    "data = pd.read_csv(r\"C:\\Ravi\\Python\\DataScience\\Pandas\\Employees.csv\",index_col=\"Empname\")\n",
    "print(data)"
   ]
  },
  {
   "cell_type": "code",
   "execution_count": 2,
   "id": "c14c68fb",
   "metadata": {},
   "outputs": [
    {
     "name": "stdout",
     "output_type": "stream",
     "text": [
      "           Empid   Salary\n",
      "Empname                  \n",
      "Keerthi S   1001   800000\n",
      "Manasa K    1002   600000\n",
      "Manish R    1003   700000\n",
      "Sanish D    1004  1000000\n",
      "Trivesh K   1005  1000000\n",
      "Ajay  R     1006  1200000\n",
      "Sarath K    1007  1600000\n",
      "Sandhya K   1008   600000\n",
      "Binay R     1009  1400000\n",
      "Kavitha     1010   400000\n"
     ]
    }
   ],
   "source": [
    "# All rows specific columns\n",
    "\n",
    "print(data[[\"Empid\",\"Salary\"]]) "
   ]
  },
  {
   "cell_type": "code",
   "execution_count": null,
   "id": "6405266d",
   "metadata": {},
   "outputs": [
    {
     "name": "stdout",
     "output_type": "stream",
     "text": [
      "          Salary Dept\n",
      "Empname              \n",
      "Manasa K  600000   HR\n"
     ]
    }
   ],
   "source": [
    "# Specific rows and specific columns\n",
    "rows = data.loc[[ \"Manasa K\"],[\"Salary\",\"Dept\"]]\n",
    "print(rows)"
   ]
  },
  {
   "cell_type": "code",
   "execution_count": 21,
   "id": "4c5bc498",
   "metadata": {},
   "outputs": [
    {
     "name": "stdout",
     "output_type": "stream",
     "text": [
      "           Empid Dept\n",
      "Empname              \n",
      "Keerthi S   1001   IT\n",
      "Sanish D    1004   IT\n"
     ]
    }
   ],
   "source": [
    "# iloc - index location\n",
    "rows = data.iloc[[0,3],[0,3]]\n",
    "print(rows)"
   ]
  },
  {
   "cell_type": "code",
   "execution_count": 23,
   "id": "4a5398ba",
   "metadata": {},
   "outputs": [
    {
     "name": "stdout",
     "output_type": "stream",
     "text": [
      "           Empid       City State Dept         DOB   Salary\n",
      "Empname                                                    \n",
      "Keerthi S   1001  Bangalore    KA   IT  01-02-1999   800000\n",
      "Manasa K    1002  Hyderabad    TN   HR  01-01-2002   600000\n",
      "Manish R    1003  Hyderabad    TN   FI  01-08-2003   700000\n",
      "Sanish D    1004  Bangalore    KA   IT  01-01-2004  1000000\n",
      "Trivesh K   1005  Bangalore    KA   IT  01-11-1998  1000000\n",
      "           Empid       City State Dept         DOB   Salary\n",
      "Empname                                                    \n",
      "Ajay  R     1006  Bangalore    KA   IT  01-11-1998  1200000\n",
      "Sarath K    1007  Bangalore    KA   IT  01-11-1995  1600000\n",
      "Sandhya K   1008  Hyderabad    TN   HR  01-01-2004   600000\n",
      "Binay R     1009  Bangalore    KA   IT  01-11-1996  1400000\n",
      "Kavitha     1010  Bangalore    KA   HR  01-11-1993   400000\n"
     ]
    }
   ],
   "source": [
    "# Data head and tail methods \n",
    "print(data.head())\n",
    "print(data.tail())"
   ]
  },
  {
   "cell_type": "code",
   "execution_count": 25,
   "id": "e5112001",
   "metadata": {},
   "outputs": [
    {
     "name": "stdout",
     "output_type": "stream",
     "text": [
      "           Empid       City State Dept         DOB   Salary\n",
      "Empname                                                    \n",
      "Keerthi S   1001  Bangalore    KA   IT  01-02-1999   800000\n",
      "Sanish D    1004  Bangalore    KA   IT  01-01-2004  1000000\n",
      "Trivesh K   1005  Bangalore    KA   IT  01-11-1998  1000000\n",
      "Ajay  R     1006  Bangalore    KA   IT  01-11-1998  1200000\n",
      "Sarath K    1007  Bangalore    KA   IT  01-11-1995  1600000\n",
      "Binay R     1009  Bangalore    KA   IT  01-11-1996  1400000\n"
     ]
    }
   ],
   "source": [
    "# Query data frame \n",
    "# print employees with salary > 600000 and city as Bangalore\n",
    "res = data.query(\"Salary > 600000 and City == 'Bangalore'\")\n",
    "print(res)"
   ]
  },
  {
   "cell_type": "code",
   "execution_count": 30,
   "id": "5c184b30",
   "metadata": {},
   "outputs": [
    {
     "name": "stdout",
     "output_type": "stream",
     "text": [
      "      Name  Age  Gender  Salary\n",
      "0    Kiran   25    Male   50000\n",
      "1  Keerthi   30  Female   55000\n",
      "2    Mohit   22    Male   40000 \n",
      "\n",
      "     Name  Age Gender  Salary\n",
      "0  Kumar   26   Male   45000\n",
      "1    Raj   31   Male   65000\n",
      "      Name  Age  Gender  Salary\n",
      "0    Kiran   25    Male   50000\n",
      "1  Keerthi   30  Female   55000\n",
      "2    Mohit   22    Male   40000\n",
      "0    Kumar   26    Male   45000\n",
      "1      Raj   31    Male   65000\n"
     ]
    }
   ],
   "source": [
    "# concatinating two dataframes \n",
    "data1 = {'Name': ['Kiran', 'Keerthi', 'Mohit' ],\n",
    "        'Age': [25, 30, 22 ],\n",
    "        'Gender': ['Male', 'Female', 'Male' ],\n",
    "        'Salary': [50000, 55000, 40000 ]}\n",
    "\n",
    "data2 = {'Name': ['Kumar', 'Raj' ],\n",
    "        'Age': [26, 31],\n",
    "        'Gender': ['Male', 'Male' ],\n",
    "        'Salary': [45000, 65000]}\n",
    "\n",
    "df1 = pd.DataFrame (data1)\n",
    "df2 = pd.DataFrame(data2)\n",
    "# Before concatenate \n",
    "print(df1,'\\n\\n',df2)\n",
    "\n",
    "#after concatenate \n",
    "frame = [df1,df2]\n",
    "df_concat = pd.concat(frame)\n",
    "print(df_concat)\n"
   ]
  },
  {
   "cell_type": "code",
   "execution_count": null,
   "id": "f32763b3",
   "metadata": {},
   "outputs": [
    {
     "name": "stdout",
     "output_type": "stream",
     "text": [
      "      Name  Age  Gender  Salary\n",
      "0    Kiran   25    Male   50000\n",
      "1  Keerthi   30  Female   55000\n",
      "2    Mohit   22    Male   40000 \n",
      "\n",
      "       Name  Age Dept\n",
      "0    Kiran   25   IT\n",
      "1  Keerthi   30   HR\n",
      "      Name  Age  Gender   Salary Dept\n",
      "0    Kiran   25    Male  50000.0  NaN\n",
      "1  Keerthi   30  Female  55000.0  NaN\n",
      "2    Mohit   22    Male  40000.0  NaN\n",
      "0    Kiran   25     NaN      NaN   IT\n",
      "1  Keerthi   30     NaN      NaN   HR\n"
     ]
    }
   ],
   "source": [
    "# Concatenate data frames \n",
    "data1 = {'Name': ['Kiran', 'Keerthi', 'Mohit' ],\n",
    "        'Age': [25, 30, 22 ],\n",
    "        'Gender': ['Male', 'Female', 'Male' ],\n",
    "        'Salary': [50000, 55000, 40000 ]}\n",
    "\n",
    "data2 = {'Name': ['Kiran', 'Keerthi' ],\n",
    "        'Age': [25, 30],\n",
    "        'Dept': ['IT', 'HR' ]}\n",
    "\n",
    "df1 = pd.DataFrame (data1)\n",
    "df2 = pd.DataFrame(data2)\n",
    "# Before concatenate \n",
    "print(df1,'\\n\\n',df2)\n",
    "\n",
    "#after concatenate \n",
    "frame = [df1,df2]\n",
    "df_concat = pd.concat(frame)\n",
    "print(df_concat)"
   ]
  },
  {
   "cell_type": "code",
   "execution_count": 32,
   "id": "2e3b86ed",
   "metadata": {},
   "outputs": [
    {
     "name": "stdout",
     "output_type": "stream",
     "text": [
      "      Name  Age  Gender  Salary\n",
      "0    Kiran   25    Male   50000\n",
      "1  Keerthi   30  Female   55000\n",
      "2    Mohit   22    Male   40000 \n",
      "\n",
      "       Name  Age Dept\n",
      "0    Kiran   25   IT\n",
      "1  Keerthi   30   HR\n",
      "      Name  Age_x  Gender  Salary  Age_y Dept\n",
      "0    Kiran     25    Male   50000     25   IT\n",
      "1  Keerthi     30  Female   55000     30   HR\n"
     ]
    }
   ],
   "source": [
    "# Merging  data frames \n",
    "data1 = {'Name': ['Kiran', 'Keerthi', 'Mohit' ],\n",
    "        'Age': [25, 30, 22 ],\n",
    "        'Gender': ['Male', 'Female', 'Male' ],\n",
    "        'Salary': [50000, 55000, 40000 ]}\n",
    "\n",
    "data2 = {'Name': ['Kiran', 'Keerthi' ],\n",
    "        'Age': [25, 30],\n",
    "        'Dept': ['IT', 'HR' ]}\n",
    "\n",
    "df1 = pd.DataFrame (data1)\n",
    "df2 = pd.DataFrame(data2)\n",
    "# Before concatenate \n",
    "print(df1,'\\n\\n',df2)\n",
    "\n",
    "# MErging \n",
    "df_merge = pd.merge(df1,df2,on=\"Name\")\n",
    "print(df_merge)"
   ]
  },
  {
   "cell_type": "code",
   "execution_count": 35,
   "id": "ff9829b6",
   "metadata": {},
   "outputs": [
    {
     "name": "stdout",
     "output_type": "stream",
     "text": [
      "      Name  Age  Gender  Salary\n",
      "0    Kiran   25    Male   50000\n",
      "1  Keerthi   30  Female   55000\n",
      "2    Mohit   22    Male   40000 \n",
      "\n",
      "       Name  Age Dept\n",
      "0    Kiran   25   IT\n",
      "1  Keerthi   30   HR\n",
      "2     Sita   38   FI\n",
      "      Name  Age_x  Gender  Salary  Age_y Dept\n",
      "0    Kiran     25    Male   50000   25.0   IT\n",
      "1  Keerthi     30  Female   55000   30.0   HR\n",
      "2    Mohit     22    Male   40000    NaN  NaN\n",
      "      Name  Age_x  Gender   Salary  Age_y Dept\n",
      "0    Kiran   25.0    Male  50000.0     25   IT\n",
      "1  Keerthi   30.0  Female  55000.0     30   HR\n",
      "2     Sita    NaN     NaN      NaN     38   FI\n"
     ]
    }
   ],
   "source": [
    "# Merging using Left /right outer join \n",
    "\n",
    "data1 = {'Name': ['Kiran', 'Keerthi', 'Mohit' ],\n",
    "        'Age': [25, 30, 22 ],\n",
    "        'Gender': ['Male', 'Female', 'Male' ],\n",
    "        'Salary': [50000, 55000, 40000 ]}\n",
    "\n",
    "data2 = {'Name': ['Kiran', 'Keerthi','Sita' ],\n",
    "        'Age': [25, 30,38],\n",
    "        'Dept': ['IT', 'HR','FI' ]}\n",
    "\n",
    "df1 = pd.DataFrame (data1)\n",
    "df2 = pd.DataFrame(data2)\n",
    "# Before concatenate \n",
    "print(df1,'\\n\\n',df2)\n",
    "\n",
    "# MErging using left outer join\n",
    "df_merge = pd.merge(df1,df2,how = 'left',on=\"Name\")\n",
    "print(df_merge)\n",
    "\n",
    "# MErging using right outer join\n",
    "df_merge = pd.merge(df1,df2,how = 'right',on=\"Name\")\n",
    "print(df_merge)"
   ]
  },
  {
   "cell_type": "code",
   "execution_count": 37,
   "id": "0ecb23fa",
   "metadata": {},
   "outputs": [
    {
     "name": "stdout",
     "output_type": "stream",
     "text": [
      "      Name  Age  Gender  Salary\n",
      "1  Keerthi   30  Female   55000\n",
      "0    Kiran   25    Male   50000\n",
      "2    Mohit   22    Male   40000\n"
     ]
    }
   ],
   "source": [
    "#  Sorting data frame \n",
    "data1 = {'Name': ['Kiran', 'Keerthi', 'Mohit' ],\n",
    "        'Age': [25, 30, 22 ],\n",
    "        'Gender': ['Male', 'Female', 'Male' ],\n",
    "        'Salary': [50000, 55000, 40000 ]}\n",
    "\n",
    "df = pd.DataFrame(data1)\n",
    "sorted_df = df.sort_values(by = \"Age\",ascending=False)\n",
    "print(sorted_df)"
   ]
  },
  {
   "cell_type": "code",
   "execution_count": null,
   "id": "f8d0f62c",
   "metadata": {},
   "outputs": [],
   "source": []
  }
 ],
 "metadata": {
  "kernelspec": {
   "display_name": "Python 3",
   "language": "python",
   "name": "python3"
  },
  "language_info": {
   "codemirror_mode": {
    "name": "ipython",
    "version": 3
   },
   "file_extension": ".py",
   "mimetype": "text/x-python",
   "name": "python",
   "nbconvert_exporter": "python",
   "pygments_lexer": "ipython3",
   "version": "3.13.7"
  }
 },
 "nbformat": 4,
 "nbformat_minor": 5
}
