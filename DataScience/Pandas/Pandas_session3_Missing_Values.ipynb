{
 "cells": [
  {
   "cell_type": "code",
   "execution_count": 44,
   "id": "b32ba95d",
   "metadata": {},
   "outputs": [
    {
     "name": "stdout",
     "output_type": "stream",
     "text": [
      "            temp  windspeed   event\n",
      "day                                \n",
      "2024-01-01  32.0        6.0   Sunny\n",
      "2024-01-02   NaN        9.0    Rain\n",
      "2024-01-05  28.0       10.0   Sunny\n",
      "2024-01-06  33.0        7.0   Sunny\n",
      "2024-01-07   NaN        NaN  Cloudy\n"
     ]
    }
   ],
   "source": [
    "import pandas as pd\n",
    "df = pd.read_csv('weather.csv',parse_dates =['day'])\n",
    "df.set_index('day',inplace=True)\n",
    "print(df.head())"
   ]
  },
  {
   "cell_type": "code",
   "execution_count": 5,
   "id": "3a654e10",
   "metadata": {},
   "outputs": [
    {
     "name": "stdout",
     "output_type": "stream",
     "text": [
      "         day  temp  winspeed   event\n",
      "0 2024-01-01  32.0       6.0   Sunny\n",
      "1 2024-01-02   0.0       9.0    Rain\n",
      "2 2024-01-05  28.0      10.0   Sunny\n",
      "3 2024-01-06  33.0       7.0   Sunny\n",
      "4 2024-01-07   0.0       0.0  Cloudy\n",
      "5 2024-01-08  32.0       8.0       0\n",
      "6 2024-01-09  33.0      11.0   Sunny\n",
      "7 2024-01-10  35.0       9.0    Rain\n",
      "8 2024-01-11  32.0       0.0       0\n",
      "9 2024-01-12  35.0      10.0  Cloudy\n"
     ]
    }
   ],
   "source": [
    "newdf = df.fillna(0)\n",
    "print(newdf)"
   ]
  },
  {
   "cell_type": "code",
   "execution_count": 12,
   "id": "d8cc076d",
   "metadata": {},
   "outputs": [
    {
     "name": "stdout",
     "output_type": "stream",
     "text": [
      "            temp  windspeed     event\n",
      "day                                  \n",
      "2024-01-01  32.0        6.0     Sunny\n",
      "2024-01-02   0.0        9.0      Rain\n",
      "2024-01-05  28.0       10.0     Sunny\n",
      "2024-01-06  33.0        7.0     Sunny\n",
      "2024-01-07   0.0        0.0    Cloudy\n",
      "2024-01-08  32.0        8.0  no event\n",
      "2024-01-09  33.0       11.0     Sunny\n",
      "2024-01-10  35.0        9.0      Rain\n",
      "2024-01-11  32.0        0.0  no event\n",
      "2024-01-12  35.0       10.0    Cloudy\n"
     ]
    }
   ],
   "source": [
    "newdf = df.fillna({'temp':0,'windspeed':0,'event':'no event'})\n",
    "print(newdf )"
   ]
  },
  {
   "cell_type": "code",
   "execution_count": null,
   "id": "e625cd99",
   "metadata": {},
   "outputs": [
    {
     "name": "stdout",
     "output_type": "stream",
     "text": [
      "            temp  windspeed   event\n",
      "day                                \n",
      "2024-01-01  32.0        6.0   Sunny\n",
      "2024-01-02  32.0        9.0    Rain\n",
      "2024-01-05  28.0       10.0   Sunny\n",
      "2024-01-06  33.0        7.0   Sunny\n",
      "2024-01-07  33.0        7.0  Cloudy\n",
      "2024-01-08  32.0        8.0  Cloudy\n",
      "2024-01-09  33.0       11.0   Sunny\n",
      "2024-01-10  35.0        9.0    Rain\n",
      "2024-01-11  32.0        9.0    Rain\n",
      "2024-01-12  35.0       10.0  Cloudy\n"
     ]
    },
    {
     "name": "stderr",
     "output_type": "stream",
     "text": [
      "C:\\Users\\ravis\\AppData\\Local\\Temp\\ipykernel_8516\\621151107.py:2: FutureWarning: DataFrame.fillna with 'method' is deprecated and will raise in a future version. Use obj.ffill() or obj.bfill() instead.\n",
      "  newdf = df.fillna(method = 'ffill')\n"
     ]
    }
   ],
   "source": [
    "# front fill -  ffill method\n",
    "newdf = df.fillna(method = 'ffill')   \n",
    "print(newdf )"
   ]
  },
  {
   "cell_type": "code",
   "execution_count": 19,
   "id": "74ba1ae0",
   "metadata": {},
   "outputs": [
    {
     "name": "stdout",
     "output_type": "stream",
     "text": [
      "              temp windspeed   event\n",
      "day                                 \n",
      "2024-01-01    32.0       6.0   Sunny\n",
      "2024-01-02     9.0       9.0    Rain\n",
      "2024-01-05    28.0      10.0   Sunny\n",
      "2024-01-06    33.0       7.0   Sunny\n",
      "2024-01-07  Cloudy    Cloudy  Cloudy\n",
      "2024-01-08    32.0       8.0     NaN\n",
      "2024-01-09    33.0      11.0   Sunny\n",
      "2024-01-10    35.0       9.0    Rain\n",
      "2024-01-11    32.0       NaN     NaN\n",
      "2024-01-12    35.0      10.0  Cloudy\n"
     ]
    },
    {
     "name": "stderr",
     "output_type": "stream",
     "text": [
      "C:\\Users\\ravis\\AppData\\Local\\Temp\\ipykernel_8516\\3968899158.py:2: FutureWarning: DataFrame.fillna with 'method' is deprecated and will raise in a future version. Use obj.ffill() or obj.bfill() instead.\n",
      "  newdf = df.fillna(method = 'bfill',axis=\"columns\"  )\n",
      "C:\\Users\\ravis\\AppData\\Local\\Temp\\ipykernel_8516\\3968899158.py:2: FutureWarning: Downcasting object dtype arrays on .fillna, .ffill, .bfill is deprecated and will change in a future version. Call result.infer_objects(copy=False) instead. To opt-in to the future behavior, set `pd.set_option('future.no_silent_downcasting', True)`\n",
      "  newdf = df.fillna(method = 'bfill',axis=\"columns\"  )\n"
     ]
    }
   ],
   "source": [
    "# backward fill method bfill\n",
    "newdf = df.fillna(method = 'bfill',axis=\"columns\"  )   \n",
    "print(newdf )"
   ]
  },
  {
   "cell_type": "code",
   "execution_count": 24,
   "id": "499643b7",
   "metadata": {},
   "outputs": [
    {
     "name": "stdout",
     "output_type": "stream",
     "text": [
      "            temp  windspeed   event\n",
      "day                                \n",
      "2024-01-01  32.0        6.0   Sunny\n",
      "2024-01-02  28.0        9.0    Rain\n",
      "2024-01-05  28.0       10.0   Sunny\n",
      "2024-01-06  33.0        7.0   Sunny\n",
      "2024-01-07   NaN        NaN  Cloudy\n",
      "2024-01-08  33.0       11.0   Sunny\n",
      "2024-01-09  33.0       11.0   Sunny\n",
      "2024-01-10  35.0        9.0    Rain\n",
      "2024-01-11  32.0       10.0  Cloudy\n",
      "2024-01-12  35.0       10.0  Cloudy\n"
     ]
    },
    {
     "name": "stderr",
     "output_type": "stream",
     "text": [
      "C:\\Users\\ravis\\AppData\\Local\\Temp\\ipykernel_8516\\1508914364.py:2: FutureWarning: DataFrame.fillna with 'method' is deprecated and will raise in a future version. Use obj.ffill() or obj.bfill() instead.\n",
      "  newdf = df.fillna(method = 'bfill',limit=1 )\n"
     ]
    }
   ],
   "source": [
    "# backward fill method bfill\n",
    "newdf = df.fillna(method = 'bfill',limit=1 )   \n",
    "print(newdf )"
   ]
  },
  {
   "cell_type": "code",
   "execution_count": 18,
   "id": "f52041aa",
   "metadata": {},
   "outputs": [
    {
     "name": "stdout",
     "output_type": "stream",
     "text": [
      "             temp  windspeed  event\n",
      "day                                \n",
      "2024-01-01  False      False  False\n",
      "2024-01-02   True      False  False\n",
      "2024-01-05  False      False  False\n",
      "2024-01-06  False      False  False\n",
      "2024-01-07   True       True  False\n",
      "2024-01-08  False      False   True\n",
      "2024-01-09  False      False  False\n",
      "2024-01-10  False      False  False\n",
      "2024-01-11  False       True   True\n",
      "2024-01-12  False      False  False\n"
     ]
    }
   ],
   "source": [
    "# isna() function\n",
    "print(df.isna())"
   ]
  },
  {
   "cell_type": "code",
   "execution_count": 25,
   "id": "47de361e",
   "metadata": {},
   "outputs": [
    {
     "name": "stdout",
     "output_type": "stream",
     "text": [
      "            temp  windspeed   event\n",
      "day                                \n",
      "2024-01-01  32.0   6.000000   Sunny\n",
      "2024-01-02  30.0   9.000000    Rain\n",
      "2024-01-05  28.0  10.000000   Sunny\n",
      "2024-01-06  33.0   7.000000   Sunny\n",
      "2024-01-07  33.0   8.333333  Cloudy\n",
      "2024-01-08  33.0   9.666667     NaN\n",
      "2024-01-09  33.0  11.000000   Sunny\n",
      "2024-01-10  35.0   9.000000    Rain\n",
      "2024-01-11  32.0   9.500000     NaN\n",
      "2024-01-12  35.0  10.000000  Cloudy\n"
     ]
    },
    {
     "name": "stderr",
     "output_type": "stream",
     "text": [
      "C:\\Users\\ravis\\AppData\\Local\\Temp\\ipykernel_8516\\3768016339.py:2: FutureWarning: DataFrame.interpolate with object dtype is deprecated and will raise in a future version. Call obj.infer_objects(copy=False) before interpolating instead.\n",
      "  newdf = df.interpolate()\n"
     ]
    }
   ],
   "source": [
    "# Interpolate function\n",
    "newdf = df.interpolate()\n",
    "print(newdf)"
   ]
  },
  {
   "cell_type": "code",
   "execution_count": 3,
   "id": "932c7a27",
   "metadata": {},
   "outputs": [
    {
     "name": "stdout",
     "output_type": "stream",
     "text": [
      "            temp  windspeed   event\n",
      "day                                \n",
      "2024-01-01  32.0        6.0   Sunny\n",
      "2024-01-02   NaN        9.0    Rain\n",
      "2024-01-05  28.0       10.0   Sunny\n",
      "2024-01-06  33.0        7.0   Sunny\n",
      "2024-01-07   NaN        NaN  Cloudy\n"
     ]
    }
   ],
   "source": [
    "import pandas as pd\n",
    "df = pd.read_csv('weather.csv',parse_dates =['day'])\n",
    "#df.reset_index(drop=True,inplace=True)\n",
    "df.set_index('day',inplace=True)\n",
    "print(df.head())"
   ]
  },
  {
   "cell_type": "code",
   "execution_count": 4,
   "id": "dbc7dc23",
   "metadata": {},
   "outputs": [
    {
     "name": "stdout",
     "output_type": "stream",
     "text": [
      "            temp  windspeed   event\n",
      "day                                \n",
      "2024-01-01  32.0   6.000000   Sunny\n",
      "2024-01-02  31.0   9.000000    Rain\n",
      "2024-01-05  28.0  10.000000   Sunny\n",
      "2024-01-06  33.0   7.000000   Sunny\n",
      "2024-01-07  33.0   8.333333  Cloudy\n",
      "2024-01-08  33.0   9.666667     NaN\n",
      "2024-01-09  33.0  11.000000   Sunny\n",
      "2024-01-10  35.0   9.000000    Rain\n",
      "2024-01-11  32.0   9.500000     NaN\n",
      "2024-01-12  35.0  10.000000  Cloudy\n"
     ]
    },
    {
     "name": "stderr",
     "output_type": "stream",
     "text": [
      "C:\\Users\\ravis\\AppData\\Local\\Temp\\ipykernel_13084\\1814880091.py:2: FutureWarning: DataFrame.interpolate with object dtype is deprecated and will raise in a future version. Call obj.infer_objects(copy=False) before interpolating instead.\n",
      "  newdf = df.interpolate(method = 'time')\n"
     ]
    }
   ],
   "source": [
    "# Interpolate function\n",
    "newdf = df.interpolate(method = 'time')\n",
    "print(newdf)"
   ]
  },
  {
   "cell_type": "code",
   "execution_count": null,
   "id": "6e85f876",
   "metadata": {},
   "outputs": [
    {
     "name": "stdout",
     "output_type": "stream",
     "text": [
      "            temp  windspeed   event\n",
      "day                                \n",
      "2024-01-01  32.0   6.000000   Sunny\n",
      "2024-01-02  31.0   9.000000    Rain\n",
      "2024-01-05  28.0  10.000000   Sunny\n",
      "2024-01-06  33.0   7.000000   Sunny\n",
      "2024-01-07  33.0   8.333333  Cloudy\n",
      "2024-01-08  33.0   9.666667     NaN\n",
      "2024-01-09  33.0  11.000000   Sunny\n",
      "2024-01-10  35.0   9.000000    Rain\n",
      "2024-01-11  32.0   9.500000     NaN\n",
      "2024-01-12  35.0  10.000000  Cloudy\n"
     ]
    },
    {
     "name": "stderr",
     "output_type": "stream",
     "text": [
      "C:\\Users\\ravis\\AppData\\Local\\Temp\\ipykernel_8516\\1528635286.py:2: FutureWarning: DataFrame.interpolate with object dtype is deprecated and will raise in a future version. Call obj.infer_objects(copy=False) before interpolating instead.\n",
      "  newdf = df.interpolate(method = 'time')\n"
     ]
    }
   ],
   "source": [
    "# Interpolate function with method time\n",
    "newdf = df.interpolate(method = 'time')\n",
    "print(newdf)"
   ]
  },
  {
   "cell_type": "code",
   "execution_count": 6,
   "id": "954ae332",
   "metadata": {},
   "outputs": [
    {
     "name": "stdout",
     "output_type": "stream",
     "text": [
      "            temp  windspeed   event\n",
      "day                                \n",
      "2024-01-01  32.0        6.0   Sunny\n",
      "2024-01-05  28.0       10.0   Sunny\n",
      "2024-01-06  33.0        7.0   Sunny\n",
      "2024-01-09  33.0       11.0   Sunny\n",
      "2024-01-10  35.0        9.0    Rain\n",
      "2024-01-12  35.0       10.0  Cloudy\n"
     ]
    }
   ],
   "source": [
    "# dropna() function\n",
    "newdf = df.dropna()\n",
    "print(newdf)"
   ]
  },
  {
   "cell_type": "code",
   "execution_count": null,
   "id": "f835bfe8",
   "metadata": {},
   "outputs": [
    {
     "name": "stdout",
     "output_type": "stream",
     "text": [
      "            temp  windspeed   event\n",
      "day                                \n",
      "2024-01-01  32.0        6.0   Sunny\n",
      "2024-01-02   NaN        9.0    Rain\n",
      "2024-01-05  28.0       10.0   Sunny\n",
      "2024-01-06  33.0        7.0   Sunny\n",
      "2024-01-07   NaN        NaN  Cloudy\n",
      "2024-01-09  33.0       11.0   Sunny\n",
      "2024-01-10  35.0        9.0    Rain\n",
      "2024-01-11  32.0        NaN     NaN\n",
      "2024-01-12  35.0       10.0  Cloudy\n"
     ]
    }
   ],
   "source": [
    "# dropna() function with how='all'\n",
    "newdf = df.dropna(how='all')\n",
    "print(newdf)"
   ]
  },
  {
   "cell_type": "code",
   "execution_count": 8,
   "id": "efdbf65a",
   "metadata": {},
   "outputs": [
    {
     "name": "stdout",
     "output_type": "stream",
     "text": [
      "            temp  windspeed   event\n",
      "day                                \n",
      "2024-01-01  32.0        6.0   Sunny\n",
      "2024-01-02   NaN        9.0    Rain\n",
      "2024-01-05  28.0       10.0   Sunny\n",
      "2024-01-06  33.0        7.0   Sunny\n",
      "2024-01-09  33.0       11.0   Sunny\n",
      "2024-01-10  35.0        9.0    Rain\n",
      "2024-01-12  35.0       10.0  Cloudy\n"
     ]
    }
   ],
   "source": [
    "# dropna() function with threshold\n",
    "newdf = df.dropna(thresh=2)\n",
    "print(newdf)"
   ]
  },
  {
   "cell_type": "code",
   "execution_count": 9,
   "id": "994ca39e",
   "metadata": {},
   "outputs": [
    {
     "name": "stdout",
     "output_type": "stream",
     "text": [
      "            temp  windspeed   event\n",
      "day                                \n",
      "2024-01-01  32.0        6.0   Sunny\n",
      "2024-01-02   NaN        9.0    Rain\n",
      "2024-01-05  28.0       10.0   Sunny\n",
      "2024-01-06  33.0        7.0   Sunny\n",
      "2024-01-07   NaN        NaN  Cloudy\n",
      "2024-01-08   NaN        NaN     NaN\n",
      "2024-01-09  33.0       11.0   Sunny\n",
      "2024-01-10  35.0        9.0    Rain\n",
      "2024-01-11  32.0        NaN     NaN\n",
      "2024-01-12  35.0       10.0  Cloudy\n"
     ]
    }
   ],
   "source": [
    "# REplace function\n",
    "import numpy as np\n",
    "newdf = df.replace(-9999,np.nan)\n",
    "print(newdf)"
   ]
  },
  {
   "cell_type": "code",
   "execution_count": 12,
   "id": "6ec44dac",
   "metadata": {},
   "outputs": [
    {
     "name": "stdout",
     "output_type": "stream",
     "text": [
      "            temp  windspeed   event\n",
      "day                                \n",
      "2024-01-01  32.0        6.0   Sunny\n",
      "2024-01-02   NaN        9.0    Rain\n",
      "2024-01-05  28.0       10.0   Sunny\n",
      "2024-01-06  33.0        7.0   Sunny\n",
      "2024-01-07   NaN        NaN  Cloudy\n",
      "2024-01-08   NaN        NaN     NaN\n",
      "2024-01-09  33.0       11.0   Sunny\n",
      "2024-01-10  35.0        9.0    Rain\n",
      "2024-01-11  32.0        NaN     NaN\n",
      "2024-01-12  35.0       10.0  Cloudy\n"
     ]
    }
   ],
   "source": [
    "# REplace function with list of columns\n",
    "import numpy as np\n",
    "newdf = df.replace(\n",
    "    {'temp':-9999,\n",
    "     'windspeed':-9999,\n",
    "     'event':0}\n",
    "     ,np.nan)\n",
    "print(newdf)"
   ]
  },
  {
   "cell_type": "code",
   "execution_count": 17,
   "id": "627d695c",
   "metadata": {},
   "outputs": [
    {
     "name": "stdout",
     "output_type": "stream",
     "text": [
      "           temp windspeed   event\n",
      "day                              \n",
      "2024-01-01  32C      6kph   Sunny\n",
      "2024-01-02  NaN         9    Rain\n",
      "2024-01-05   28        10   Sunny\n",
      "2024-01-06  33C         7   Sunny\n",
      "2024-01-07  NaN       NaN  Cloudy\n"
     ]
    }
   ],
   "source": [
    "import pandas as pd\n",
    "df = pd.read_csv('weather_temp.csv',parse_dates =['day'])\n",
    "#df.reset_index(drop=True,inplace=True)\n",
    "df.set_index('day',inplace=True)\n",
    "print(df.head())"
   ]
  },
  {
   "cell_type": "code",
   "execution_count": null,
   "id": "734bb9e0",
   "metadata": {},
   "outputs": [
    {
     "name": "stdout",
     "output_type": "stream",
     "text": [
      "           temp windspeed   event\n",
      "day                              \n",
      "2024-01-01   32         6   Sunny\n",
      "2024-01-02  NaN         9    Rain\n",
      "2024-01-05   28        10   Sunny\n",
      "2024-01-06   33         7   Sunny\n",
      "2024-01-07  NaN       NaN  Cloudy\n",
      "2024-01-08  NaN       NaN     NaN\n",
      "2024-01-09   33        11   Sunny\n",
      "2024-01-10   35         9    Rain\n",
      "2024-01-11   32       NaN     NaN\n",
      "2024-01-12   35        10  Cloudy\n"
     ]
    }
   ],
   "source": [
    "# Replace function using regex to replace A-Za-z only from temp and windspeed columns\n",
    "import numpy as np\n",
    "newdf = df.replace({\n",
    "    'temp':'[a-zA-Z]',\n",
    "    'windspeed':'[a-zA-Z]'\n",
    "    },'',regex= True)\n",
    "print(newdf)"
   ]
  },
  {
   "cell_type": "code",
   "execution_count": 3,
   "id": "1f332291",
   "metadata": {},
   "outputs": [
    {
     "name": "stdout",
     "output_type": "stream",
     "text": [
      "    student score\n",
      "0  student1     3\n",
      "1  student2     2\n",
      "2  student3     1\n"
     ]
    }
   ],
   "source": [
    "# replace list of values with another list of values\n",
    "import numpy as np\n",
    "import pandas as pd \n",
    "dict1  =   {'student':['student1','student2','student3'],\n",
    "            'score':['High','Medium','Low']}\n",
    "df = pd.DataFrame(dict1)\n",
    "newdf = df.replace(['High','Medium','Low'],['3','2','1'])\n",
    "print(newdf)\n",
    "            "
   ]
  }
 ],
 "metadata": {
  "kernelspec": {
   "display_name": "Python 3",
   "language": "python",
   "name": "python3"
  },
  "language_info": {
   "codemirror_mode": {
    "name": "ipython",
    "version": 3
   },
   "file_extension": ".py",
   "mimetype": "text/x-python",
   "name": "python",
   "nbconvert_exporter": "python",
   "pygments_lexer": "ipython3",
   "version": "3.13.7"
  }
 },
 "nbformat": 4,
 "nbformat_minor": 5
}
