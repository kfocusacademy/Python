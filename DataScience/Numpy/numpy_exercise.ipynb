{
 "cells": [
  {
   "cell_type": "code",
   "execution_count": null,
   "id": "8c0e36fb",
   "metadata": {},
   "outputs": [
    {
     "name": "stdout",
     "output_type": "stream",
     "text": [
      "[[1 2 3]\n",
      " [4 5 6]\n",
      " [7 8 9]]\n",
      "[[6 7]\n",
      " [8 9]]\n",
      "[[4 5]\n",
      " [6 7]]\n"
     ]
    }
   ],
   "source": [
    "# Numpy \n",
    "import numpy as np\n",
    "\n",
    "# Array with rank 3\n",
    "arr = np.array([[1,2,3],[4,5,6],[7,8,9]])\n",
    "print(arr)\n",
    "\n",
    "# Adding 1 number to every element of an array\n",
    "arr2 = np.array([[5,6],[7,8]])\n",
    "arr_add = arr2 + 1\n",
    "print(arr_add)\n",
    "\n",
    "# Substracting a number from every element of an array\n",
    "arr_sub = arr2 - 1\n",
    "print(arr_sub)\n",
    "\n",
    "\n"
   ]
  },
  {
   "cell_type": "code",
   "execution_count": null,
   "id": "4a6c8fe4",
   "metadata": {},
   "outputs": [
    {
     "name": "stdout",
     "output_type": "stream",
     "text": [
      "6\n",
      "(2, 3)\n",
      "[[1 2]\n",
      " [3 2]\n",
      " [3 3]]\n"
     ]
    }
   ],
   "source": [
    "# shape/size/reshape properties \n",
    "\n",
    "arr1 = np.array([[1,2,3],[2,3,3]])\n",
    "print(arr1.size) # number of elements \n",
    "print(arr1.shape) # size of array\n",
    "arr2 = arr1.reshape(3,2) # Moved array from 2 * 3 matrix to 3 * 2 matrix\n",
    "print(arr2)\n"
   ]
  },
  {
   "cell_type": "code",
   "execution_count": 11,
   "id": "ff2471c7",
   "metadata": {},
   "outputs": [
    {
     "name": "stdout",
     "output_type": "stream",
     "text": [
      "int64\n",
      "float64\n",
      "[[ 1  2]\n",
      " [ 5 44]] int64\n"
     ]
    }
   ],
   "source": [
    "# Numpy  - assigning data types to each array\n",
    "arr = np.array([[1,2],[3,4]])\n",
    "print(arr.dtype)\n",
    "\n",
    "arr = np.array([[1.0,2.1],[3.2,4.3]])\n",
    "print(arr.dtype)\n",
    "\n",
    "# Force data type while defnining an array\n",
    "arr = np.array([[1.2,2.4],[5.2,44]],dtype=np.int64)\n",
    "print(arr,arr.dtype)"
   ]
  },
  {
   "cell_type": "code",
   "execution_count": null,
   "id": "5aa7d6cb",
   "metadata": {},
   "outputs": [
    {
     "name": "stdout",
     "output_type": "stream",
     "text": [
      "Addition\n",
      " [[3 5]\n",
      " [4 6]]\n",
      "Substraction\n",
      " [[-1 -1]\n",
      " [ 2  2]]\n",
      "Transpose\n",
      " [[1 3]\n",
      " [2 4]]\n",
      "Multiplication\n",
      " [[ 4  7]\n",
      " [10 17]]\n"
     ]
    }
   ],
   "source": [
    "# Array operations (Add, Sub, Transpose,Multiply -matmul) using numpy \n",
    "arr1 = np.array([[1,2],[3,4]])\n",
    "arr2 = np.array([[2,3],[1,2]])\n",
    "arr_add = np.add(arr1,arr2)\n",
    "print('Addition\\n',arr_add)\n",
    "\n",
    "# Array Sub\n",
    "arr_sub = np.subtract(arr1,arr2)\n",
    "print('Substraction\\n',arr_sub)\n",
    "\n",
    "# Array transpose\n",
    "arr_trans = np.transpose(arr1)\n",
    "print('Transpose\\n',arr_trans)\n",
    "\n",
    "# Matrix multiplication \n",
    "arr_mul = np.matmul(arr1,arr2)\n",
    "print('Multiplication\\n',arr_mul)\n"
   ]
  },
  {
   "cell_type": "code",
   "execution_count": null,
   "id": "a1621ae8",
   "metadata": {},
   "outputs": [
    {
     "name": "stdout",
     "output_type": "stream",
     "text": [
      "[1 2 3 4]\n"
     ]
    }
   ],
   "source": [
    "# Flatten - convert 2D array to 1D by copying from the original array \n",
    "# Changes to flatten array wont impact main array \n",
    "arr1 = np.array([[1,2],[3,4]])\n",
    "arr2 = arr1.flatten()\n",
    "print(arr2)"
   ]
  },
  {
   "cell_type": "code",
   "execution_count": null,
   "id": "ebb0148e",
   "metadata": {},
   "outputs": [
    {
     "name": "stdout",
     "output_type": "stream",
     "text": [
      "[1 2 3 4]\n",
      "[[  1 100]\n",
      " [  3   4]] [  1 100   3   4]\n"
     ]
    }
   ],
   "source": [
    "# Ravel - convert 2D Array to 1D - but uses only reference of the original array\n",
    "arr1 = np.array([[1,2],[3,4]])\n",
    "arr2 = arr1.ravel()\n",
    "print(arr2)\n",
    "arr2[1] = 100  # Changed value reflects in both arr2 and arr1 as it shared the same reference \n",
    "print(arr1,arr2)"
   ]
  },
  {
   "cell_type": "code",
   "execution_count": null,
   "id": "27eca477",
   "metadata": {},
   "outputs": [
    {
     "name": "stdout",
     "output_type": "stream",
     "text": [
      "[3 7]\n"
     ]
    }
   ],
   "source": [
    "# sum of each row \n",
    "arr1 = np.array([[1,2],[3,4]])\n",
    "arr2 = np.array([[2,3],[1,2]])\n",
    "arr_add = arr1.sum(-1)\n",
    "print(arr_add)"
   ]
  },
  {
   "cell_type": "code",
   "execution_count": null,
   "id": "2080626a",
   "metadata": {},
   "outputs": [
    {
     "name": "stdout",
     "output_type": "stream",
     "text": [
      "[0 1 2 3 4 5 6 7 8 9]\n",
      "[1 2 3 4]\n",
      "[5 6 7 8 9]\n"
     ]
    }
   ],
   "source": [
    "# Slicing of an array(start, stop, step )\n",
    "arr1 = np.arange(10)\n",
    "print(arr1)\n",
    "# slicing\n",
    "print(arr1[1:5:1])  \n",
    "print(arr1[5::])"
   ]
  },
  {
   "cell_type": "code",
   "execution_count": null,
   "id": "cdb22141",
   "metadata": {},
   "outputs": [
    {
     "name": "stdout",
     "output_type": "stream",
     "text": [
      "[ 2  9 18 14  2]\n",
      "[[0.34536898 0.63131642 0.71640472 0.84176337]\n",
      " [0.48831929 0.62075316 0.6094505  0.26853762]\n",
      " [0.86915508 0.13436458 0.05712319 0.76554044]]\n"
     ]
    },
    {
     "data": {
      "text/plain": [
       "array([1, 4, 3, 5, 2])"
      ]
     },
     "execution_count": 53,
     "metadata": {},
     "output_type": "execute_result"
    }
   ],
   "source": [
    "# Random function\n",
    "\n",
    "# Random integers 1 D Array \n",
    "# ranint ()\n",
    "# rand() # Generates values between 0 and 1 \n",
    "# choice # random choice from a list \n",
    "# permutation # random values from a list\n",
    "import numpy as np\n",
    "\n",
    "arr1= np.random.randint(0,20,size= 5)\n",
    "print(arr1)\n",
    "\n",
    "# Generating 3x3 matrix between values 10 to 20\n",
    "matrix = np.random.randint(10, 21, size=(3, 3))\n",
    "print(matrix)\n",
    "\n",
    "# Random 2D Array\n",
    "arr1= np.random.rand(3,4) # generates an array of 3X4 matrix with values between 0 and 1 \n",
    "print(arr1) \n",
    "\n",
    "# random choice from a list \n",
    "lst= ['blue','red','black','violet']\n",
    "np.random.choice(lst,size=2)\n",
    "\n",
    "# random permutation \n",
    "val = [1,2,3,4,5]\n",
    "np.random.permutation (val)"
   ]
  },
  {
   "cell_type": "code",
   "execution_count": 62,
   "id": "dcf8c064",
   "metadata": {},
   "outputs": [
    {
     "name": "stdout",
     "output_type": "stream",
     "text": [
      "(array([ 1.        ,  1.18367347,  1.36734694,  1.55102041,  1.73469388,\n",
      "        1.91836735,  2.10204082,  2.28571429,  2.46938776,  2.65306122,\n",
      "        2.83673469,  3.02040816,  3.20408163,  3.3877551 ,  3.57142857,\n",
      "        3.75510204,  3.93877551,  4.12244898,  4.30612245,  4.48979592,\n",
      "        4.67346939,  4.85714286,  5.04081633,  5.2244898 ,  5.40816327,\n",
      "        5.59183673,  5.7755102 ,  5.95918367,  6.14285714,  6.32653061,\n",
      "        6.51020408,  6.69387755,  6.87755102,  7.06122449,  7.24489796,\n",
      "        7.42857143,  7.6122449 ,  7.79591837,  7.97959184,  8.16326531,\n",
      "        8.34693878,  8.53061224,  8.71428571,  8.89795918,  9.08163265,\n",
      "        9.26530612,  9.44897959,  9.63265306,  9.81632653, 10.        ]), np.float64(0.1836734693877551))\n",
      "[ 1.          1.18367347  1.36734694  1.55102041  1.73469388  1.91836735\n",
      "  2.10204082  2.28571429  2.46938776  2.65306122  2.83673469  3.02040816\n",
      "  3.20408163  3.3877551   3.57142857  3.75510204  3.93877551  4.12244898\n",
      "  4.30612245  4.48979592  4.67346939  4.85714286  5.04081633  5.2244898\n",
      "  5.40816327  5.59183673  5.7755102   5.95918367  6.14285714  6.32653061\n",
      "  6.51020408  6.69387755  6.87755102  7.06122449  7.24489796  7.42857143\n",
      "  7.6122449   7.79591837  7.97959184  8.16326531  8.34693878  8.53061224\n",
      "  8.71428571  8.89795918  9.08163265  9.26530612  9.44897959  9.63265306\n",
      "  9.81632653 10.        ]\n"
     ]
    }
   ],
   "source": [
    "# linspace - generates evenly spaces numbers over a specified internval \n",
    "# Syntax np.linspace(start, stop, num=50, endpoint=True, retstep=False, dtype=None, axis=0)\n",
    "\n",
    "arr = np.linspace(1,10,50,retstep=True) # Generated 50 numbers between 1 to 10\n",
    "print(arr)\n",
    "arr = np.linspace(1,10,50,retstep=False) # Generated 50 numbers between 1 to 10\n",
    "print(arr)\n",
    "\n",
    "\n",
    "\n"
   ]
  }
 ],
 "metadata": {
  "kernelspec": {
   "display_name": "Python 3",
   "language": "python",
   "name": "python3"
  },
  "language_info": {
   "codemirror_mode": {
    "name": "ipython",
    "version": 3
   },
   "file_extension": ".py",
   "mimetype": "text/x-python",
   "name": "python",
   "nbconvert_exporter": "python",
   "pygments_lexer": "ipython3",
   "version": "3.13.7"
  }
 },
 "nbformat": 4,
 "nbformat_minor": 5
}
