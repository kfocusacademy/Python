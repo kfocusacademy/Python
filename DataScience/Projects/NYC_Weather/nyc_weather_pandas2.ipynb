{
 "cells": [
  {
   "cell_type": "code",
   "execution_count": null,
   "id": "2b54c313",
   "metadata": {},
   "outputs": [],
   "source": [
    "# import pandas as pd\n",
    "\n",
    "# Load CSV\n",
    "df = pd.read_csv(r'c:\\Ravi\\Python\\DataScience\\Pandas\\NYC_Weather\\nyc_weather.csv')\n",
    "\n",
    "# Display first 5 rows\n",
    "print(df.head())"
   ]
  }
 ],
 "metadata": {
  "language_info": {
   "name": "python"
  }
 },
 "nbformat": 4,
 "nbformat_minor": 5
}
