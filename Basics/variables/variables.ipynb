{
 "cells": [
  {
   "cell_type": "code",
   "execution_count": 8,
   "id": "53f443a5",
   "metadata": {},
   "outputs": [
    {
     "name": "stdout",
     "output_type": "stream",
     "text": [
      "140720335559384 140720335559704\n",
      "2396487737456 140720335559704\n"
     ]
    }
   ],
   "source": [
    "var1 = 10\n",
    "var2 = 10\n",
    "\n",
    "var1 = var2 = 20\n",
    "var1,var2 = 10,20 \n",
    "print(id(var1),id(var2))\n",
    "var1 = \"Kfocus\"\n",
    "print(id(var1),id(var2))"
   ]
  },
  {
   "cell_type": "code",
   "execution_count": 11,
   "id": "eec10931",
   "metadata": {},
   "outputs": [
    {
     "name": "stdout",
     "output_type": "stream",
     "text": [
      "30\n"
     ]
    }
   ],
   "source": [
    "#sum = 0 \n",
    "val2 = 0\n",
    "\n",
    "def add(num1,num2):\n",
    "    sum = num1+num2\n",
    "    return sum\n",
    "\n",
    "\n",
    "val1 = add(10,20)\n",
    "print(val1)\n"
   ]
  },
  {
   "cell_type": "code",
   "execution_count": 61,
   "id": "2c5f5afb",
   "metadata": {},
   "outputs": [
    {
     "data": {
      "text/plain": [
       "1333"
      ]
     },
     "execution_count": 61,
     "metadata": {},
     "output_type": "execute_result"
    }
   ],
   "source": [
    "max(10.33,1333)"
   ]
  },
  {
   "cell_type": "code",
   "execution_count": 50,
   "id": "35a2999b",
   "metadata": {},
   "outputs": [
    {
     "name": "stdout",
     "output_type": "stream",
     "text": [
      "Value1 233\n",
      "Value1 2444\n",
      "Value1 $  233\n",
      "Value1 $ 2444\n"
     ]
    }
   ],
   "source": [
    "val1 = 10.233\n",
    "val2 = 233\n",
    "val3 = 2444\n",
    "print(f\"Value1 {val2}\")\n",
    "print(f\"Value1 {val3}\")\n",
    "\n",
    "print(f\"Value1 ${val2:>5d}\")\n",
    "print(f\"Value1 ${val3:>5d}\")\n"
   ]
  },
  {
   "cell_type": "code",
   "execution_count": null,
   "id": "78d0897b",
   "metadata": {},
   "outputs": [
    {
     "name": "stdout",
     "output_type": "stream",
     "text": [
      "[0, 2, 4, 6, 8]\n"
     ]
    }
   ],
   "source": []
  },
  {
   "cell_type": "code",
   "execution_count": 19,
   "id": "b44a9821",
   "metadata": {},
   "outputs": [
    {
     "name": "stdout",
     "output_type": "stream",
     "text": [
      "1111111111111111111111112222222222222222222222222222\n",
      "<class 'int'>\n"
     ]
    }
   ],
   "source": [
    "var1 = 1111111111111111111111112222222222222222222222222222\n",
    "print(var1) \n",
    "print(type(var1))"
   ]
  },
  {
   "cell_type": "code",
   "execution_count": 26,
   "id": "7893d692",
   "metadata": {},
   "outputs": [
    {
     "name": "stdout",
     "output_type": "stream",
     "text": [
      "7\n"
     ]
    }
   ],
   "source": [
    "print(0b111)"
   ]
  },
  {
   "cell_type": "code",
   "execution_count": 24,
   "id": "7825aeb4",
   "metadata": {},
   "outputs": [
    {
     "name": "stdout",
     "output_type": "stream",
     "text": [
      "585\n"
     ]
    }
   ],
   "source": [
    "print(0o1111)"
   ]
  },
  {
   "cell_type": "code",
   "execution_count": 24,
   "id": "dfe05729",
   "metadata": {},
   "outputs": [
    {
     "name": "stdout",
     "output_type": "stream",
     "text": [
      "1:2 : [2] 2\n",
      "2:2 : [2, 5] 7\n",
      "1:2 : [2, 5] 7\n",
      "2:2 : [2, 5, 1] 8\n",
      "1:2 : [2, 5, 1] 8\n",
      "2:2 : [2, 5, 1, 4] 12\n",
      "1:2 : [2, 5, 1, 4] 12\n",
      "2:2 : [2] 2\n",
      "1:5 : [5] 5\n",
      "2:5 : [5, 1] 6\n",
      "1:5 : [5, 1] 6\n",
      "2:5 : [5, 1, 4] 10\n",
      "1:5 : [5, 1, 4] 10\n",
      "2:5 : [5] 5\n",
      "1:1 : [1] 1\n",
      "2:1 : [1, 4] 5\n",
      "1:1 : [1, 4] 5\n",
      "2:1 : [1, 4, 3] 8\n",
      "1:4 : [4] 4\n",
      "2:4 : [4, 3] 7\n",
      "[[5, 1, 4]]\n"
     ]
    }
   ],
   "source": [
    "#arr = [5, 2, 3, 10, 6, 8]\n",
    "arr = [2, 5, 1, 4, 3]\n",
    "target = 10\n",
    "subset1 = []\n",
    "finalset = []\n",
    "tempSum = 0\n",
    "\n",
    "for i in range(len(arr)):\n",
    "    tempSum = arr[i]\n",
    "    subset1.append(arr[i])\n",
    "    for j in range(i,len(arr)):\n",
    "        if (i==j and tempSum == target):\n",
    "            finalset.append(subset1)\n",
    "            tempSum = arr[i]\n",
    "            subset1 = []\n",
    "            #subset1.append (arr[i])\n",
    "        elif (i==j):\n",
    "            continue\n",
    "        tempsum = tempSum +arr[j]\n",
    "        print('1:'+ str(arr[i]) + ' : ' + str(subset1) + ' ' + str(tempSum))\n",
    "        if (tempSum < target):\n",
    "            subset1.append(arr[j])\n",
    "            tempSum = tempSum + arr[j]\n",
    "        elif (tempSum == target):\n",
    "            finalset.append(subset1)\n",
    "            tempSum = arr[i]\n",
    "            subset1 = []\n",
    "            subset1.append (arr[i])\n",
    "        elif (tempSum > target):\n",
    "            tempSum = arr[i]\n",
    "            subset1 = []\n",
    "            subset1.append (arr[i])\n",
    "        print('2:'+str(arr[i]) + ' : ' + str(subset1) + ' ' + str(tempSum))\n",
    "    subset1 = []\n",
    "    tempSum = 0\n",
    "print(finalset)\n"
   ]
  },
  {
   "cell_type": "code",
   "execution_count": null,
   "id": "a65d1e64",
   "metadata": {},
   "outputs": [],
   "source": []
  }
 ],
 "metadata": {
  "kernelspec": {
   "display_name": "Python 3",
   "language": "python",
   "name": "python3"
  },
  "language_info": {
   "codemirror_mode": {
    "name": "ipython",
    "version": 3
   },
   "file_extension": ".py",
   "mimetype": "text/x-python",
   "name": "python",
   "nbconvert_exporter": "python",
   "pygments_lexer": "ipython3",
   "version": "3.12.3"
  }
 },
 "nbformat": 4,
 "nbformat_minor": 5
}
