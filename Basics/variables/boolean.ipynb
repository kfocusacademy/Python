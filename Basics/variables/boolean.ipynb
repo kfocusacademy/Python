{
 "cells": [
  {
   "cell_type": "markdown",
   "id": "b68705b5-1fdb-4707-b226-9de0e19e5750",
   "metadata": {},
   "source": [
    "## Boolean"
   ]
  },
  {
   "cell_type": "code",
   "execution_count": 6,
   "id": "cbc2b47e-415a-463d-a67c-db2ed1ba6916",
   "metadata": {},
   "outputs": [
    {
     "data": {
      "text/plain": [
       "1.0"
      ]
     },
     "execution_count": 6,
     "metadata": {},
     "output_type": "execute_result"
    }
   ],
   "source": [
    "float(1)"
   ]
  },
  {
   "cell_type": "code",
   "execution_count": 2,
   "id": "0b59cd9d-4121-45dc-bbc7-6b62fb084f7a",
   "metadata": {},
   "outputs": [
    {
     "data": {
      "text/plain": [
       "True"
      ]
     },
     "execution_count": 2,
     "metadata": {},
     "output_type": "execute_result"
    }
   ],
   "source": [
    "bool(True)"
   ]
  },
  {
   "cell_type": "code",
   "execution_count": 3,
   "id": "61c70ea9-30d3-47dc-a912-c26e7dcf9d8c",
   "metadata": {},
   "outputs": [
    {
     "data": {
      "text/plain": [
       "False"
      ]
     },
     "execution_count": 3,
     "metadata": {},
     "output_type": "execute_result"
    }
   ],
   "source": [
    "bool(False)"
   ]
  },
  {
   "cell_type": "code",
   "execution_count": 6,
   "id": "a3513677-3413-4433-80b9-e887c5c07db0",
   "metadata": {},
   "outputs": [
    {
     "data": {
      "text/plain": [
       "False"
      ]
     },
     "execution_count": 6,
     "metadata": {},
     "output_type": "execute_result"
    }
   ],
   "source": [
    "bool(1!=1)"
   ]
  },
  {
   "cell_type": "code",
   "execution_count": 9,
   "id": "bcec92da-22c4-4efb-8700-d7c45917927e",
   "metadata": {},
   "outputs": [
    {
     "data": {
      "text/plain": [
       "False"
      ]
     },
     "execution_count": 9,
     "metadata": {},
     "output_type": "execute_result"
    }
   ],
   "source": [
    "bool({})"
   ]
  },
  {
   "cell_type": "code",
   "execution_count": 15,
   "id": "dbd7266b-4edf-486e-87f4-e958851e1f3d",
   "metadata": {},
   "outputs": [
    {
     "name": "stdout",
     "output_type": "stream",
     "text": [
      "a and b are not equal\n"
     ]
    }
   ],
   "source": [
    "a = 5\n",
    "b = 6\n",
    "if round(a-b):\n",
    "    print ('a and b are not equal')"
   ]
  },
  {
   "cell_type": "markdown",
   "id": "3fc17aab-cc31-4ff1-98d6-13fd5caa1541",
   "metadata": {},
   "source": [
    "## Boolean Logic "
   ]
  },
  {
   "cell_type": "code",
   "execution_count": 24,
   "id": "793d2f67-18bc-4c15-a82d-55eff57194a9",
   "metadata": {},
   "outputs": [
    {
     "name": "stdout",
     "output_type": "stream",
     "text": [
      "go for a walk\n"
     ]
    }
   ],
   "source": [
    "weatherisnice = True\n",
    "haveUmbrella = True\n",
    "if  not (weatherisnice or haveUmbrella):\n",
    "    print('Stay inside')\n",
    "else:\n",
    "    print('go for a walk')\n",
    "    "
   ]
  },
  {
   "cell_type": "code",
   "execution_count": null,
   "id": "218abdd8-0770-4466-aa17-f5f1d125dcce",
   "metadata": {},
   "outputs": [],
   "source": []
  },
  {
   "cell_type": "code",
   "execution_count": null,
   "id": "2cf41272-056b-4020-a90d-779e7520d17c",
   "metadata": {},
   "outputs": [],
   "source": []
  }
 ],
 "metadata": {
  "kernelspec": {
   "display_name": "Python 3 (ipykernel)",
   "language": "python",
   "name": "python3"
  },
  "language_info": {
   "codemirror_mode": {
    "name": "ipython",
    "version": 3
   },
   "file_extension": ".py",
   "mimetype": "text/x-python",
   "name": "python",
   "nbconvert_exporter": "python",
   "pygments_lexer": "ipython3",
   "version": "3.12.3"
  }
 },
 "nbformat": 4,
 "nbformat_minor": 5
}
