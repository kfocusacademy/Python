{
 "cells": [
  {
   "cell_type": "markdown",
   "id": "da2b4211-3dab-4788-ac8f-38225ff85336",
   "metadata": {},
   "source": [
    "## To covert a hexa to a decimal number"
   ]
  },
  {
   "cell_type": "code",
   "execution_count": 17,
   "id": "570704d9-3447-4824-a412-343e6ce5c9be",
   "metadata": {},
   "outputs": [],
   "source": [
    "hexnumber = {'0': 0,'1': 1,'2': 2,'3': 3,'4': 4,'5': 5,\n",
    "             '6': 6,'7': 7,'8': 8,'9': 9,'A': 10,'B': 11,'C': 12\n",
    "            }\n",
    "\n",
    "def hexToDecimal(hexnum):\n",
    "    for char in hexnum:\n",
    "        if char not in hexnumbers:\n",
    "            return None\n",
    "    print(hexnum[2])\n",
    "    \n",
    "    if len(hexnum) == 3:\n",
    "        return ((hexnumber[hexnum[0]]*256) + (hexnumber[hexnum[1]]* 16) + (hexnumber[hexnum[2]]))\n",
    "        \n",
    "    if len(hexnum) == 2:\n",
    "        return ( hexnumber[hexnum[1]]* 16 + hexnumber[hexnum[2]])\n",
    "\n",
    "    if len(hexnum) == 1:\n",
    "        return (hexnumber[hexnum[2]]* 2)\n"
   ]
  },
  {
   "cell_type": "code",
   "execution_count": 18,
   "id": "1bbc2fa1-2b42-4f5f-90cc-b5d03ab0b5ad",
   "metadata": {},
   "outputs": [
    {
     "name": "stdout",
     "output_type": "stream",
     "text": [
      "2\n"
     ]
    },
    {
     "data": {
      "text/plain": [
       "2578"
      ]
     },
     "execution_count": 18,
     "metadata": {},
     "output_type": "execute_result"
    }
   ],
   "source": [
    "hexToDecimal('A12')"
   ]
  },
  {
   "cell_type": "code",
   "execution_count": null,
   "id": "fedbca0d-b559-4ce0-b27d-469047767b1d",
   "metadata": {},
   "outputs": [],
   "source": []
  }
 ],
 "metadata": {
  "kernelspec": {
   "display_name": "Python 3 (ipykernel)",
   "language": "python",
   "name": "python3"
  },
  "language_info": {
   "codemirror_mode": {
    "name": "ipython",
    "version": 3
   },
   "file_extension": ".py",
   "mimetype": "text/x-python",
   "name": "python",
   "nbconvert_exporter": "python",
   "pygments_lexer": "ipython3",
   "version": "3.12.3"
  }
 },
 "nbformat": 4,
 "nbformat_minor": 5
}
