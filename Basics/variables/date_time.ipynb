{
 "cells": [
  {
   "cell_type": "code",
   "execution_count": null,
   "id": "15ad44f4",
   "metadata": {},
   "outputs": [
    {
     "name": "stdout",
     "output_type": "stream",
     "text": [
      "2025-07-13 18:26:33.218458+05:30\n"
     ]
    }
   ],
   "source": [
    "# Displaying time in Asia/Kolata timezone\n",
    "import datetime\n",
    "import pytz\n",
    "current_time = datetime.datetime.now(pytz.timezone('Asia/Kolkata'))\n",
    "print(current_time)\n"
   ]
  },
  {
   "cell_type": "code",
   "execution_count": 16,
   "id": "d9777799",
   "metadata": {},
   "outputs": [
    {
     "name": "stdout",
     "output_type": "stream",
     "text": [
      "13:07:2025 18.36.37\n"
     ]
    }
   ],
   "source": [
    "import time\n",
    "curr_time = time.strftime(\"%d:%m:%Y %H.%M.%S\",time.localtime())\n",
    "print(curr_time)\n"
   ]
  },
  {
   "cell_type": "code",
   "execution_count": 19,
   "id": "c762b769",
   "metadata": {},
   "outputs": [
    {
     "name": "stdout",
     "output_type": "stream",
     "text": [
      "6\n"
     ]
    }
   ],
   "source": [
    "import datetime\n",
    "dt = datetime.date.weekday(datetime.date.today())\n",
    "print(dt)"
   ]
  },
  {
   "cell_type": "code",
   "execution_count": 26,
   "id": "34ca6409",
   "metadata": {},
   "outputs": [
    {
     "name": "stdout",
     "output_type": "stream",
     "text": [
      "current year 2025\n"
     ]
    }
   ],
   "source": [
    "import datetime\n",
    "today = datetime.date.today()\n",
    "# to print the present year\n",
    "print(f\"current year {today.year}\")"
   ]
  },
  {
   "cell_type": "code",
   "execution_count": 32,
   "id": "7446715b",
   "metadata": {},
   "outputs": [
    {
     "name": "stdout",
     "output_type": "stream",
     "text": [
      "total days 193 days, 0:00:00\n"
     ]
    }
   ],
   "source": [
    "import datetime\n",
    "today = datetime.date.today()\n",
    "startdt = datetime.date(2025,1,1)\n",
    "print(f\"total days {abs(startdt-today)}\")\n"
   ]
  },
  {
   "cell_type": "code",
   "execution_count": 43,
   "id": "577df340",
   "metadata": {},
   "outputs": [
    {
     "name": "stdout",
     "output_type": "stream",
     "text": [
      "2020-01-26 00:00:00\n",
      "AM\n"
     ]
    }
   ],
   "source": [
    "import datetime\n",
    "dt = datetime.datetime.strptime('26/01/2020',\"%d/%m/%Y\")\n",
    "print(dt)\n",
    "print(dt.strftime(\"%p\"))"
   ]
  }
 ],
 "metadata": {
  "kernelspec": {
   "display_name": "Python 3",
   "language": "python",
   "name": "python3"
  },
  "language_info": {
   "codemirror_mode": {
    "name": "ipython",
    "version": 3
   },
   "file_extension": ".py",
   "mimetype": "text/x-python",
   "name": "python",
   "nbconvert_exporter": "python",
   "pygments_lexer": "ipython3",
   "version": "3.12.3"
  }
 },
 "nbformat": 4,
 "nbformat_minor": 5
}
