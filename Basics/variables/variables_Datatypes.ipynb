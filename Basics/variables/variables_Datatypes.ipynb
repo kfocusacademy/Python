{
 "cells": [
  {
   "cell_type": "markdown",
   "id": "48005b5b-23f7-4278-975b-b96b3fcefe37",
   "metadata": {},
   "source": [
    "# Variables "
   ]
  },
  {
   "cell_type": "markdown",
   "id": "d606ae1a-2d34-430d-bdb9-aec040591653",
   "metadata": {},
   "source": [
    "## Defining a variable "
   ]
  },
  {
   "cell_type": "code",
   "execution_count": 1,
   "id": "92c578e5-2220-4c4e-8deb-b1d4a3871f06",
   "metadata": {},
   "outputs": [],
   "source": [
    "x = 5"
   ]
  },
  {
   "cell_type": "code",
   "execution_count": 3,
   "id": "8f5404e5-882a-41ab-a7f4-f9487131cb29",
   "metadata": {},
   "outputs": [
    {
     "name": "stdout",
     "output_type": "stream",
     "text": [
      "5\n"
     ]
    }
   ],
   "source": [
    "print(x)"
   ]
  },
  {
   "cell_type": "code",
   "execution_count": 4,
   "id": "f2c83ea3-e1b9-4e7a-880a-8bf33ecdcf94",
   "metadata": {},
   "outputs": [
    {
     "data": {
      "text/plain": [
       "5"
      ]
     },
     "execution_count": 4,
     "metadata": {},
     "output_type": "execute_result"
    }
   ],
   "source": [
    "x"
   ]
  },
  {
   "cell_type": "code",
   "execution_count": 9,
   "id": "a34cfbb3-4478-41c3-b87a-a663ed5b0efb",
   "metadata": {},
   "outputs": [],
   "source": [
    "name = 'Ryan'"
   ]
  },
  {
   "cell_type": "code",
   "execution_count": 10,
   "id": "74130630-ceec-4f86-8908-da60ddd9893d",
   "metadata": {},
   "outputs": [
    {
     "name": "stdout",
     "output_type": "stream",
     "text": [
      "Ryan\n"
     ]
    }
   ],
   "source": [
    "print (name)"
   ]
  },
  {
   "cell_type": "markdown",
   "id": "cd8b70c4-4924-478e-a560-c93f12a322ed",
   "metadata": {},
   "source": [
    "## Integers"
   ]
  },
  {
   "cell_type": "code",
   "execution_count": 11,
   "id": "23bb8d17-bb52-44d7-87c7-9e811f717085",
   "metadata": {},
   "outputs": [
    {
     "data": {
      "text/plain": [
       "int"
      ]
     },
     "execution_count": 11,
     "metadata": {},
     "output_type": "execute_result"
    }
   ],
   "source": [
    "type(x)"
   ]
  },
  {
   "cell_type": "code",
   "execution_count": 12,
   "id": "a386741e-467a-4408-b39f-3e02d36ef6ab",
   "metadata": {},
   "outputs": [
    {
     "data": {
      "text/plain": [
       "float"
      ]
     },
     "execution_count": 12,
     "metadata": {},
     "output_type": "execute_result"
    }
   ],
   "source": [
    "type(0.233)"
   ]
  },
  {
   "cell_type": "markdown",
   "id": "4a4a8fc7-1c7c-4e68-a634-edcfb3215fc3",
   "metadata": {},
   "source": [
    "## Strings"
   ]
  },
  {
   "cell_type": "code",
   "execution_count": 14,
   "id": "76d421c3-4846-4d53-af84-344e2b87554e",
   "metadata": {},
   "outputs": [
    {
     "data": {
      "text/plain": [
       "'String 1 String 2'"
      ]
     },
     "execution_count": 14,
     "metadata": {},
     "output_type": "execute_result"
    }
   ],
   "source": [
    "'String 1' + ' String 2'"
   ]
  },
  {
   "cell_type": "markdown",
   "id": "e9901f10-b9ce-44ce-ba72-64b7f1ca9384",
   "metadata": {},
   "source": [
    "## Boolean"
   ]
  },
  {
   "cell_type": "code",
   "execution_count": null,
   "id": "fb61493f-4f15-4a1d-86d3-dbddc7ed813e",
   "metadata": {},
   "outputs": [],
   "source": []
  },
  {
   "cell_type": "code",
   "execution_count": null,
   "id": "bf76c189-0403-40e4-9f0f-c242857a4b11",
   "metadata": {},
   "outputs": [],
   "source": []
  }
 ],
 "metadata": {
  "kernelspec": {
   "display_name": "Python 3 (ipykernel)",
   "language": "python",
   "name": "python3"
  },
  "language_info": {
   "codemirror_mode": {
    "name": "ipython",
    "version": 3
   },
   "file_extension": ".py",
   "mimetype": "text/x-python",
   "name": "python",
   "nbconvert_exporter": "python",
   "pygments_lexer": "ipython3",
   "version": "3.12.3"
  }
 },
 "nbformat": 4,
 "nbformat_minor": 5
}
