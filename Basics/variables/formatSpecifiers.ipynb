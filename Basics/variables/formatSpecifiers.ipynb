{
 "cells": [
  {
   "cell_type": "code",
   "execution_count": null,
   "id": "fcac94b6",
   "metadata": {},
   "outputs": [
    {
     "name": "stdout",
     "output_type": "stream",
     "text": [
      "Odd\n"
     ]
    }
   ],
   "source": [
    "numcheck  = lambda x: \"Even\" if x%2 ==0 else \"Odd\"\n",
    "\n",
    "print(numcheck(111))\n",
    "\n",
    "\n",
    "\n"
   ]
  },
  {
   "cell_type": "code",
   "execution_count": 17,
   "id": "9160bc10",
   "metadata": {},
   "outputs": [
    {
     "name": "stdout",
     "output_type": "stream",
     "text": [
      "140720206977784 140720206977784\n",
      "2498346270832 140720206977784\n",
      "<class 'float'> <class 'int'>\n"
     ]
    }
   ],
   "source": [
    "num1, num2 = 11,11\n",
    "print(id(num1),id(num2))\n",
    "num1 = 20.1\n",
    "print(id(num1),id(num2))\n",
    "print(type(num1),type(num2))"
   ]
  },
  {
   "cell_type": "code",
   "execution_count": 31,
   "id": "560ff8fa",
   "metadata": {},
   "outputs": [
    {
     "name": "stdout",
     "output_type": "stream",
     "text": [
      "Total cost is 1002.99.\n",
      "hello\n"
     ]
    }
   ],
   "source": [
    "cost = 1002.99\n",
    "quantity = 100\n",
    "print(f\"Total cost is {cost}.\")\n",
    "print(f\"{'hello':>}\")"
   ]
  },
  {
   "cell_type": "code",
   "execution_count": 13,
   "id": "6d359e40",
   "metadata": {},
   "outputs": [
    {
     "name": "stdout",
     "output_type": "stream",
     "text": [
      "price1 is $3.145550\n",
      "price2 is $ -9,888.24\n",
      "price3 is $     12.44\n",
      "my age is 22\n"
     ]
    }
   ],
   "source": [
    "str = \"My name\"\n",
    "price1 = 3.14555\n",
    "price2 = -9888.24\n",
    "price3 = 12.44\n",
    "age = 22 \n",
    "print(f\"price1 is ${price1:2f}\")\n",
    "print(f\"price2 is ${price2:>10,.2f}\")\n",
    "print(f\"price3 is ${price3:>10,.2f}\")\n",
    "print(f\"my age is {age:02d}\")\n",
    "\n"
   ]
  },
  {
   "cell_type": "code",
   "execution_count": 18,
   "id": "b6821c60",
   "metadata": {},
   "outputs": [
    {
     "name": "stdout",
     "output_type": "stream",
     "text": [
      "3.00\n"
     ]
    }
   ],
   "source": [
    "try:\n",
    "    val = 1000/333\n",
    "    print(f\"{val:.2f}\")\n",
    "except ZeroDivisionError:\n",
    "    print(\"can't be divided by 0\")\n",
    "\n"
   ]
  },
  {
   "cell_type": "code",
   "execution_count": 20,
   "id": "291f73d7",
   "metadata": {},
   "outputs": [
    {
     "name": "stdout",
     "output_type": "stream",
     "text": [
      "value can't be 0\n"
     ]
    }
   ],
   "source": [
    "def set(age):\n",
    "    if age<=0:\n",
    "        raise ValueError(\"value can't be 0\")\n",
    "    print(f\"age set to {age:2d}\")\n",
    "\n",
    "\n",
    "try:\n",
    "    set(0)\n",
    "except ValueError as e:\n",
    "    print(e)\n",
    "    \n",
    "            "
   ]
  }
 ],
 "metadata": {
  "kernelspec": {
   "display_name": "Python 3",
   "language": "python",
   "name": "python3"
  },
  "language_info": {
   "codemirror_mode": {
    "name": "ipython",
    "version": 3
   },
   "file_extension": ".py",
   "mimetype": "text/x-python",
   "name": "python",
   "nbconvert_exporter": "python",
   "pygments_lexer": "ipython3",
   "version": "3.12.3"
  }
 },
 "nbformat": 4,
 "nbformat_minor": 5
}
