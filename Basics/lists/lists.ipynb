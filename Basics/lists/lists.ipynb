{
 "cells": [
  {
   "cell_type": "markdown",
   "id": "805e973e-bcea-4301-b297-c2534cceb356",
   "metadata": {},
   "source": [
    "## Slicing Lists"
   ]
  },
  {
   "cell_type": "code",
   "execution_count": 2,
   "id": "74d4e38a-05ad-4ca1-be39-b2b34e241155",
   "metadata": {},
   "outputs": [
    {
     "name": "stdout",
     "output_type": "stream",
     "text": [
      "6\n"
     ]
    },
    {
     "data": {
      "text/plain": [
       "[1, 2, 3, 4, 5, 6]"
      ]
     },
     "execution_count": 2,
     "metadata": {},
     "output_type": "execute_result"
    }
   ],
   "source": [
    "myList = [1,2,3,4,5,6]\n",
    "a = len(myList)\n",
    "print (a)\n",
    "myList[0:len(myList)]\n"
   ]
  },
  {
   "cell_type": "code",
   "execution_count": 64,
   "id": "40110601-a2b1-475f-8316-36f7cbb130ee",
   "metadata": {},
   "outputs": [
    {
     "ename": "TypeError",
     "evalue": "'list' object is not callable",
     "output_type": "error",
     "traceback": [
      "\u001b[1;31m---------------------------------------------------------------------------\u001b[0m",
      "\u001b[1;31mTypeError\u001b[0m                                 Traceback (most recent call last)",
      "Cell \u001b[1;32mIn[64], line 1\u001b[0m\n\u001b[1;32m----> 1\u001b[0m mylist2 \u001b[38;5;241m=\u001b[39m \u001b[38;5;28;43mlist\u001b[39;49m\u001b[43m(\u001b[49m\u001b[38;5;28;43mrange\u001b[39;49m\u001b[43m(\u001b[49m\u001b[38;5;241;43m100\u001b[39;49m\u001b[43m)\u001b[49m\u001b[43m)\u001b[49m\n\u001b[0;32m      2\u001b[0m \u001b[38;5;28mprint\u001b[39m(mylist2)\n",
      "\u001b[1;31mTypeError\u001b[0m: 'list' object is not callable"
     ]
    }
   ],
   "source": [
    "mylist2 = list(range(100))\n",
    "print(mylist2)"
   ]
  },
  {
   "cell_type": "code",
   "execution_count": 13,
   "id": "381af281-ae10-4c3f-8c40-2df154a5836d",
   "metadata": {},
   "outputs": [
    {
     "data": {
      "text/plain": [
       "[0, 5, 10, 15, 20, 25, 30, 35, 40, 45, 50, 55, 60, 65, 70, 75, 80, 85, 90, 95]"
      ]
     },
     "execution_count": 13,
     "metadata": {},
     "output_type": "execute_result"
    }
   ],
   "source": [
    "mylist2[::5]"
   ]
  },
  {
   "cell_type": "code",
   "execution_count": null,
   "id": "f4823c85-9f7f-4bd6-8008-7d1d3a2de6ed",
   "metadata": {},
   "outputs": [],
   "source": []
  },
  {
   "cell_type": "markdown",
   "id": "2068ec4b-1c82-43bc-a059-589a55a6b03b",
   "metadata": {},
   "source": [
    "## Modifying Lists"
   ]
  },
  {
   "cell_type": "code",
   "execution_count": 15,
   "id": "d685a836-bdc2-418c-ad5c-d02adb2b48bf",
   "metadata": {},
   "outputs": [],
   "source": [
    "mylist = [1,2,3,4]"
   ]
  },
  {
   "cell_type": "code",
   "execution_count": 27,
   "id": "67a554cd-924f-4cb3-bc6d-51c640e630c8",
   "metadata": {},
   "outputs": [
    {
     "data": {
      "text/plain": [
       "[1, 2, 3, 4]"
      ]
     },
     "execution_count": 27,
     "metadata": {},
     "output_type": "execute_result"
    }
   ],
   "source": [
    "mylist"
   ]
  },
  {
   "cell_type": "code",
   "execution_count": 16,
   "id": "89151014-e20f-4df3-ac60-e06da855c1bd",
   "metadata": {},
   "outputs": [],
   "source": [
    "mylist.append(5)"
   ]
  },
  {
   "cell_type": "code",
   "execution_count": 29,
   "id": "30c05e45-181b-49e2-86e1-034f571f3182",
   "metadata": {},
   "outputs": [
    {
     "data": {
      "text/plain": [
       "[1, 2, 3, 4, 5]"
      ]
     },
     "execution_count": 29,
     "metadata": {},
     "output_type": "execute_result"
    }
   ],
   "source": [
    "mylist"
   ]
  },
  {
   "cell_type": "code",
   "execution_count": 17,
   "id": "fec3339f-9820-4f36-81dd-00b25ff1a285",
   "metadata": {},
   "outputs": [],
   "source": [
    "mylist.insert(4,'New Num')"
   ]
  },
  {
   "cell_type": "code",
   "execution_count": 23,
   "id": "a694bdbd-63f4-483e-9097-5b943ce4d715",
   "metadata": {},
   "outputs": [
    {
     "data": {
      "text/plain": [
       "[1, 2, 3, 'New Num']"
      ]
     },
     "execution_count": 23,
     "metadata": {},
     "output_type": "execute_result"
    }
   ],
   "source": [
    "mylist"
   ]
  },
  {
   "cell_type": "code",
   "execution_count": 22,
   "id": "6b899e13-0a3e-4766-ab41-c0ef86ea5253",
   "metadata": {},
   "outputs": [],
   "source": [
    "mylist.remove(4)"
   ]
  },
  {
   "cell_type": "code",
   "execution_count": 37,
   "id": "ce23d7d8-b335-4f51-a47e-de85c4e8abe4",
   "metadata": {},
   "outputs": [
    {
     "data": {
      "text/plain": [
       "4"
      ]
     },
     "execution_count": 37,
     "metadata": {},
     "output_type": "execute_result"
    }
   ],
   "source": [
    "mylist.pop()"
   ]
  },
  {
   "cell_type": "code",
   "execution_count": 38,
   "id": "df8ee2fa-d5a0-4737-bf8f-8f178a9971df",
   "metadata": {},
   "outputs": [
    {
     "data": {
      "text/plain": [
       "[1, 2, 3]"
      ]
     },
     "execution_count": 38,
     "metadata": {},
     "output_type": "execute_result"
    }
   ],
   "source": [
    "mylist"
   ]
  },
  {
   "cell_type": "code",
   "execution_count": 40,
   "id": "089649ba-4425-4c91-8439-37f586f5f579",
   "metadata": {},
   "outputs": [
    {
     "data": {
      "text/plain": [
       "[1, 2, 3, 4, 5]"
      ]
     },
     "execution_count": 40,
     "metadata": {},
     "output_type": "execute_result"
    }
   ],
   "source": [
    "a = [1,2,3,4]\n",
    "b = a\n",
    "a.append(5)\n",
    "b"
   ]
  },
  {
   "cell_type": "code",
   "execution_count": 7,
   "id": "5ddb2674-5d66-4241-bd08-a1ce95f03b24",
   "metadata": {},
   "outputs": [
    {
     "data": {
      "text/plain": [
       "[1, 2, 3, 4, 5]"
      ]
     },
     "execution_count": 7,
     "metadata": {},
     "output_type": "execute_result"
    }
   ],
   "source": [
    "a = [1,2,3,4]\n",
    "b = a.copy()\n",
    "a.append(5)\n",
    "b\n",
    "a"
   ]
  },
  {
   "cell_type": "code",
   "execution_count": 25,
   "id": "39617135-bef2-48ab-bf59-56c5f4fd86f9",
   "metadata": {},
   "outputs": [
    {
     "data": {
      "text/plain": [
       "[1, 'Monty', 'Python', 'Monty', 5, 'Monty Python', 7, 'Monty', 'Python']"
      ]
     },
     "execution_count": 25,
     "metadata": {},
     "output_type": "execute_result"
    }
   ],
   "source": [
    "['Monty Python' if n % 6 == 0 else 'Python' if n % 3 == 0 else 'Monty' if n % 2 == 0 else n for n in range(1, 10)]"
   ]
  },
  {
   "cell_type": "code",
   "execution_count": null,
   "id": "ab7e9e5f",
   "metadata": {},
   "outputs": [],
   "source": [
    "# Initializing lists \n",
    "list1 = [\"I am\", \"You Are\"]\n",
    "list2 = [\"Fine\", \"healthy\",'too fat']\n",
    "\n",
    "size =  len(list2)\n",
    "print(size)\n",
    "\n",
    "\n",
    "for item in ( list1):\n",
    "    count = 0 \n",
    "    while(count < size):\n",
    "        print(item,list2[count])\n",
    "        count = count + 1\n",
    "\n",
    "print('End of loop')\n",
    "\n"
   ]
  },
  {
   "cell_type": "code",
   "execution_count": 40,
   "id": "59a251f4",
   "metadata": {},
   "outputs": [
    {
     "name": "stdout",
     "output_type": "stream",
     "text": [
      "[22, 32, 42, 23, 33, 43, 24, 34, 44]\n"
     ]
    }
   ],
   "source": [
    "first = [2,3,4]\n",
    "second = [20,30,40]\n",
    "final = [i+j for i in first for j in second]\n",
    "print(final)"
   ]
  },
  {
   "cell_type": "code",
   "execution_count": 41,
   "id": "38c7b80f",
   "metadata": {},
   "outputs": [
    {
     "name": "stdout",
     "output_type": "stream",
     "text": [
      "['*', '*', '*', '*', '*', '*', '*', '*', '*', '*', '*', '*', '*', '*', '*']\n"
     ]
    }
   ],
   "source": [
    "list = [\"*\" for i in range(1 ,6)   \n",
    "             for j in range(1, i+1)]\n",
    "print(list)\n"
   ]
  },
  {
   "cell_type": "code",
   "execution_count": 68,
   "id": "e894de5f",
   "metadata": {},
   "outputs": [
    {
     "ename": "TypeError",
     "evalue": "'list' object is not callable",
     "output_type": "error",
     "traceback": [
      "\u001b[1;31m---------------------------------------------------------------------------\u001b[0m",
      "\u001b[1;31mTypeError\u001b[0m                                 Traceback (most recent call last)",
      "Cell \u001b[1;32mIn[68], line 4\u001b[0m\n\u001b[0;32m      1\u001b[0m \u001b[38;5;28;01mimport\u001b[39;00m \u001b[38;5;21;01moperator\u001b[39;00m \n\u001b[0;32m      2\u001b[0m \u001b[38;5;28;01mimport\u001b[39;00m \u001b[38;5;21;01mtime\u001b[39;00m\n\u001b[1;32m----> 4\u001b[0m a \u001b[38;5;241m=\u001b[39m \u001b[38;5;28;43mlist\u001b[39;49m\u001b[43m(\u001b[49m\u001b[38;5;28;43mrange\u001b[39;49m\u001b[43m(\u001b[49m\u001b[38;5;241;43m10000\u001b[39;49m\u001b[43m)\u001b[49m\u001b[43m)\u001b[49m\n\u001b[0;32m      5\u001b[0m b \u001b[38;5;241m=\u001b[39m \u001b[38;5;28mlist\u001b[39m(\u001b[38;5;28mrange\u001b[39m(\u001b[38;5;241m10000\u001b[39m))\n\u001b[0;32m      7\u001b[0m tot_iterations \u001b[38;5;241m=\u001b[39m \u001b[38;5;241m5\u001b[39m\n",
      "\u001b[1;31mTypeError\u001b[0m: 'list' object is not callable"
     ]
    }
   ],
   "source": [
    "import operator \n",
    "import time\n",
    "\n",
    "a = list(range(10000))\n",
    "b = list(range(10000))\n",
    "\n",
    "tot_iterations = 5\n",
    "mapt = []\n",
    "loopt = []\n",
    "\n",
    "# measure the time for map function\n",
    "for _ in range(tot_iterations):\n",
    "    start_time = time.time()\n",
    "    result = list(map(operator.mul,a,b))\n",
    "    end_time = time.time()\n",
    "    mapt.append (end_time - start_time)\n",
    "\n",
    "\n",
    "# measuring the performance of form loop\n",
    "for _ in range(tot_iterations):\n",
    "    start_time = time.time()\n",
    "    result =  [a[i] * b[i] for i in range (len(a))]\n",
    "    end_time = time.time()\n",
    "    loopt.append (end_time - start_time)\n",
    "\n",
    "# calculate average times\n",
    "avg_mapt = sum(mapt) / tot_iterations\n",
    "avg_loopt = sum(loopt) / tot_iterations\n",
    "\n",
    "print(\"Average time took for map function:{avg_mapt}\")\n",
    "print(\"Average time took for map function:{avg_loopt}\")\n"
   ]
  }
 ],
 "metadata": {
  "kernelspec": {
   "display_name": "Python 3",
   "language": "python",
   "name": "python3"
  },
  "language_info": {
   "codemirror_mode": {
    "name": "ipython",
    "version": 3
   },
   "file_extension": ".py",
   "mimetype": "text/x-python",
   "name": "python",
   "nbconvert_exporter": "python",
   "pygments_lexer": "ipython3",
   "version": "3.12.3"
  }
 },
 "nbformat": 4,
 "nbformat_minor": 5
}
