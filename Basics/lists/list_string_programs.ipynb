{
 "cells": [
  {
   "cell_type": "code",
   "execution_count": 12,
   "id": "ab50bf0d",
   "metadata": {},
   "outputs": [
    {
     "name": "stdout",
     "output_type": "stream",
     "text": [
      "{'BBB'}\n"
     ]
    }
   ],
   "source": [
    "lst1 = [\"AAA\",\"BBB\",\"AAA\"]\n",
    "lst2 = [\"CCC\",\"DDD\",\"BBB\"]\n",
    "\n",
    "lst3 = (set(lst1) ) & (set(lst2))\n",
    "print(lst3)\n"
   ]
  },
  {
   "cell_type": "code",
   "execution_count": 1,
   "id": "1c086531",
   "metadata": {},
   "outputs": [
    {
     "name": "stdout",
     "output_type": "stream",
     "text": [
      "[2, 3]\n"
     ]
    }
   ],
   "source": [
    "lst1 = [1,2,3]\n",
    "lst2 = [2,3,5,6]\n",
    "\n",
    "lst3 = list((set(lst1) ) & (set(lst2)))\n",
    "print(lst3)"
   ]
  },
  {
   "cell_type": "code",
   "execution_count": null,
   "id": "a3c99928",
   "metadata": {},
   "outputs": [
    {
     "name": "stdout",
     "output_type": "stream",
     "text": [
      "['AAA', 'AAA', 'BBB', 'BBB', 'CCC', 'DDD']\n"
     ]
    }
   ],
   "source": [
    "lst1 = [\"AAA\",\"BBB\",\"AAA\"]\n",
    "lst2 = [\"CCC\",\"DDD\",\"BBB\"]  \n",
    "lst3 = lst1 + lst2\n",
    "print(lst3)"
   ]
  },
  {
   "cell_type": "code",
   "execution_count": null,
   "id": "0dfc6640",
   "metadata": {},
   "outputs": [
    {
     "ename": "AttributeError",
     "evalue": "'list' object has no attribute 'distinct'",
     "output_type": "error",
     "traceback": [
      "\u001b[31m---------------------------------------------------------------------------\u001b[39m",
      "\u001b[31mAttributeError\u001b[39m                            Traceback (most recent call last)",
      "\u001b[36mCell\u001b[39m\u001b[36m \u001b[39m\u001b[32mIn[17]\u001b[39m\u001b[32m, line 2\u001b[39m\n\u001b[32m      1\u001b[39m lst1 = [\u001b[33m\"\u001b[39m\u001b[33mAAA\u001b[39m\u001b[33m\"\u001b[39m,\u001b[33m\"\u001b[39m\u001b[33mBBB\u001b[39m\u001b[33m\"\u001b[39m,\u001b[33m\"\u001b[39m\u001b[33mAAA\u001b[39m\u001b[33m\"\u001b[39m] \u001b[38;5;66;03m# remove duplicates\u001b[39;00m\n\u001b[32m----> \u001b[39m\u001b[32m2\u001b[39m \u001b[43mlst1\u001b[49m\u001b[43m.\u001b[49m\u001b[43mdistinct\u001b[49m()\n\u001b[32m      3\u001b[39m \u001b[38;5;28mprint\u001b[39m(lst1)\n",
      "\u001b[31mAttributeError\u001b[39m: 'list' object has no attribute 'distinct'"
     ]
    }
   ],
   "source": [
    "lst1 = [\"AAA\",\"BBB\",\"AAA\"] # remove duplicates\n",
    "\n",
    "print(lst1)"
   ]
  },
  {
   "cell_type": "code",
   "execution_count": 41,
   "id": "394f27a4",
   "metadata": {},
   "outputs": [
    {
     "name": "stdout",
     "output_type": "stream",
     "text": [
      "lst1 1\n",
      "lst2 5\n",
      "lst1 2\n",
      "lst2 7\n",
      "lst1 3\n",
      "lst2 6\n",
      "lst1 4\n",
      "lst2 8\n",
      "[[19, 22], [43, 50]]\n"
     ]
    }
   ],
   "source": [
    "lst1 = [[1,2],[3,4]]\n",
    "lst2 = [[5,6],[7,8]]\n",
    "newLst = [[0,0],[0,0]]\n",
    "for i in range(len(lst1[0])):\n",
    "    for j in range(len(lst2[0])):\n",
    "        print(\"lst1 \" + str(lst1[i][j]))\n",
    "        print(\"lst2 \" + str(lst2[j][i]))\n",
    "        newLst[i][j] = (lst1[i][0] * lst2[0][j]) + (lst1[i][1] * lst2[1][j])    \n",
    "print(newLst)\n",
    "\n",
    "\n"
   ]
  },
  {
   "cell_type": "code",
   "execution_count": null,
   "id": "3e41bdb0",
   "metadata": {},
   "outputs": [
    {
     "name": "stdout",
     "output_type": "stream",
     "text": [
      "ivaRivaR si eman yMivaR si eman yM\n"
     ]
    }
   ],
   "source": [
    "str = \"My name is Ravi\"\n",
    "str2 = str.split(\" \")\n",
    "for word in str2:\n",
    "    reversed_word = word[::-1]\n",
    "    print(reversed_word, end = \" \") \n",
    "\n",
    "for word2 in reversed(str):\n",
    "    reversed_word += word2\n",
    "print(reversed_word)"
   ]
  },
  {
   "cell_type": "code",
   "execution_count": 71,
   "id": "950af8bc",
   "metadata": {},
   "outputs": [
    {
     "name": "stdout",
     "output_type": "stream",
     "text": [
      "3\n",
      "ama\n",
      "Given string is symmmetric \n",
      "Palindrome\n",
      "Given string is a palindrome \n"
     ]
    }
   ],
   "source": [
    "# \n",
    "''' to check string in symmmetric or palindrome'''\n",
    "str = \"amaama\"\n",
    "halflen = len(str)//2\n",
    "print(halflen)\n",
    "print(str[halflen::])\n",
    "if str[0:halflen:] == str[halflen::]:\n",
    "    print(\"Given string is symmmetric \")\n",
    "else:\n",
    "    print(\"Given string is not symmmetric \") \n",
    "    \n",
    "\n",
    "pal = str == str[::-1]\n",
    "print(\"Palindrome\" if pal else \"Not palindrome\")\n",
    "if str == str[::-1]:\n",
    "    print(\"Given string is a palindrome \")\n",
    "else:\n",
    "    print(\"Given string is not palindrome \") "
   ]
  },
  {
   "cell_type": "code",
   "execution_count": null,
   "id": "17410780",
   "metadata": {},
   "outputs": [
    {
     "name": "stdout",
     "output_type": "stream",
     "text": [
      "abcdefghij\n",
      "0\n",
      "zdefghij\n"
     ]
    }
   ],
   "source": [
    "# Remove all duplicates \n",
    "str = \"abbccddeffgghhiijj\"\n",
    "newstr = \"\" \n",
    "for char in str:\n",
    "    if char not in newstr:\n",
    "        newstr += char  \n",
    "print(newstr)\n",
    "print(newstr.find(\"abc\"))\n",
    "print(newstr.replace(\"abc\",\"z\"))\n"
   ]
  },
  {
   "cell_type": "code",
   "execution_count": null,
   "id": "5540351d",
   "metadata": {},
   "outputs": [
    {
     "name": "stdout",
     "output_type": "stream",
     "text": [
      "['My', 'name', 'is', 'Ravi']\n",
      "My name is Ravi\n",
      "['M y', 'n a m e', 'i s', 'R a v i']\n"
     ]
    }
   ],
   "source": [
    "# Split and join a string \n",
    "str = \"My name is Ravi\"\n",
    "splitStr = str.split(\" \")\n",
    "print(splitStr)\n",
    "res = ' '.join(splitStr)\n",
    "print(res)\n",
    "\n"
   ]
  },
  {
   "cell_type": "code",
   "execution_count": 20,
   "id": "ea99a6d5",
   "metadata": {},
   "outputs": [
    {
     "name": "stdout",
     "output_type": "stream",
     "text": [
      "Hello world from Python\n"
     ]
    }
   ],
   "source": [
    "a = ['Hello', 'world', 'from', 'Python']\n",
    "res = ' '.join(a)\n",
    "print(res)"
   ]
  },
  {
   "cell_type": "code",
   "execution_count": null,
   "id": "a6827d0b",
   "metadata": {},
   "outputs": [
    {
     "name": "stdout",
     "output_type": "stream",
     "text": [
      "abc\n",
      "acb\n",
      "bac\n",
      "bca\n",
      "cab\n",
      "cba\n"
     ]
    }
   ],
   "source": [
    "# Find all permutations of a given string without using permutations function\n",
    "str = \"abc\" \n",
    "from itertools import permutations\n",
    "perm = permutations(str)    \n",
    "for i in perm:\n",
    "    print(''.join(i))\n",
    "\n",
    "\n"
   ]
  },
  {
   "cell_type": "code",
   "execution_count": 25,
   "id": "0169645b",
   "metadata": {},
   "outputs": [
    {
     "name": "stdout",
     "output_type": "stream",
     "text": [
      "[0, 0, 0, 0, 0]\n"
     ]
    }
   ],
   "source": [
    "c = [0]*5\n",
    "print(c)"
   ]
  },
  {
   "cell_type": "code",
   "execution_count": 36,
   "id": "eab5a463",
   "metadata": {},
   "outputs": [
    {
     "name": "stdout",
     "output_type": "stream",
     "text": [
      "0 0\n",
      "0 1\n",
      "0 2\n",
      "0 3\n",
      "0 4\n",
      "1 0\n",
      "1 1\n",
      "1 2\n",
      "1 3\n",
      "1 4\n",
      "2 0\n",
      "2 1\n",
      "2 2\n",
      "2 3\n",
      "2 4\n",
      "3 0\n",
      "3 1\n",
      "3 2\n",
      "3 3\n",
      "3 4\n",
      "4 0\n",
      "4 1\n",
      "4 2\n",
      "4 3\n",
      "4 4\n"
     ]
    }
   ],
   "source": [
    "i = 0\n",
    "for i in range(5):\n",
    "    for j in range(5):\n",
    "        print(i,j)"
   ]
  }
 ],
 "metadata": {
  "kernelspec": {
   "display_name": "Python 3",
   "language": "python",
   "name": "python3"
  },
  "language_info": {
   "codemirror_mode": {
    "name": "ipython",
    "version": 3
   },
   "file_extension": ".py",
   "mimetype": "text/x-python",
   "name": "python",
   "nbconvert_exporter": "python",
   "pygments_lexer": "ipython3",
   "version": "3.13.7"
  }
 },
 "nbformat": 4,
 "nbformat_minor": 5
}
