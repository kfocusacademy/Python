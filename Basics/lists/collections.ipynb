{
 "cells": [
  {
   "cell_type": "code",
   "execution_count": null,
   "id": "83866fe1",
   "metadata": {},
   "outputs": [
    {
     "name": "stdout",
     "output_type": "stream",
     "text": [
      "['updated1', 'list2']\n",
      "{1, 'text'}\n",
      "('text', 1, 'text', 1)\n"
     ]
    }
   ],
   "source": [
    "list1 = [\"list1\",\"list2\"]\n",
    "list1[0] = \"updated1\"\n",
    "print(list1)\n",
    "set1 = {\"text\",1,\"text\",1}\n",
    "print(set1)\n",
    "tup1 = (\"text\",1,\"text\",1)\n",
    "tup1.__add__\n",
    "print(tup1)"
   ]
  },
  {
   "cell_type": "code",
   "execution_count": 16,
   "id": "0c93946c",
   "metadata": {},
   "outputs": [
    {
     "name": "stdout",
     "output_type": "stream",
     "text": [
      "bananaapple\n"
     ]
    }
   ],
   "source": [
    "dict = {\n",
    "        \"a\":\"apple\",\n",
    "        \"b\":\"banana\"\n",
    "        }\n",
    "print(dict[\"b\"] + dict[\"a\"])\n"
   ]
  },
  {
   "cell_type": "code",
   "execution_count": 1,
   "id": "b790eea8",
   "metadata": {},
   "outputs": [
    {
     "name": "stdout",
     "output_type": "stream",
     "text": [
      "{'name': 'John', 'age': 36, 'country': 'Norway'}\n"
     ]
    }
   ],
   "source": [
    "thisdict = dict(name = \"John\", age = 36, country = \"Norway\")\n",
    "print(thisdict)"
   ]
  },
  {
   "cell_type": "code",
   "execution_count": 18,
   "id": "67e028e9",
   "metadata": {},
   "outputs": [
    {
     "name": "stdout",
     "output_type": "stream",
     "text": [
      "['c', 'b', 'a']\n"
     ]
    }
   ],
   "source": [
    "carArray = [\"a\",\"b\"]\n",
    "carArray.append(\"c\")\n",
    "carArray.reverse()\n",
    "print(carArray)"
   ]
  }
 ],
 "metadata": {
  "kernelspec": {
   "display_name": "Python 3",
   "language": "python",
   "name": "python3"
  },
  "language_info": {
   "codemirror_mode": {
    "name": "ipython",
    "version": 3
   },
   "file_extension": ".py",
   "mimetype": "text/x-python",
   "name": "python",
   "nbconvert_exporter": "python",
   "pygments_lexer": "ipython3",
   "version": "3.12.3"
  }
 },
 "nbformat": 4,
 "nbformat_minor": 5
}
