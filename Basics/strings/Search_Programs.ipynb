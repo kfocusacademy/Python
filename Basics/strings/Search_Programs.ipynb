{
 "cells": [
  {
   "cell_type": "code",
   "execution_count": null,
   "id": "15463244",
   "metadata": {},
   "outputs": [],
   "source": [
    "# Linear Search Programs\n",
    "\n",
    "def LinearSearch(str,searchStr):\n",
    "    for idx in range(len(str)):\n",
    "        if str[idx] == searchStr:\n",
    "            return idx\n",
    "            break\n",
    "    return 0\n",
    "\n",
    "str = [10,20,30,40,50]\n",
    "if LinearSearch(str,60)>0:\n",
    "    print(\"Value found\")\n",
    "else:\n",
    "    print(\"Value not found\")\n",
    "\n",
    "\n",
    "        \n",
    "\n"
   ]
  },
  {
   "cell_type": "code",
   "execution_count": null,
   "id": "452cc804",
   "metadata": {},
   "outputs": [],
   "source": [
    "# Binary Search \n",
    "def binary_search(list, searchVal):\n",
    "    mid = round(len(list)/2)\n",
    "    if list[mid] == searchVal:\n",
    "        return mid\n",
    "    elif list[mid] > searchVal:\n",
    "        for i in range(mid):\n",
    "            if list[i] == searchVal:\n",
    "                return i\n",
    "        return 0\n",
    "    elif list[mid] < searchVal:\n",
    "        for i in range(len(list)-1,mid,-1):\n",
    "            if list[i] == searchVal:\n",
    "                return i\n",
    "        return 0\n",
    "    else:\n",
    "        return 0 \n",
    "        \n",
    "\n",
    "lst = [10,20,30,40,50,60]\n",
    "print(binary_search(lst,0))\n"
   ]
  },
  {
   "cell_type": "code",
   "execution_count": null,
   "id": "00741e44",
   "metadata": {},
   "outputs": [
    {
     "name": "stdout",
     "output_type": "stream",
     "text": [
      "Iterations 12\n",
      "[0, 1, 2, 3, 5, 6, 200]\n"
     ]
    }
   ],
   "source": [
    "# Selection Sort\n",
    "def bubble_sort(paramlist):\n",
    "    dummy = 0\n",
    "    iterations = 0\n",
    "    for i in range(len(paramlist)-1):\n",
    "        for j in range(i,len(paramlist)):\n",
    "            if paramlist[i]>paramlist[j]:\n",
    "                dummy = paramlist[j]\n",
    "                paramlist[j]=paramlist[i]\n",
    "                paramlist[i] = dummy\n",
    "                iterations = iterations + 1 \n",
    "    print(\"Iterations {}\".format(iterations))      \n",
    "\n",
    "\n",
    "list1 = [5,3,6,1,2,0,200]\n",
    "bubble_sort(list1)\n",
    "print(list1)\n"
   ]
  },
  {
   "cell_type": "code",
   "execution_count": 83,
   "id": "07ea7587",
   "metadata": {},
   "outputs": [
    {
     "name": "stdout",
     "output_type": "stream",
     "text": [
      "Iterations 19\n",
      "[-202, -97, -9, -2, 0, 11, 45, 88, 747]\n"
     ]
    }
   ],
   "source": [
    "# Bubble Sort \n",
    "\n",
    "def bubble_sort(paramlist):\n",
    "    dummy = 0\n",
    "    iterations = 0\n",
    "    for i in range(len(paramlist)-1,0,-1):\n",
    "        swapped = False\n",
    "        for j in range(i):\n",
    "            if paramlist[j]>paramlist[j+1]:\n",
    "                paramlist[j],paramlist[j+1]= paramlist[j+1],paramlist[j]\n",
    "                swapped = True\n",
    "                iterations = iterations + 1 \n",
    "        if not (swapped):\n",
    "            break\n",
    "    print(\"Iterations {}\".format(iterations))      \n",
    "\n",
    "\n",
    "list1 = [-2, 45, 0, 11, -9,88,-97,-202,747]\n",
    "bubble_sort(list1)\n",
    "print(list1)\n"
   ]
  },
  {
   "cell_type": "code",
   "execution_count": 81,
   "id": "c3268f8a",
   "metadata": {},
   "outputs": [
    {
     "name": "stdout",
     "output_type": "stream",
     "text": [
      "Iterations 36\n",
      "The array after sorting in Ascending Order by selection sort is:\n",
      "[-202, -97, -9, -2, 0, 11, 45, 88, 747]\n"
     ]
    }
   ],
   "source": [
    "def selectionSort(array, size):\n",
    "    iteration = 0\n",
    "    for ind in range(size):\n",
    "        min_index = ind\n",
    "\n",
    "        for j in range(ind + 1, size):\n",
    "            # select the minimum element in every iteration\n",
    "            if array[j] < array[min_index]:\n",
    "                min_index = j\n",
    "            iteration = iteration + 1\n",
    "         # swapping the elements to sort the array\n",
    "        (array[ind], array[min_index]) = (array[min_index], array[ind])\n",
    "    print (\"Iterations {}\".format(iteration))\n",
    "\n",
    "arr = [-2, 45, 0, 11, -9,88,-97,-202,747]\n",
    "size = len(arr)\n",
    "selectionSort(arr, size)\n",
    "print('The array after sorting in Ascending Order by selection sort is:')\n",
    "print(arr)"
   ]
  }
 ],
 "metadata": {
  "kernelspec": {
   "display_name": "Python 3",
   "language": "python",
   "name": "python3"
  },
  "language_info": {
   "codemirror_mode": {
    "name": "ipython",
    "version": 3
   },
   "file_extension": ".py",
   "mimetype": "text/x-python",
   "name": "python",
   "nbconvert_exporter": "python",
   "pygments_lexer": "ipython3",
   "version": "3.12.3"
  }
 },
 "nbformat": 4,
 "nbformat_minor": 5
}
