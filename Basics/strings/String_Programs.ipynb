{
 "cells": [
  {
   "cell_type": "code",
   "execution_count": null,
   "id": "6a220f0f",
   "metadata": {},
   "outputs": [
    {
     "name": "stdout",
     "output_type": "stream",
     "text": [
      "False\n",
      "Non Symmetric\n",
      "Not Palindrome\n"
     ]
    }
   ],
   "source": [
    "# Check whether given string is Symmetric & Palindrome \n",
    "\n",
    "s = 'abcdbac'\n",
    "\n",
    "half = len(s)//2\n",
    "#sym = s[half:2] \n",
    "sym = s[:half] == s[half:][::-1] if len(s) == 0 else s[:half] == s[half+1:][::-1]\n",
    "print(sym)\n",
    "\n",
    "print(\"Symmetric \" if sym else \"Non Symmetric\")\n",
    "\n",
    "# Palindrome\n",
    "pal = s == s[::-1] \n",
    "\n",
    "print(\"Palindrome\" if pal else \"Not Palindrome\")\n"
   ]
  },
  {
   "cell_type": "code",
   "execution_count": 93,
   "id": "fb2f40a7",
   "metadata": {},
   "outputs": [
    {
     "name": "stdout",
     "output_type": "stream",
     "text": [
      "Ravi is name My\n",
      "13\n",
      "string name doesnt exist\n"
     ]
    }
   ],
   "source": [
    "# Reverse words in a string\n",
    "str  = \"My name is Ravi\"\n",
    "str1 = str.split()\n",
    "# print(str1[::-1])\n",
    "\n",
    "'''\n",
    "for i in range(len(str1)-1,-1,-1):\n",
    "    print(end=str1[i]+' ')\n",
    "\n",
    "#print(str1)\n",
    "# print(reversed(str1)) '''\n",
    "\n",
    "# Another way\n",
    "str1 = ' '.join(str.split()[::-1])\n",
    "#print(str1) \n",
    "\n",
    "str2  = str1.replace(\"Ravi\",\"\")\n",
    "print(str1)\n",
    "\n",
    "str2 = str1.find(\"My\")\n",
    "print(str2)\n",
    "\n",
    "if \"KKK\" in str1:\n",
    "    print(\"string name exists\")\n",
    "else:\n",
    "    print(\"string name doesnt exist\")    \n",
    "    \n"
   ]
  },
  {
   "cell_type": "code",
   "execution_count": 96,
   "id": "c0a6e2b7",
   "metadata": {},
   "outputs": [
    {
     "name": "stdout",
     "output_type": "stream",
     "text": [
      "India is my country  doesnt Exists\n"
     ]
    }
   ],
   "source": [
    "import re\n",
    "myStr = \"India is my country\"\n",
    "\n",
    "if re.search(\"KKK\",myStr):\n",
    "    print(\"{} Exists\".format(myStr))\n",
    "else:\n",
    "    print(\"{}  doesnt Exists\".format(myStr))\n"
   ]
  },
  {
   "cell_type": "code",
   "execution_count": 99,
   "id": "9ac3b49c",
   "metadata": {},
   "outputs": [
    {
     "name": "stdout",
     "output_type": "stream",
     "text": [
      "3\n"
     ]
    }
   ],
   "source": [
    "str = \"Ravi Ramu Ravi Ramu Ramu\"\n",
    "print(str.count(\"Ramu\"))\n"
   ]
  },
  {
   "cell_type": "code",
   "execution_count": 26,
   "id": "b7295eaf",
   "metadata": {},
   "outputs": [
    {
     "name": "stdout",
     "output_type": "stream",
     "text": [
      "abcdefghi\n"
     ]
    }
   ],
   "source": [
    "s = \"abcdefghi\"\n",
    "print(s[::-1][::-1])"
   ]
  },
  {
   "cell_type": "code",
   "execution_count": 37,
   "id": "0ee8cd09",
   "metadata": {},
   "outputs": [
    {
     "name": "stdout",
     "output_type": "stream",
     "text": [
      "{'r', 't', 'n', 'S', 'g', 'i', 'A'}\n",
      "{'r', 't', 'n', 'S', 'g', 'i', 'A'}\n"
     ]
    }
   ],
   "source": [
    "s = \"StringAString\"\n",
    "s1 = set(s)\n",
    "print(s1)\n",
    "s2 = str(s1)\n",
    "print(s2)"
   ]
  },
  {
   "cell_type": "code",
   "execution_count": 38,
   "id": "6baeaf8b",
   "metadata": {},
   "outputs": [
    {
     "name": "stdout",
     "output_type": "stream",
     "text": [
      "Counter({'a': 2, 'I': 1, 'i': 1})\n"
     ]
    }
   ],
   "source": [
    "#Count number of vowels in a string\n",
    "from collections import Counter\n",
    "str1 = \"I am Ravi\"\n",
    "v = \"aeiouAEIOU\"\n",
    "cnt = Counter([i for i in str1 if i in v])\n",
    "print(cnt)\n",
    "\n",
    "\n"
   ]
  },
  {
   "cell_type": "code",
   "execution_count": 44,
   "id": "d4b79a4d",
   "metadata": {},
   "outputs": [
    {
     "name": "stdout",
     "output_type": "stream",
     "text": [
      "2\n"
     ]
    },
    {
     "data": {
      "text/plain": [
       "['a', 'I']"
      ]
     },
     "execution_count": 44,
     "metadata": {},
     "output_type": "execute_result"
    }
   ],
   "source": [
    "str1 = \"I am RavI\"\n",
    "v = \"aeiouAEIOU\"\n",
    "cnt = str1.count(\"I\")\n",
    "print(cnt)\n",
    "[i for i in v if i in str1]\n"
   ]
  },
  {
   "cell_type": "code",
   "execution_count": null,
   "id": "d9c76897",
   "metadata": {},
   "outputs": [
    {
     "name": "stdout",
     "output_type": "stream",
     "text": [
      "geek\n"
     ]
    }
   ],
   "source": [
    "# converting Binary to a string \n",
    "b = '01100111011001010110010101101011'\n",
    "s= ''.join(chr(int(b[i:i+8],2)) for i in range(0,len(b),8))\n",
    "print(s)\n",
    "            "
   ]
  },
  {
   "cell_type": "code",
   "execution_count": null,
   "id": "aeeac1f3",
   "metadata": {},
   "outputs": [
    {
     "name": "stdout",
     "output_type": "stream",
     "text": [
      "hgfedcba\n"
     ]
    }
   ],
   "source": [
    "# To sort a string in reverse order\n",
    "\n",
    "s = \"abcdefgh\"\n",
    "res = ''.join(sorted(s,reverse=True))\n",
    "print(res)"
   ]
  },
  {
   "cell_type": "code",
   "execution_count": null,
   "id": "8bfcf07f",
   "metadata": {},
   "outputs": [
    {
     "name": "stdout",
     "output_type": "stream",
     "text": [
      "True\n"
     ]
    }
   ],
   "source": [
    "# To check given string is pangram \n",
    "\n",
    "import string\n",
    "\n",
    "# Input text\n",
    "s = \"The quick brown fox jumps over the lazy dog\"\n",
    "\n",
    "# Check if all letters are in `s`\n",
    "res = all(letter in s.lower() for letter in string.ascii_lowercase)\n",
    "#print(res)\n",
    "print(res)"
   ]
  },
  {
   "cell_type": "code",
   "execution_count": 67,
   "id": "70e8e3e5",
   "metadata": {},
   "outputs": [
    {
     "name": "stdout",
     "output_type": "stream",
     "text": [
      "Strong password\n"
     ]
    }
   ],
   "source": [
    "# To check password is strong or week\n",
    "# Minimum 9 characters and maximum 20 characters.\n",
    "# Cannot be a newline or a space\n",
    "# There should not be three or more repeating characters in a row.\n",
    "# The same string pattern(minimum of two character length) should not be repeating.\n",
    "# atleast one special character\n",
    "\n",
    "import re\n",
    "\n",
    "def password_check(pwd):\n",
    "    # if it is new line \n",
    "    result = ''\n",
    "    if (pwd == '\\n' or pwd == \" \"):\n",
    "        result  =  \"Password can't be a new line or a space \"\n",
    "    \n",
    "    if len(pwd) > 9 or len(pwd) > 20:\n",
    "        if re.search(r'(.)\\1\\1', pwd):\n",
    "            result = \"Password should not be three or more repeating characters in a row\"\n",
    "        if re.search(r'(..)(.*)\\1',pwd):\n",
    "            result = \"Same string pattern shouldn't be repeating\"\n",
    "        elif  not re.search('[^a-zA-Z0-9]',pwd):\n",
    "            result = \"Should have one special character\"\n",
    "        elif re.search(' ',pwd):\n",
    "            result = \"No space chracter allowed\"\n",
    "        else:\n",
    "            result = \"Strong password\"\n",
    "    else:\n",
    "        result = \"Passowrd length should be minimum 9 character length\"\n",
    "    return result\n",
    "\n",
    "res = password_check (\"Ravi$Sankar\")\n",
    "print(res)\n"
   ]
  },
  {
   "cell_type": "code",
   "execution_count": 61,
   "id": "f35a066c",
   "metadata": {},
   "outputs": [
    {
     "name": "stdout",
     "output_type": "stream",
     "text": [
      "<re.Match object; span=(0, 1), match='R'>\n"
     ]
    }
   ],
   "source": [
    "str = \"Ravi44\"\n",
    "res = re.search(r'[\\D\\W]',str)\n",
    "print(res)"
   ]
  }
 ],
 "metadata": {
  "kernelspec": {
   "display_name": "Python 3",
   "language": "python",
   "name": "python3"
  },
  "language_info": {
   "codemirror_mode": {
    "name": "ipython",
    "version": 3
   },
   "file_extension": ".py",
   "mimetype": "text/x-python",
   "name": "python",
   "nbconvert_exporter": "python",
   "pygments_lexer": "ipython3",
   "version": "3.12.3"
  }
 },
 "nbformat": 4,
 "nbformat_minor": 5
}
