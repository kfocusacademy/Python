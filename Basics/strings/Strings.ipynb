{
 "cells": [
  {
   "cell_type": "markdown",
   "id": "bd1369e3-6865-4751-8ba0-03cf027bd9f6",
   "metadata": {},
   "source": [
    "# Strings "
   ]
  },
  {
   "cell_type": "code",
   "execution_count": 22,
   "id": "90ae3411-b677-4f41-8c89-4213d051f5a9",
   "metadata": {},
   "outputs": [],
   "source": [
    "import math"
   ]
  },
  {
   "cell_type": "markdown",
   "id": "f08b60f6-a52b-4f90-b7a7-18f188a5cbe9",
   "metadata": {},
   "source": [
    "## Slicing"
   ]
  },
  {
   "cell_type": "code",
   "execution_count": 1,
   "id": "455d4c39-7cb7-4363-b23f-0cbe1b8f2f1d",
   "metadata": {},
   "outputs": [],
   "source": [
    "name = 'My name is Ravi'"
   ]
  },
  {
   "cell_type": "code",
   "execution_count": 3,
   "id": "7844d9e0-76d9-442f-83bf-d9fcdd62e917",
   "metadata": {},
   "outputs": [
    {
     "data": {
      "text/plain": [
       "'y'"
      ]
     },
     "execution_count": 3,
     "metadata": {},
     "output_type": "execute_result"
    }
   ],
   "source": [
    "name[1]"
   ]
  },
  {
   "cell_type": "code",
   "execution_count": 4,
   "id": "c14b1d1f-25c3-4b4d-a4b0-f078d2ab757b",
   "metadata": {},
   "outputs": [
    {
     "data": {
      "text/plain": [
       "'My '"
      ]
     },
     "execution_count": 4,
     "metadata": {},
     "output_type": "execute_result"
    }
   ],
   "source": [
    "name[0:3]"
   ]
  },
  {
   "cell_type": "code",
   "execution_count": 5,
   "id": "49f77409-8e58-4b2d-a2c3-7085c9221ce9",
   "metadata": {},
   "outputs": [
    {
     "data": {
      "text/plain": [
       "'My '"
      ]
     },
     "execution_count": 5,
     "metadata": {},
     "output_type": "execute_result"
    }
   ],
   "source": [
    "name[:3]"
   ]
  },
  {
   "cell_type": "code",
   "execution_count": 7,
   "id": "bdd9219c-221b-42b0-9df7-5234251eff44",
   "metadata": {
    "scrolled": true
   },
   "outputs": [
    {
     "data": {
      "text/plain": [
       "'Ravi'"
      ]
     },
     "execution_count": 7,
     "metadata": {},
     "output_type": "execute_result"
    }
   ],
   "source": [
    "name[11:]"
   ]
  },
  {
   "cell_type": "code",
   "execution_count": 10,
   "id": "21a32754-d804-439c-a2d1-c9a8036e9467",
   "metadata": {},
   "outputs": [],
   "source": [
    "Mylist = ['aa','bb','cc','dd']"
   ]
  },
  {
   "cell_type": "code",
   "execution_count": 14,
   "id": "1fe5cf7b-c006-4b73-9dc7-7df365128176",
   "metadata": {},
   "outputs": [
    {
     "data": {
      "text/plain": [
       "['bb', 'cc']"
      ]
     },
     "execution_count": 14,
     "metadata": {},
     "output_type": "execute_result"
    }
   ],
   "source": [
    "Mylist[1:3]"
   ]
  },
  {
   "cell_type": "code",
   "execution_count": null,
   "id": "b2b586ef-530c-4052-ae6e-290f1c0f383d",
   "metadata": {},
   "outputs": [],
   "source": []
  },
  {
   "cell_type": "markdown",
   "id": "96b2fdd0-57dd-412c-ad33-97cf7750bba8",
   "metadata": {},
   "source": [
    "## Formatting"
   ]
  },
  {
   "cell_type": "code",
   "execution_count": 17,
   "id": "19ccdbf9-1ec5-47a9-94e1-6233384ea2b2",
   "metadata": {},
   "outputs": [
    {
     "data": {
      "text/plain": [
       "'my house number is 3'"
      ]
     },
     "execution_count": 17,
     "metadata": {},
     "output_type": "execute_result"
    }
   ],
   "source": [
    "\"my house number is \" + str(3)"
   ]
  },
  {
   "cell_type": "code",
   "execution_count": 19,
   "id": "67ad5146-2a56-435f-b49f-8ea6dd4dd30a",
   "metadata": {},
   "outputs": [
    {
     "data": {
      "text/plain": [
       "'my house number is 3'"
      ]
     },
     "execution_count": 19,
     "metadata": {},
     "output_type": "execute_result"
    }
   ],
   "source": [
    "f'my house number is ' + str(3)"
   ]
  },
  {
   "cell_type": "code",
   "execution_count": 20,
   "id": "f24ac300-4097-4f4c-b4d4-5e70f75f2921",
   "metadata": {},
   "outputs": [
    {
     "data": {
      "text/plain": [
       "'my house number is 4'"
      ]
     },
     "execution_count": 20,
     "metadata": {},
     "output_type": "execute_result"
    }
   ],
   "source": [
    "f'my house number is {4}'"
   ]
  },
  {
   "cell_type": "code",
   "execution_count": 29,
   "id": "f16650a9-ed61-4782-a2c3-97e4e7a53505",
   "metadata": {},
   "outputs": [
    {
     "data": {
      "text/plain": [
       "'Pi value is: 3.14'"
      ]
     },
     "execution_count": 29,
     "metadata": {},
     "output_type": "execute_result"
    }
   ],
   "source": [
    "f'Pi value is: {math.pi:.2f}'"
   ]
  },
  {
   "cell_type": "markdown",
   "id": "74cff01f-4a5a-4cc5-8dcb-973eb7229f8d",
   "metadata": {},
   "source": [
    "## MultiStrings"
   ]
  },
  {
   "cell_type": "code",
   "execution_count": 31,
   "id": "8420a649-7115-4ff9-99da-259ba1d3365f",
   "metadata": {},
   "outputs": [],
   "source": [
    "myname = '''\n",
    "My name is Ravi\n",
    "Live in Bangalore\n",
    "'''"
   ]
  },
  {
   "cell_type": "code",
   "execution_count": 33,
   "id": "9b3805e1-6767-420b-a407-5a8460f8d9f4",
   "metadata": {},
   "outputs": [
    {
     "name": "stdout",
     "output_type": "stream",
     "text": [
      "\n",
      "My name is Ravi\n",
      "Live in Bangalore\n",
      "\n"
     ]
    }
   ],
   "source": [
    "print(myname)"
   ]
  },
  {
   "cell_type": "code",
   "execution_count": null,
   "id": "9f318132-62d5-41f7-9a72-9635bbc461f2",
   "metadata": {},
   "outputs": [],
   "source": []
  }
 ],
 "metadata": {
  "kernelspec": {
   "display_name": "Python 3 (ipykernel)",
   "language": "python",
   "name": "python3"
  },
  "language_info": {
   "codemirror_mode": {
    "name": "ipython",
    "version": 3
   },
   "file_extension": ".py",
   "mimetype": "text/x-python",
   "name": "python",
   "nbconvert_exporter": "python",
   "pygments_lexer": "ipython3",
   "version": "3.12.3"
  }
 },
 "nbformat": 4,
 "nbformat_minor": 5
}
