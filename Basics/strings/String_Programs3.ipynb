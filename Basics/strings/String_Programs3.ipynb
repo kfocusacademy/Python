{
 "cells": [
  {
   "cell_type": "code",
   "execution_count": 3,
   "id": "f66c395f",
   "metadata": {},
   "outputs": [
    {
     "name": "stdout",
     "output_type": "stream",
     "text": [
      "['Gfg', 'is', 'best', '.', 'Gfg', 'also', 'has', 'Classes', 'now.', '', '', '', '', '', '', '', '', '', '', '', '', '', 'Classes', 'help', 'understand', 'better', '.', '']\n",
      "Gfg is best . It also has Classes now.              They help understand better . \n"
     ]
    }
   ],
   "source": [
    "# Replace repetitive string with given values \n",
    "\n",
    "test_str = 'Gfg is best . Gfg also has Classes now. \\\n",
    "             Classes help understand better . ' \n",
    "\n",
    "replc_dict = {'Gfg':'It','Classes':'They'}\n",
    "\n",
    "test_lst = test_str.split(\" \")\n",
    "print(test_lst)\n",
    "res = set()\n",
    "\n",
    "# loop through the list, if the string is repetitive replacing with dict values \n",
    "for idx,str in enumerate(test_lst):\n",
    "    if str in replc_dict:\n",
    "        if str in res:\n",
    "            test_lst[idx]=replc_dict[str]\n",
    "        else:\n",
    "            res.add(str)\n",
    "res = ' '.join(test_lst)\n",
    "print(res)\n",
    "\n",
    "\n",
    "\n"
   ]
  },
  {
   "cell_type": "code",
   "execution_count": null,
   "id": "e28b228d",
   "metadata": {},
   "outputs": [
    {
     "name": "stdout",
     "output_type": "stream",
     "text": [
      "Password must have 8 characters length\n",
      "False True False\n",
      "password must have atleast one upper or lower or a special character\n"
     ]
    }
   ],
   "source": [
    "# Check validity of a password - must contain one upper case, one spcial case, one number, no space\n",
    "pwd = input(\"Enter Password\")\n",
    "num = \"1234567890\"\n",
    "strUpper = \"ABCDEFGHIJKLMNOPQRSTUVWXYZ\"\n",
    "speChr = \"#@%$&^\"\n",
    "#print(strUpper.lower)\n",
    "if len(pwd) <8:\n",
    "    print(\"Password must have 8 characters length\")\n",
    "    exit\n",
    "elif pwd[0] == '':\n",
    "    print(\"Password must not start with a space\")\n",
    "upper = False\n",
    "lower  = False\n",
    "spChr = False\n",
    "for chr in pwd:\n",
    "    if chr in strUpper:\n",
    "        upper = True\n",
    "    if chr in strUpper.lower():\n",
    "        lower = True\n",
    "    if chr in speChr:\n",
    "        spChr = True\n",
    "print(upper, lower,spChr)\n",
    "if upper == False or lower == False or spChr == False:\n",
    "    print(\"password must have atleast one upper or lower or a special character\")"
   ]
  },
  {
   "cell_type": "code",
   "execution_count": 40,
   "id": "6f6f03fc",
   "metadata": {},
   "outputs": [],
   "source": [
    "pwd = input(\"Enter password\")\n",
    "upper = False\n",
    "lower  = False\n",
    "digit = False\n",
    "for chr in pwd:\n",
    "    if chr.islower():\n",
    "        lower = True\n",
    "    \n",
    "    if chr.isupper():\n",
    "        upper = True\n",
    "\n",
    "    if chr.isdigit():\n",
    "        digit = True\n",
    "\n",
    "if upper == False or lower == False or digit == False:\n",
    "    print(\"password must have atleast one upper or lower or a special character\")"
   ]
  },
  {
   "cell_type": "code",
   "execution_count": 44,
   "id": "3ea3f741",
   "metadata": {},
   "outputs": [
    {
     "name": "stdout",
     "output_type": "stream",
     "text": [
      "tseT\n"
     ]
    }
   ],
   "source": [
    "str = \"Test\"\n",
    "\n",
    "reverseStr = ''.join(reversed(str))\n",
    "print(reverseStr)"
   ]
  },
  {
   "cell_type": "code",
   "execution_count": 1,
   "id": "6902891a",
   "metadata": {},
   "outputs": [
    {
     "name": "stdout",
     "output_type": "stream",
     "text": [
      "!dlrow ,olleH\n"
     ]
    }
   ],
   "source": [
    "# Printing reverse \n",
    "text = \"Hello, world!\"\n",
    "reversed_text = ''\n",
    "for char in text:\n",
    "    reversed_text = char + reversed_text\n",
    "print(reversed_text)\n"
   ]
  },
  {
   "cell_type": "code",
   "execution_count": null,
   "id": "cfb6e0a4",
   "metadata": {},
   "outputs": [],
   "source": [
    "import string\n",
    "import random\n",
    "\n",
    "charList = string.ascii_lowercase + string.digits + string.ascii_uppercase + '., !?;:'\n",
    "t = \"geek\"\n",
    "\n",
    "# Generate random string of the same length \n",
    "def generate_random_string(length):\n",
    "    return ''.join(random.choice(charList) for _ in range(length))\n",
    "        \n",
    "\n",
    "# function count matching characters\n",
    "def fitness(current):\n",
    "    return sum(1 for a,b in zip(current,t) if a==b)\n",
    "\n",
    "# Mutation function changing one character \n",
    "def mutate(parent):\n",
    "    index = random.randint(0,len(parent)-1)\n",
    "    child = list(parent)\n",
    "    child[index] = random.choice(charList)\n",
    "    return ''.join(child)\n",
    "\n",
    "attempt = generate_random_string(4)\n",
    "iteration = 0\n",
    "\n",
    "while attempt != t:\n",
    "    print(attempt)\n",
    "    new_attempt = mutate(attempt)\n",
    "    if fitness(new_attempt) == fitness(attempt):\n",
    "        attempt = new_attempt\n",
    "    iteration +=1 \n",
    "\n",
    "print(f\"target matched after {iteration} iterations\")\n",
    "\n"
   ]
  }
 ],
 "metadata": {
  "kernelspec": {
   "display_name": "Python 3",
   "language": "python",
   "name": "python3"
  },
  "language_info": {
   "codemirror_mode": {
    "name": "ipython",
    "version": 3
   },
   "file_extension": ".py",
   "mimetype": "text/x-python",
   "name": "python",
   "nbconvert_exporter": "python",
   "pygments_lexer": "ipython3",
   "version": "3.13.7"
  }
 },
 "nbformat": 4,
 "nbformat_minor": 5
}
