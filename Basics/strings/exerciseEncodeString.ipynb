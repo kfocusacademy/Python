{
 "cells": [
  {
   "cell_type": "markdown",
   "id": "9d763fb6-353a-4836-8bda-c2f61e36a3b9",
   "metadata": {},
   "source": [
    "Program to encode/decode string \n",
    "encoding('AAAABBBBCCC') should return to ([A',4],['B',4])\n",
    "decoding('[A',4],['B',4]) convert to AAAABBBBCCC"
   ]
  },
  {
   "cell_type": "code",
   "execution_count": 4,
   "id": "1c55c1b2-9b23-48aa-ac87-10abc5d27451",
   "metadata": {},
   "outputs": [],
   "source": [
    "def encoding(decodeStr):\n",
    "    encodedList = []\n",
    "    prevChar = decodeStr[0]\n",
    "    count = 0\n",
    "    for char in decodeStr:\n",
    "        if char != prevChar:\n",
    "            encodedList.append((prevChar,count))\n",
    "            print( prevChar,count)\n",
    "            count = 0\n",
    "        prevChar = char\n",
    "        count = count +1\n",
    "    encodedList.append((prevChar,count))\n",
    "    return encodedList\n",
    "        \n",
    "\n",
    "def decodeList(encodeList):\n",
    "    decodeStr = ''\n",
    "    for item in encodeList:\n",
    "        decodeStr = decodeStr + item[0]*item[1]\n",
    "    return decodeStr\n",
    "\n",
    "\n",
    "            \n"
   ]
  },
  {
   "cell_type": "code",
   "execution_count": 5,
   "id": "18680131-c8db-4061-a423-994d675b0588",
   "metadata": {},
   "outputs": [
    {
     "name": "stdout",
     "output_type": "stream",
     "text": [
      "A 4\n",
      "B 3\n"
     ]
    },
    {
     "data": {
      "text/plain": [
       "[('A', 4), ('B', 3), ('C', 4)]"
      ]
     },
     "execution_count": 5,
     "metadata": {},
     "output_type": "execute_result"
    }
   ],
   "source": [
    "encoding('AAAABBBCCCC')"
   ]
  },
  {
   "cell_type": "code",
   "execution_count": 8,
   "id": "f746e9fc-72d4-493f-be41-acc60078043c",
   "metadata": {},
   "outputs": [
    {
     "data": {
      "text/plain": [
       "'AAAA'"
      ]
     },
     "execution_count": 8,
     "metadata": {},
     "output_type": "execute_result"
    }
   ],
   "source": [
    "decodeList([('A', 4)])"
   ]
  },
  {
   "cell_type": "code",
   "execution_count": 10,
   "id": "8500337e-58be-44c5-ad8d-3715b902d667",
   "metadata": {},
   "outputs": [
    {
     "name": "stdout",
     "output_type": "stream",
     "text": [
      "AAAA\n"
     ]
    }
   ],
   "source": []
  },
  {
   "cell_type": "code",
   "execution_count": null,
   "id": "7abded0e-91d5-4873-93a2-a1c0760c3a5c",
   "metadata": {},
   "outputs": [],
   "source": []
  }
 ],
 "metadata": {
  "kernelspec": {
   "display_name": "Python 3 (ipykernel)",
   "language": "python",
   "name": "python3"
  },
  "language_info": {
   "codemirror_mode": {
    "name": "ipython",
    "version": 3
   },
   "file_extension": ".py",
   "mimetype": "text/x-python",
   "name": "python",
   "nbconvert_exporter": "python",
   "pygments_lexer": "ipython3",
   "version": "3.12.3"
  }
 },
 "nbformat": 4,
 "nbformat_minor": 5
}
