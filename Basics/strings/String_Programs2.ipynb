{
 "cells": [
  {
   "cell_type": "code",
   "execution_count": 32,
   "id": "fe7f0145",
   "metadata": {},
   "outputs": [
    {
     "name": "stdout",
     "output_type": "stream",
     "text": [
      "Product Order Report\n",
      "--------------------\n",
      "Item       |    Qty |    price\n",
      "apples     |   2.50 |      120\n",
      "Bananas    |   3.00 |       80\n",
      "Grapes     |   4.50 |      400\n",
      "Lemons     |  66.00 |      100\n"
     ]
    }
   ],
   "source": [
    "productlist= [(\"apples\",2.5,120),\n",
    "              (\"Bananas\",3,80),\n",
    "              (\"Grapes\",4.5,400),\n",
    "              (\"Lemons\",66,100)\n",
    "                ]\n",
    "\n",
    "print(\"Product Order Report\")\n",
    "print(\"--------------------\")\n",
    "print(\"%-10s | %6s | %8s\" % (\"Item\",\"Qty\",\"price\"))\n",
    "for itemlist in productlist:\n",
    "    print(\"%-10s | %6.2f | %8d\" % (itemlist[0],itemlist[1],itemlist[2]))\n"
   ]
  },
  {
   "cell_type": "code",
   "execution_count": 40,
   "id": "488d4cde",
   "metadata": {},
   "outputs": [
    {
     "data": {
      "text/plain": [
       "True"
      ]
     },
     "execution_count": 40,
     "metadata": {},
     "output_type": "execute_result"
    }
   ],
   "source": [
    "a= 10\n",
    "b=-10\n",
    "a>=b"
   ]
  },
  {
   "cell_type": "code",
   "execution_count": 52,
   "id": "9070e66c",
   "metadata": {},
   "outputs": [
    {
     "name": "stdout",
     "output_type": "stream",
     "text": [
      "10 8 6 4 2 "
     ]
    }
   ],
   "source": [
    "# Program to test print\n",
    "for i in range(10,1,-2):\n",
    "    print(i,end = \" \")\n"
   ]
  },
  {
   "cell_type": "code",
   "execution_count": null,
   "id": "0608428b",
   "metadata": {},
   "outputs": [
    {
     "name": "stdout",
     "output_type": "stream",
     "text": [
      "True\n"
     ]
    }
   ],
   "source": [
    "# Program to check atleast 1 character and 1 digit in the given string\n",
    "str = \"geekforgeeks123\"\n",
    "strExists = any(c.isalpha() for c in str)\n",
    "digitExists = any(c.isdigit() for c in str)\n",
    "if strExists and digitExists:\n",
    "    print(True)\n",
    "else:\n",
    "    print(False)\n",
    "\n",
    "\n",
    "    "
   ]
  },
  {
   "cell_type": "code",
   "execution_count": null,
   "id": "1fc17d3d",
   "metadata": {},
   "outputs": [
    {
     "name": "stdout",
     "output_type": "stream",
     "text": [
      "[0, 2, 4, 6, 8]\n"
     ]
    }
   ],
   "source": []
  }
 ],
 "metadata": {
  "kernelspec": {
   "display_name": "Python 3",
   "language": "python",
   "name": "python3"
  },
  "language_info": {
   "codemirror_mode": {
    "name": "ipython",
    "version": 3
   },
   "file_extension": ".py",
   "mimetype": "text/x-python",
   "name": "python",
   "nbconvert_exporter": "python",
   "pygments_lexer": "ipython3",
   "version": "3.12.3"
  }
 },
 "nbformat": 4,
 "nbformat_minor": 5
}
