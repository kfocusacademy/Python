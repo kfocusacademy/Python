{
 "cells": [
  {
   "cell_type": "markdown",
   "id": "538382a4-a62f-40f7-ab19-89399acbedde",
   "metadata": {},
   "source": [
    "# My first program"
   ]
  },
  {
   "cell_type": "code",
   "execution_count": 4,
   "id": "5ede9c5d-4f69-463b-a28e-c5065501b298",
   "metadata": {},
   "outputs": [
    {
     "ename": "IndentationError",
     "evalue": "unexpected indent (230536578.py, line 2)",
     "output_type": "error",
     "traceback": [
      "\u001b[1;36m  Cell \u001b[1;32mIn[4], line 2\u001b[1;36m\u001b[0m\n\u001b[1;33m    print(\"My age is 20 years\")\u001b[0m\n\u001b[1;37m    ^\u001b[0m\n\u001b[1;31mIndentationError\u001b[0m\u001b[1;31m:\u001b[0m unexpected indent\n"
     ]
    }
   ],
   "source": [
    "print(\"my name is Ravi\")\n",
    "print(\"My age is 20 years\")"
   ]
  },
  {
   "cell_type": "code",
   "execution_count": 6,
   "id": "73bf957b-499b-4564-9f16-50c8df56a959",
   "metadata": {},
   "outputs": [
    {
     "name": "stdin",
     "output_type": "stream",
     "text": [
      "enter your name Madhuri\n"
     ]
    },
    {
     "name": "stdout",
     "output_type": "stream",
     "text": [
      "my name is Madhuri\n"
     ]
    }
   ],
   "source": [
    "name = input(\"enter your name\")\n",
    "print(\"my name is\",name)"
   ]
  },
  {
   "cell_type": "code",
   "execution_count": 8,
   "id": "d70f3165-8db5-41c6-a2ca-16c951bd7642",
   "metadata": {},
   "outputs": [
    {
     "name": "stdout",
     "output_type": "stream",
     "text": [
      "my name is Ravi\n"
     ]
    }
   ],
   "source": [
    "''' this is my first mypthon program\n",
    "i am very excited to learn python '''\n",
    "print(\"my name is Ravi\")"
   ]
  },
  {
   "cell_type": "code",
   "execution_count": 12,
   "id": "4fbd8ea6-7262-4aae-90d6-90f404b19872",
   "metadata": {},
   "outputs": [
    {
     "name": "stdin",
     "output_type": "stream",
     "text": [
      "enter two numbers 100 200\n"
     ]
    },
    {
     "data": {
      "text/plain": [
       "300"
      ]
     },
     "execution_count": 12,
     "metadata": {},
     "output_type": "execute_result"
    }
   ],
   "source": [
    "# accept two numbers and dispaly their sum \n",
    "num1,num2 = input(\"enter two numbers\").split()\n",
    "sum1 = int(num1) + int(num2)\n",
    "sum1\n"
   ]
  },
  {
   "cell_type": "code",
   "execution_count": 15,
   "id": "1b3ae563-4c15-47eb-bec6-8528d98db9f4",
   "metadata": {},
   "outputs": [
    {
     "name": "stdin",
     "output_type": "stream",
     "text": [
      "enter your name Madhuri\n",
      "enter your age 22\n"
     ]
    },
    {
     "name": "stdout",
     "output_type": "stream",
     "text": [
      "my name is Madhuri \n",
      "my age is 22\n"
     ]
    }
   ],
   "source": [
    "# This program accepts name and age, printing name and age\n",
    "name = input(\"enter your name\")\n",
    "age= input(\"enter your age\")\n",
    "print(f\"my name is {name} \")\n",
    "print(f\"my age is {age}\")"
   ]
  },
  {
   "cell_type": "code",
   "execution_count": 33,
   "id": "56c5c0fa-337a-44a4-916d-e584f1531646",
   "metadata": {},
   "outputs": [
    {
     "name": "stdin",
     "output_type": "stream",
     "text": [
      "enter your name Ravi\n",
      "enter your age 33\n"
     ]
    },
    {
     "name": "stdout",
     "output_type": "stream",
     "text": [
      "my name is Ravi, my age is 33\n"
     ]
    }
   ],
   "source": [
    "# This program accepts name and age, printing name and age\n",
    "name = input(\"enter your name\")\n",
    "age= int(input(\"enter your age\"))\n",
    "print(\"my name is %s, my age is %d\" %(name,age))"
   ]
  },
  {
   "cell_type": "code",
   "execution_count": null,
   "id": "563c0ed6-89c7-4f23-b4a1-77fea01f0a75",
   "metadata": {},
   "outputs": [],
   "source": []
  }
 ],
 "metadata": {
  "kernelspec": {
   "display_name": "Python 3 (ipykernel)",
   "language": "python",
   "name": "python3"
  },
  "language_info": {
   "codemirror_mode": {
    "name": "ipython",
    "version": 3
   },
   "file_extension": ".py",
   "mimetype": "text/x-python",
   "name": "python",
   "nbconvert_exporter": "python",
   "pygments_lexer": "ipython3",
   "version": "3.12.3"
  }
 },
 "nbformat": 4,
 "nbformat_minor": 5
}
