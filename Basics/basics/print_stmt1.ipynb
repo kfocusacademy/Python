{
 "cells": [
  {
   "cell_type": "code",
   "execution_count": 21,
   "id": "d80dcc56",
   "metadata": {},
   "outputs": [
    {
     "name": "stdout",
     "output_type": "stream",
     "text": [
      "*\n",
      "**10-5-2025\n",
      "my name isRavi, my age is 20\n"
     ]
    }
   ],
   "source": [
    "print(\"*\")\n",
    "print(\"*\",end=\"\")\n",
    "print(end=\"*\")\n",
    "dd = 10\n",
    "mm = 5\n",
    "yyyy = 2025\n",
    "name = \"Ravi\"\n",
    "age = 20\n",
    "print(dd,mm,yyyy,sep=\"-\")\n",
    "print(f\"my name is{name}, my age is {age}\")"
   ]
  },
  {
   "cell_type": "code",
   "execution_count": null,
   "id": "b00cf29c",
   "metadata": {},
   "outputs": [
    {
     "ename": "SyntaxError",
     "evalue": "invalid decimal literal (3711801343.py, line 1)",
     "output_type": "error",
     "traceback": [
      "\u001b[1;36m  Cell \u001b[1;32mIn[9], line 1\u001b[1;36m\u001b[0m\n\u001b[1;33m    a = 2 + 3i\u001b[0m\n\u001b[1;37m            ^\u001b[0m\n\u001b[1;31mSyntaxError\u001b[0m\u001b[1;31m:\u001b[0m invalid decimal literal\n"
     ]
    }
   ],
   "source": [
    "a = 2 + 3j\n",
    "b = 3 + 4j\n",
    "print(a*b)"
   ]
  },
  {
   "cell_type": "code",
   "execution_count": 9,
   "id": "fa3995be",
   "metadata": {},
   "outputs": [
    {
     "name": "stdout",
     "output_type": "stream",
     "text": [
      " Sankar   \n"
     ]
    }
   ],
   "source": [
    "name = \" Sankar\"\n",
    "print(\"%-10s\" %name)"
   ]
  },
  {
   "cell_type": "code",
   "execution_count": null,
   "id": "a9bdaff5",
   "metadata": {},
   "outputs": [
    {
     "name": "stdout",
     "output_type": "stream",
     "text": [
      "{'a', 's', 'v', 'y', 'n', 'M', 'i', ' ', 'R', 'e'}\n"
     ]
    },
    {
     "ename": "",
     "evalue": "",
     "output_type": "error",
     "traceback": [
      "\u001b[1;31mThe Kernel crashed while executing code in the current cell or a previous cell. \n",
      "\u001b[1;31mPlease review the code in the cell(s) to identify a possible cause of the failure. \n",
      "\u001b[1;31mClick <a href='https://aka.ms/vscodeJupyterKernelCrash'>here</a> for more info. \n",
      "\u001b[1;31mView Jupyter <a href='command:jupyter.viewOutput'>log</a> for further details."
     ]
    }
   ],
   "source": [
    "a = set(\"My naMe is Ravi\")\n",
    "print(a)"
   ]
  },
  {
   "cell_type": "code",
   "execution_count": 14,
   "id": "0fc3ca11",
   "metadata": {},
   "outputs": [
    {
     "name": "stdout",
     "output_type": "stream",
     "text": [
      "['Print']\n"
     ]
    }
   ],
   "source": [
    "user_input = input(\"Enter multiple words seperated by space\")\n",
    "words = user_input.split()\n",
    "print(words)"
   ]
  },
  {
   "cell_type": "code",
   "execution_count": 19,
   "id": "fa93b288",
   "metadata": {},
   "outputs": [
    {
     "name": "stdout",
     "output_type": "stream",
     "text": [
      "<class 'str'>\n"
     ]
    }
   ],
   "source": [
    "str1:int = \"nanme\"\n",
    "print(type(str1))"
   ]
  }
 ],
 "metadata": {
  "kernelspec": {
   "display_name": "Python 3",
   "language": "python",
   "name": "python3"
  },
  "language_info": {
   "codemirror_mode": {
    "name": "ipython",
    "version": 3
   },
   "file_extension": ".py",
   "mimetype": "text/x-python",
   "name": "python",
   "nbconvert_exporter": "python",
   "pygments_lexer": "ipython3",
   "version": "3.12.3"
  }
 },
 "nbformat": 4,
 "nbformat_minor": 5
}
