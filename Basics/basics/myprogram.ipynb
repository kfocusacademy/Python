{
 "cells": [
  {
   "cell_type": "code",
   "execution_count": null,
   "id": "af995ee5",
   "metadata": {},
   "outputs": [],
   "source": [
    "print(\"My git program\")"
   ]
  }
 ],
 "metadata": {
  "language_info": {
   "name": "python"
  }
 },
 "nbformat": 4,
 "nbformat_minor": 5
}
