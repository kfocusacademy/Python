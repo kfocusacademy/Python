{
 "cells": [
  {
   "cell_type": "code",
   "execution_count": null,
   "id": "88f70d3f",
   "metadata": {},
   "outputs": [
    {
     "name": "stdout",
     "output_type": "stream",
     "text": [
      "30\n"
     ]
    }
   ],
   "source": [
    "# Modified my program 21/Oct\n",
    "\n",
    "list = [10,40,30,20]\n",
    "\n",
    "list.sort(reverse=True)\n",
    "print(list[1])\n",
    "\n"
   ]
  },
  {
   "cell_type": "code",
   "execution_count": 1,
   "id": "717729b1",
   "metadata": {},
   "outputs": [
    {
     "name": "stdout",
     "output_type": "stream",
     "text": [
      "My name is ravi, age is 20\n"
     ]
    }
   ],
   "source": [
    "def display_name_age(name,age):\n",
    "    print(\"My name is %s, age is %s\" % (name,age))\n",
    "\n",
    "\n",
    "display_name_age(\"ravi\",20)"
   ]
  },
  {
   "cell_type": "code",
   "execution_count": 1,
   "id": "ae19a210",
   "metadata": {},
   "outputs": [
    {
     "name": "stdout",
     "output_type": "stream",
     "text": [
      "My name is ravi, age is 20\n"
     ]
    }
   ],
   "source": [
    "# Using dictionary mode\n",
    "def display_name_age(name,age):\n",
    "    print(\"My name is %(n)s, age is %(a)s\" % {'n':name,'a':age})\n",
    "\n",
    "\n",
    "display_name_age(\"ravi\",20)"
   ]
  },
  {
   "cell_type": "code",
   "execution_count": 2,
   "id": "914f5b8a",
   "metadata": {},
   "outputs": [
    {
     "name": "stdout",
     "output_type": "stream",
     "text": [
      "My name is ravi, age is 20\n"
     ]
    }
   ],
   "source": [
    "# Using % Format mode\n",
    "\n",
    "def display_name_age(name,age):\n",
    "    print(\"My name is {0}, age is {1}\".format(name,age))\n",
    "\n",
    "\n",
    "display_name_age(\"ravi\",20)"
   ]
  },
  {
   "cell_type": "code",
   "execution_count": 3,
   "id": "7ac0a2a9",
   "metadata": {},
   "outputs": [
    {
     "name": "stdout",
     "output_type": "stream",
     "text": [
      "My name is ravi, age is 20\n"
     ]
    }
   ],
   "source": [
    "# Using f Strings \n",
    "def display_name_age(name,age):\n",
    "    print(f'My name is {name}, age is {age}')\n",
    "    \n",
    "\n",
    "\n",
    "display_name_age(\"ravi\",20)"
   ]
  },
  {
   "cell_type": "code",
   "execution_count": 8,
   "id": "d7a4dfd2",
   "metadata": {},
   "outputs": [
    {
     "name": "stdout",
     "output_type": "stream",
     "text": [
      "<class 'str'>\n",
      "<class 'int'>\n",
      "<class 'str'>\n"
     ]
    }
   ],
   "source": [
    "# Using *args as a parameter\n",
    "def display_fields (*args):\n",
    "    for val in args:\n",
    "           print(type(val)) \n",
    "\n",
    "\n",
    "display_fields(\"Name\",20,'30-Oct-2024')"
   ]
  },
  {
   "cell_type": "code",
   "execution_count": null,
   "id": "5d3eb766",
   "metadata": {},
   "outputs": [
    {
     "name": "stdout",
     "output_type": "stream",
     "text": [
      "32\n"
     ]
    }
   ],
   "source": [
    "import math\n",
    "val = pow(2,5)\n",
    "print (val)\n"
   ]
  },
  {
   "cell_type": "code",
   "execution_count": 24,
   "id": "dd364fa7",
   "metadata": {},
   "outputs": [
    {
     "ename": "TypeError",
     "evalue": "unsupported operand type(s) for *: 'int' and 'NoneType'",
     "output_type": "error",
     "traceback": [
      "\u001b[1;31m---------------------------------------------------------------------------\u001b[0m",
      "\u001b[1;31mTypeError\u001b[0m                                 Traceback (most recent call last)",
      "Cell \u001b[1;32mIn[24], line 10\u001b[0m\n\u001b[0;32m      7\u001b[0m         \u001b[38;5;28;01mreturn\u001b[39;00m (half\u001b[38;5;241m*\u001b[39mhalf)\n\u001b[0;32m      8\u001b[0m         \u001b[38;5;66;03m# return (b*power(b,p/2))\u001b[39;00m\n\u001b[1;32m---> 10\u001b[0m \u001b[38;5;28mprint\u001b[39m(\u001b[43mpower\u001b[49m\u001b[43m(\u001b[49m\u001b[38;5;241;43m2\u001b[39;49m\u001b[43m,\u001b[49m\u001b[38;5;241;43m60\u001b[39;49m\u001b[43m)\u001b[49m)\n",
      "Cell \u001b[1;32mIn[24], line 6\u001b[0m, in \u001b[0;36mpower\u001b[1;34m(b, p)\u001b[0m\n\u001b[0;32m      4\u001b[0m     \u001b[38;5;28;01mreturn\u001b[39;00m \u001b[38;5;241m1\u001b[39m\n\u001b[0;32m      5\u001b[0m \u001b[38;5;28;01mif\u001b[39;00m p \u001b[38;5;241m%\u001b[39m \u001b[38;5;241m2\u001b[39m \u001b[38;5;241m==\u001b[39m \u001b[38;5;241m0\u001b[39m:\n\u001b[1;32m----> 6\u001b[0m     half \u001b[38;5;241m=\u001b[39m b \u001b[38;5;241m*\u001b[39m \u001b[43mpower\u001b[49m\u001b[43m(\u001b[49m\u001b[43mb\u001b[49m\u001b[43m,\u001b[49m\u001b[43mp\u001b[49m\u001b[38;5;241;43m/\u001b[39;49m\u001b[38;5;241;43m2\u001b[39;49m\u001b[43m)\u001b[49m\n\u001b[0;32m      7\u001b[0m     \u001b[38;5;28;01mreturn\u001b[39;00m (half\u001b[38;5;241m*\u001b[39mhalf)\n",
      "Cell \u001b[1;32mIn[24], line 6\u001b[0m, in \u001b[0;36mpower\u001b[1;34m(b, p)\u001b[0m\n\u001b[0;32m      4\u001b[0m     \u001b[38;5;28;01mreturn\u001b[39;00m \u001b[38;5;241m1\u001b[39m\n\u001b[0;32m      5\u001b[0m \u001b[38;5;28;01mif\u001b[39;00m p \u001b[38;5;241m%\u001b[39m \u001b[38;5;241m2\u001b[39m \u001b[38;5;241m==\u001b[39m \u001b[38;5;241m0\u001b[39m:\n\u001b[1;32m----> 6\u001b[0m     half \u001b[38;5;241m=\u001b[39m \u001b[43mb\u001b[49m\u001b[43m \u001b[49m\u001b[38;5;241;43m*\u001b[39;49m\u001b[43m \u001b[49m\u001b[43mpower\u001b[49m\u001b[43m(\u001b[49m\u001b[43mb\u001b[49m\u001b[43m,\u001b[49m\u001b[43mp\u001b[49m\u001b[38;5;241;43m/\u001b[39;49m\u001b[38;5;241;43m2\u001b[39;49m\u001b[43m)\u001b[49m\n\u001b[0;32m      7\u001b[0m     \u001b[38;5;28;01mreturn\u001b[39;00m (half\u001b[38;5;241m*\u001b[39mhalf)\n",
      "\u001b[1;31mTypeError\u001b[0m: unsupported operand type(s) for *: 'int' and 'NoneType'"
     ]
    }
   ],
   "source": [
    "# recursive function to calc power \n",
    "def power(b,p):\n",
    "    if p <= 0 :\n",
    "        return 1\n",
    "    if p % 2 == 0:\n",
    "        half = b * power(b,p/2)\n",
    "        return (half*half)\n",
    "        # return (b*power(b,p/2))\n",
    "\n",
    "print(power(2,60))\n",
    "            \n"
   ]
  }
 ],
 "metadata": {
  "kernelspec": {
   "display_name": "Python 3",
   "language": "python",
   "name": "python3"
  },
  "language_info": {
   "codemirror_mode": {
    "name": "ipython",
    "version": 3
   },
   "file_extension": ".py",
   "mimetype": "text/x-python",
   "name": "python",
   "nbconvert_exporter": "python",
   "pygments_lexer": "ipython3",
   "version": "3.13.7"
  }
 },
 "nbformat": 4,
 "nbformat_minor": 5
}
