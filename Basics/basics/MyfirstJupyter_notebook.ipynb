{
 "cells": [
  {
   "cell_type": "markdown",
   "id": "b2545508-ca54-42e9-9867-ab96398b6700",
   "metadata": {},
   "source": [
    "# Mysample Proram"
   ]
  },
  {
   "cell_type": "code",
   "execution_count": 1,
   "id": "0593b2e6-8756-40cb-afbb-cf1e14b63ecd",
   "metadata": {},
   "outputs": [
    {
     "name": "stdout",
     "output_type": "stream",
     "text": [
      "doing data science\n"
     ]
    }
   ],
   "source": [
    "print(\"doing data science\");"
   ]
  },
  {
   "cell_type": "code",
   "execution_count": null,
   "id": "5686e849-62f6-457a-8765-fa29d80738f1",
   "metadata": {},
   "outputs": [],
   "source": []
  },
  {
   "cell_type": "code",
   "execution_count": null,
   "id": "a9533560-8065-4491-85ad-12a615a0344f",
   "metadata": {},
   "outputs": [],
   "source": []
  },
  {
   "cell_type": "code",
   "execution_count": null,
   "id": "7e314e63-4868-4ad9-a16b-c7cd211ed1a3",
   "metadata": {},
   "outputs": [],
   "source": []
  }
 ],
 "metadata": {
  "kernelspec": {
   "display_name": "Python 3 (ipykernel)",
   "language": "python",
   "name": "python3"
  },
  "language_info": {
   "codemirror_mode": {
    "name": "ipython",
    "version": 3
   },
   "file_extension": ".py",
   "mimetype": "text/x-python",
   "name": "python",
   "nbconvert_exporter": "python",
   "pygments_lexer": "ipython3",
   "version": "3.12.3"
  }
 },
 "nbformat": 4,
 "nbformat_minor": 5
}
