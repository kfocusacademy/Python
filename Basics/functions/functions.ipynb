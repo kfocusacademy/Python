{
 "cells": [
  {
   "cell_type": "markdown",
   "id": "600b5b53-daee-4eac-ac6d-8f0c95b3b4e8",
   "metadata": {},
   "source": [
    "# Functions\n",
    "functions may or may not return a value\n",
    "def = define a function (attribute)\n",
    "return statement to return a value"
   ]
  },
  {
   "cell_type": "code",
   "execution_count": 8,
   "id": "8b4dc5ed-8233-4a87-a13f-691cebf8cee2",
   "metadata": {},
   "outputs": [
    {
     "data": {
      "text/plain": [
       "12"
      ]
     },
     "execution_count": 8,
     "metadata": {},
     "output_type": "execute_result"
    }
   ],
   "source": [
    "def multiplyTwoNumbers(val1, val2):\n",
    "    val3 = val1 * val2\n",
    "    return val3\n",
    "\n",
    "multiplyTwoNumbers(4,3)"
   ]
  },
  {
   "cell_type": "code",
   "execution_count": 6,
   "id": "38a206d0-9212-4d69-8cf0-1a5fe7091d42",
   "metadata": {},
   "outputs": [
    {
     "name": "stdout",
     "output_type": "stream",
     "text": [
      "[1, 2, 3, 4, 5]\n"
     ]
    }
   ],
   "source": [
    "list = [1,2,3,4]\n",
    "def appendList(list,val):\n",
    "    list.append(val)\n",
    "    print(list);\n",
    "\n",
    "appendList(list,5)"
   ]
  },
  {
   "cell_type": "code",
   "execution_count": 7,
   "id": "2747765e-b995-406c-aae2-fd25584c0ffb",
   "metadata": {},
   "outputs": [
    {
     "name": "stdout",
     "output_type": "stream",
     "text": [
      "aa\n",
      "None\n"
     ]
    }
   ],
   "source": [
    "print(print(\"aa\"))"
   ]
  },
  {
   "cell_type": "code",
   "execution_count": 32,
   "id": "24920426-c0b8-45fa-85d3-b31fea19ec42",
   "metadata": {},
   "outputs": [
    {
     "name": "stdout",
     "output_type": "stream",
     "text": [
      "<class 'int'>\n",
      "1\n",
      "2\n",
      "6\n",
      "24\n"
     ]
    },
    {
     "data": {
      "text/plain": [
       "24"
      ]
     },
     "execution_count": 32,
     "metadata": {},
     "output_type": "execute_result"
    }
   ],
   "source": [
    "def factorial(num1):\n",
    "    incrementVal = 1\n",
    "    fact = 1\n",
    "    if type(num1) != int:\n",
    "        return None \n",
    "    if num1 <=0:\n",
    "        return None \n",
    "    \n",
    "    while incrementVal<=num1:\n",
    "        fact = fact * incrementVal\n",
    "        incrementVal = incrementVal+1\n",
    "        print(fact)\n",
    "    return fact\n",
    "    \n",
    "    \n",
    "factorial(4)"
   ]
  },
  {
   "cell_type": "code",
   "execution_count": 27,
   "id": "17719bb1-d8ec-4a86-822a-9f90afe4ea83",
   "metadata": {},
   "outputs": [
    {
     "ename": "NameError",
     "evalue": "name 'num1' is not defined",
     "output_type": "error",
     "traceback": [
      "\u001b[1;31m---------------------------------------------------------------------------\u001b[0m",
      "\u001b[1;31mNameError\u001b[0m                                 Traceback (most recent call last)",
      "Cell \u001b[1;32mIn[27], line 1\u001b[0m\n\u001b[1;32m----> 1\u001b[0m \u001b[38;5;28mtype\u001b[39m(\u001b[43mnum1\u001b[49m)\n",
      "\u001b[1;31mNameError\u001b[0m: name 'num1' is not defined"
     ]
    }
   ],
   "source": []
  },
  {
   "cell_type": "code",
   "execution_count": 32,
   "id": "ea684999-45d3-4f4c-a73d-6d776f497f29",
   "metadata": {},
   "outputs": [],
   "source": [
    "# *args\n",
    "def addNumbers(*args):\n",
    "    sum = 0\n",
    "    for num in args:\n",
    "        sum = sum+num\n",
    "    return sum\n",
    "    \n"
   ]
  },
  {
   "cell_type": "code",
   "execution_count": 33,
   "id": "a87d66d1-ba8d-4d26-b3d6-7917ca045e2a",
   "metadata": {},
   "outputs": [
    {
     "data": {
      "text/plain": [
       "10"
      ]
     },
     "execution_count": 33,
     "metadata": {},
     "output_type": "execute_result"
    }
   ],
   "source": [
    "addNumbers(1,2,3,4)"
   ]
  },
  {
   "cell_type": "code",
   "execution_count": 28,
   "id": "33070d61-0f9f-4a5e-b2fb-eec007736b0a",
   "metadata": {},
   "outputs": [],
   "source": [
    "# *kwargs \n",
    "def mathOperation(*args,operation ='Sum' ):\n",
    "    result = 0\n",
    "    print (operation)\n",
    "    for num in args:\n",
    "        print(num)\n",
    "        if operation == 'Sum':\n",
    "            result = result + num\n",
    "        if operation == 'Multiply':\n",
    "            result = result * num\n",
    "    return result\n",
    "    "
   ]
  },
  {
   "cell_type": "code",
   "execution_count": 31,
   "id": "976afd91-38a3-4cb3-861a-857245d4ed81",
   "metadata": {},
   "outputs": [
    {
     "name": "stdout",
     "output_type": "stream",
     "text": [
      "Sum\n",
      "1\n",
      "2\n",
      "3\n",
      "4\n"
     ]
    },
    {
     "data": {
      "text/plain": [
       "10"
      ]
     },
     "execution_count": 31,
     "metadata": {},
     "output_type": "execute_result"
    }
   ],
   "source": [
    "mathOperation(1,2,3,4,operation ='Sum')"
   ]
  },
  {
   "cell_type": "code",
   "execution_count": 44,
   "id": "cc180a78-5798-4ef1-a2c9-411cbb128352",
   "metadata": {},
   "outputs": [],
   "source": [
    "#locals & globals \n",
    "num1 = 10\n",
    "num2 = 20\n",
    "total = 0\n",
    "\n",
    "def addTwoNumbers(num1,num2):\n",
    "    def isItNumber(num):\n",
    "        if int(num) > 0:\n",
    "            return num\n",
    "        else:\n",
    "            return 0\n",
    "    total = isItNumber(num1) + isItNumber(num2)\n",
    "    print(locals())\n",
    "    print(globals())\n",
    "    return total\n",
    "\n",
    "\n",
    "\n"
   ]
  },
  {
   "cell_type": "code",
   "execution_count": null,
   "id": "0217171e-76be-43e7-8751-dfb2139c0064",
   "metadata": {},
   "outputs": [],
   "source": [
    "addTwoNumbers(1,2)"
   ]
  },
  {
   "cell_type": "code",
   "execution_count": 49,
   "id": "16bd48f4-17f9-41ac-b842-e744b95b59f8",
   "metadata": {},
   "outputs": [],
   "source": [
    "# Functions as variables \n",
    "\n",
    "def removePunctuation(txt):\n",
    "    punctuations = [',','.','\"',':',';']\n",
    "    for char in punctuations:\n",
    "        txt = txt.replace(char,'')\n",
    "    return txt\n",
    "\n",
    "def removeShortWords (txt):\n",
    "    return ' '.join([word for word in txt.split() if len(word)>3])\n",
    "\n",
    "\n"
   ]
  },
  {
   "cell_type": "code",
   "execution_count": 47,
   "id": "1980f3f6-986a-4f05-ab2c-83034b733f01",
   "metadata": {},
   "outputs": [
    {
     "data": {
      "text/plain": [
       "'A man living alone  he needs some one to accomoapny'"
      ]
     },
     "execution_count": 47,
     "metadata": {},
     "output_type": "execute_result"
    }
   ],
   "source": [
    "removePunctuation('A man living alone ; he needs some one to accomoapny....')"
   ]
  },
  {
   "cell_type": "code",
   "execution_count": 50,
   "id": "a9a65369-9249-46f9-9a6a-be06ae691d29",
   "metadata": {},
   "outputs": [
    {
     "data": {
      "text/plain": [
       "'living alone needs some accomoapny....'"
      ]
     },
     "execution_count": 50,
     "metadata": {},
     "output_type": "execute_result"
    }
   ],
   "source": [
    "removeShortWords ('A man living alone ; he needs some one to accomoapny....')"
   ]
  },
  {
   "cell_type": "code",
   "execution_count": 53,
   "id": "503df108-981c-4074-b4fe-15c5d9ef594a",
   "metadata": {},
   "outputs": [
    {
     "name": "stdout",
     "output_type": "stream",
     "text": [
      "living alone needs some accomoapny\n"
     ]
    }
   ],
   "source": [
    "processingFunctions= [removePunctuation,removeShortWords]\n",
    "text = 'A man living alone ; he needs some one to accomoapny....'\n",
    "\n",
    "for func in processingFunctions:\n",
    "    text = func(text)\n",
    "print(text)"
   ]
  },
  {
   "cell_type": "code",
   "execution_count": 56,
   "id": "b5899f7a-90bc-46a2-ad31-b2a833823802",
   "metadata": {},
   "outputs": [
    {
     "data": {
      "text/plain": [
       "6"
      ]
     },
     "execution_count": 56,
     "metadata": {},
     "output_type": "execute_result"
    }
   ],
   "source": [
    "# Lambda Functions\n",
    "\n",
    "(lambda x,y: x*y (2,3)\n"
   ]
  },
  {
   "cell_type": "code",
   "execution_count": 57,
   "id": "607b2555-a875-4ac4-acfc-88a9f22d06ea",
   "metadata": {},
   "outputs": [
    {
     "data": {
      "text/plain": [
       "[3, 4, 5]"
      ]
     },
     "execution_count": 57,
     "metadata": {},
     "output_type": "execute_result"
    }
   ],
   "source": [
    "myList = [5,4,3]\n",
    "sorted(myList)"
   ]
  },
  {
   "cell_type": "code",
   "execution_count": 59,
   "id": "306f5432-703e-44db-945f-59e0c8d73c76",
   "metadata": {},
   "outputs": [
    {
     "name": "stdout",
     "output_type": "stream",
     "text": [
      "[{'num1': 1}, {'num2': 2}, {'num3': 3}]\n"
     ]
    }
   ],
   "source": [
    "myList = [{'num1':1}, {'num2':2} ,{'num3':3}]\n",
    "print(myList)"
   ]
  },
  {
   "cell_type": "code",
   "execution_count": 60,
   "id": "001b75c6-5a79-43b0-9a63-7e685feca8ed",
   "metadata": {},
   "outputs": [
    {
     "ename": "TypeError",
     "evalue": "'<' not supported between instances of 'dict' and 'dict'",
     "output_type": "error",
     "traceback": [
      "\u001b[1;31m---------------------------------------------------------------------------\u001b[0m",
      "\u001b[1;31mTypeError\u001b[0m                                 Traceback (most recent call last)",
      "Cell \u001b[1;32mIn[60], line 1\u001b[0m\n\u001b[1;32m----> 1\u001b[0m \u001b[38;5;28;43msorted\u001b[39;49m\u001b[43m(\u001b[49m\u001b[43mmyList\u001b[49m\u001b[43m)\u001b[49m\n",
      "\u001b[1;31mTypeError\u001b[0m: '<' not supported between instances of 'dict' and 'dict'"
     ]
    }
   ],
   "source": [
    "sorted(myList)"
   ]
  },
  {
   "cell_type": "code",
   "execution_count": null,
   "id": "73eaccf7-5f61-46ab-bc47-ac8bbc63b85f",
   "metadata": {},
   "outputs": [],
   "source": []
  }
 ],
 "metadata": {
  "kernelspec": {
   "display_name": "Python 3 (ipykernel)",
   "language": "python",
   "name": "python3"
  },
  "language_info": {
   "codemirror_mode": {
    "name": "ipython",
    "version": 3
   },
   "file_extension": ".py",
   "mimetype": "text/x-python",
   "name": "python",
   "nbconvert_exporter": "python",
   "pygments_lexer": "ipython3",
   "version": "3.12.3"
  }
 },
 "nbformat": 4,
 "nbformat_minor": 5
}
