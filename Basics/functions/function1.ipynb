{
 "cells": [
  {
   "cell_type": "code",
   "execution_count": 1,
   "id": "b1e39957",
   "metadata": {},
   "outputs": [
    {
     "data": {
      "text/plain": [
       "200"
      ]
     },
     "execution_count": 1,
     "metadata": {},
     "output_type": "execute_result"
    }
   ],
   "source": [
    "def multiply_two_numbers(num1,num2):\n",
    "    return num1*num2\n",
    "\n",
    "multiply_two_numbers(10,20)\n",
    "    "
   ]
  },
  {
   "cell_type": "code",
   "execution_count": null,
   "id": "f4017c32",
   "metadata": {},
   "outputs": [
    {
     "data": {
      "text/plain": [
       "120"
      ]
     },
     "execution_count": 4,
     "metadata": {},
     "output_type": "execute_result"
    }
   ],
   "source": [
    "def factorial (num1):\n",
    "    fact = 1\n",
    "    for i in range(1,num1+1):\n",
    "        fact = fact * i\n",
    "    return fact \n",
    "\n",
    "factorial(5)\n"
   ]
  },
  {
   "cell_type": "code",
   "execution_count": 9,
   "id": "5a22dc51",
   "metadata": {},
   "outputs": [
    {
     "data": {
      "text/plain": [
       "' a b c'"
      ]
     },
     "execution_count": 9,
     "metadata": {},
     "output_type": "execute_result"
    }
   ],
   "source": [
    "def concat(*txtParam):\n",
    "    result_txt = ''\n",
    "    for txt in txtParam:\n",
    "        result_txt = result_txt + ' ' + txt\n",
    "    return (result_txt)\n",
    "\n",
    "concat(\"a\",\"b\",\"c\")\n"
   ]
  },
  {
   "cell_type": "code",
   "execution_count": 25,
   "id": "6a6180ff",
   "metadata": {},
   "outputs": [
    {
     "name": "stdout",
     "output_type": "stream",
     "text": [
      "apple banana ['a:apple', 'b:banana', 'c:carrot']\n",
      "<class 'str'> <class 'str'> <class 'list'>\n"
     ]
    }
   ],
   "source": [
    "x,y,z = \"apple\",\"banana\",(\"a:apple\",\"b:banana\",\"c:cherry\")\n",
    "l1 = list(z)\n",
    "l1[2] = 'c:carrot'\n",
    "print(x,y,l1)\n",
    "print(type(x),type(y),type(l1))\n"
   ]
  },
  {
   "cell_type": "code",
   "execution_count": 37,
   "id": "2f2efc2b",
   "metadata": {},
   "outputs": [
    {
     "name": "stdout",
     "output_type": "stream",
     "text": [
      "('apple', 'banana', 'apple', 'banana')\n",
      "<built-in method index of tuple object at 0x0000019FE1FC4400>\n"
     ]
    }
   ],
   "source": [
    "fruits = (\"apple\",\"banana\")\n",
    "myTuple = fruits * 2\n",
    "print(myTuple)\n",
    "print(myTuple.index)"
   ]
  },
  {
   "cell_type": "code",
   "execution_count": 43,
   "id": "abbc2f72",
   "metadata": {},
   "outputs": [
    {
     "name": "stdout",
     "output_type": "stream",
     "text": [
      "apple banana 5\n"
     ]
    }
   ],
   "source": [
    "fruits = (\"apple\",\"banana\",5)\n",
    "(a,b,c) = fruits\n",
    "print(a,b,c)"
   ]
  }
 ],
 "metadata": {
  "kernelspec": {
   "display_name": "Python 3",
   "language": "python",
   "name": "python3"
  },
  "language_info": {
   "codemirror_mode": {
    "name": "ipython",
    "version": 3
   },
   "file_extension": ".py",
   "mimetype": "text/x-python",
   "name": "python",
   "nbconvert_exporter": "python",
   "pygments_lexer": "ipython3",
   "version": "3.12.3"
  }
 },
 "nbformat": 4,
 "nbformat_minor": 5
}
