{
 "cells": [
  {
   "cell_type": "code",
   "execution_count": 4,
   "id": "8be5c7ea",
   "metadata": {},
   "outputs": [
    {
     "name": "stdout",
     "output_type": "stream",
     "text": [
      "a 10\n",
      "b 20\n",
      "c 30\n"
     ]
    }
   ],
   "source": [
    "def add_numbers(num1,**arg):\n",
    "    sum = 0\n",
    "    for key,i in arg.items() :\n",
    "        print(key,i)\n",
    "\n",
    "\n",
    "add_numbers(10,a=10, b=20, c=30)"
   ]
  },
  {
   "cell_type": "code",
   "execution_count": 8,
   "id": "9799d8a5",
   "metadata": {},
   "outputs": [
    {
     "name": "stdout",
     "output_type": "stream",
     "text": [
      "[10, 20, 30, 40]\n",
      "[50, 60, 70, 80]\n"
     ]
    }
   ],
   "source": [
    "def add_numbers(*numlist):\n",
    "    for i in numlist:\n",
    "        print(i)    \n",
    "\n",
    "add_numbers([10,20,30,40],[50,60,70,80])\n",
    "    "
   ]
  },
  {
   "cell_type": "code",
   "execution_count": null,
   "id": "6781e290",
   "metadata": {},
   "outputs": [
    {
     "name": "stdout",
     "output_type": "stream",
     "text": [
      "name : Ravi 10\n",
      "age : 24 10\n",
      "city : Bangalore 10\n"
     ]
    }
   ],
   "source": [
    "def greet(num,**kwargs):\n",
    "    \n",
    "    for key,value in kwargs.items():\n",
    "        print(f\"{key} : {value} {num}\")\n",
    "\n",
    "greet(10,name=\"Ravi\",age=24,city=\"Bangalore\")\n"
   ]
  }
 ],
 "metadata": {
  "kernelspec": {
   "display_name": "Python 3",
   "language": "python",
   "name": "python3"
  },
  "language_info": {
   "codemirror_mode": {
    "name": "ipython",
    "version": 3
   },
   "file_extension": ".py",
   "mimetype": "text/x-python",
   "name": "python",
   "nbconvert_exporter": "python",
   "pygments_lexer": "ipython3",
   "version": "3.13.7"
  }
 },
 "nbformat": 4,
 "nbformat_minor": 5
}
