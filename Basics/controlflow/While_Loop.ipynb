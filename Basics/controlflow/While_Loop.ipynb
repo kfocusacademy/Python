{
 "cells": [
  {
   "cell_type": "markdown",
   "id": "a9cae233-661e-4ea6-8eef-e601782d8fc0",
   "metadata": {},
   "source": [
    "# While (condition):\n",
    "        statements \n",
    "# while...else statement "
   ]
  },
  {
   "cell_type": "code",
   "execution_count": 2,
   "id": "fd2b44b2-009c-4ee7-82d7-5e56d8033a19",
   "metadata": {},
   "outputs": [
    {
     "name": "stdout",
     "output_type": "stream",
     "text": [
      "Even number 2\n",
      "Even number 4\n",
      "Even number 6\n",
      "Even number 8\n",
      "Even number 10\n"
     ]
    }
   ],
   "source": [
    "num = 1\n",
    "while(num<=10):\n",
    "    if num%2 ==0:\n",
    "        print(\"Even number\",num)\n",
    "    num = num + 1\n"
   ]
  },
  {
   "cell_type": "code",
   "execution_count": null,
   "id": "ce0dbe7e-c728-4780-b7ef-e484389a4c56",
   "metadata": {},
   "outputs": [],
   "source": []
  }
 ],
 "metadata": {
  "kernelspec": {
   "display_name": "Python 3 (ipykernel)",
   "language": "python",
   "name": "python3"
  },
  "language_info": {
   "codemirror_mode": {
    "name": "ipython",
    "version": 3
   },
   "file_extension": ".py",
   "mimetype": "text/x-python",
   "name": "python",
   "nbconvert_exporter": "python",
   "pygments_lexer": "ipython3",
   "version": "3.12.3"
  }
 },
 "nbformat": 4,
 "nbformat_minor": 5
}
