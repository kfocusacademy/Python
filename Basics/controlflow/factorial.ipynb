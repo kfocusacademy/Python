{
 "cells": [
  {
   "cell_type": "markdown",
   "id": "353cbc51-5e04-4a2c-b72a-44dfe732793b",
   "metadata": {},
   "source": [
    "A Program to calculate factorial \n",
    "function factorial(num1) - returns factorial of the number"
   ]
  },
  {
   "cell_type": "code",
   "execution_count": null,
   "id": "31304a1d-099e-40d1-b437-ef4c7feceddd",
   "metadata": {},
   "outputs": [],
   "source": []
  },
  {
   "cell_type": "code",
   "execution_count": null,
   "id": "d915e570-f1d4-422d-8a63-f0e631a431df",
   "metadata": {},
   "outputs": [],
   "source": [
    "\n"
   ]
  },
  {
   "cell_type": "code",
   "execution_count": null,
   "id": "0569739e-8478-498a-97ba-6694b6a9199c",
   "metadata": {},
   "outputs": [],
   "source": []
  },
  {
   "cell_type": "code",
   "execution_count": null,
   "id": "15001f2d-8ad0-40dc-b098-ea4a18b51622",
   "metadata": {},
   "outputs": [],
   "source": [
    "    print(incrementVal)\n"
   ]
  },
  {
   "cell_type": "code",
   "execution_count": null,
   "id": "12c9ceb3-4563-4f0b-85f5-5ebd908674a7",
   "metadata": {},
   "outputs": [],
   "source": [
    "def multiplyTwoNumbers(val1, val2):\n",
    "    val3 = val1 * val2\n",
    "    return val3\n",
    "\n",
    "multiplyTwoNumbers(2,3)"
   ]
  },
  {
   "cell_type": "code",
   "execution_count": null,
   "id": "8dcda0d8-8d5c-48da-8842-e0c14c621974",
   "metadata": {},
   "outputs": [],
   "source": []
  }
 ],
 "metadata": {
  "kernelspec": {
   "display_name": "Python 3 (ipykernel)",
   "language": "python",
   "name": "python3"
  },
  "language_info": {
   "codemirror_mode": {
    "name": "ipython",
    "version": 3
   },
   "file_extension": ".py",
   "mimetype": "text/x-python",
   "name": "python",
   "nbconvert_exporter": "python",
   "pygments_lexer": "ipython3",
   "version": "3.12.3"
  }
 },
 "nbformat": 4,
 "nbformat_minor": 5
}
