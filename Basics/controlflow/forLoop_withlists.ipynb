{
 "cells": [
  {
   "cell_type": "code",
   "execution_count": 18,
   "id": "a53528e1-353c-48f3-adb8-9a8dbba63b06",
   "metadata": {},
   "outputs": [
    {
     "data": {
      "text/plain": [
       "11"
      ]
     },
     "execution_count": 18,
     "metadata": {},
     "output_type": "execute_result"
    }
   ],
   "source": [
    "from datetime import datetime\n",
    "datetime.now().second+2"
   ]
  },
  {
   "cell_type": "code",
   "execution_count": 55,
   "id": "7916ba18-4bab-422c-b668-d85ab2f30edb",
   "metadata": {},
   "outputs": [
    {
     "name": "stdout",
     "output_type": "stream",
     "text": [
      "['bear', 'boat']\n",
      "['cat']\n",
      "only one animal ['cat']\n"
     ]
    }
   ],
   "source": [
    "animalLookup = {\n",
    "    'b' :['bear','boat'], \n",
    "    'c': ['cat'],\n",
    "                }\n",
    "for letter,animal in animalLookup.items():\n",
    "    print(animal)\n",
    "    if len(animal) > 1:\n",
    "        continue\n",
    "    print('only one animal', (animal))"
   ]
  },
  {
   "cell_type": "code",
   "execution_count": null,
   "id": "3d517bce-8a3d-4c69-85a2-6f2a892ffe76",
   "metadata": {},
   "outputs": [],
   "source": []
  },
  {
   "cell_type": "code",
   "execution_count": null,
   "id": "fd2528d4-9182-4add-9161-5835b72aafa2",
   "metadata": {},
   "outputs": [],
   "source": []
  },
  {
   "cell_type": "code",
   "execution_count": null,
   "id": "e5a764c7-d820-4193-bdc9-9b571a99d297",
   "metadata": {},
   "outputs": [],
   "source": []
  }
 ],
 "metadata": {
  "kernelspec": {
   "display_name": "Python 3 (ipykernel)",
   "language": "python",
   "name": "python3"
  },
  "language_info": {
   "codemirror_mode": {
    "name": "ipython",
    "version": 3
   },
   "file_extension": ".py",
   "mimetype": "text/x-python",
   "name": "python",
   "nbconvert_exporter": "python",
   "pygments_lexer": "ipython3",
   "version": "3.12.3"
  }
 },
 "nbformat": 4,
 "nbformat_minor": 5
}
