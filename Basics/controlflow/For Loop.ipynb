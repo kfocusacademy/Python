{
 "cells": [
  {
   "cell_type": "markdown",
   "id": "53253eee-1791-415d-ad8a-41ea01aad27c",
   "metadata": {},
   "source": [
    "# For Loop\n",
    "# Syntax: for i in range() or collections (i.e. List, Tuples etc.)\n",
    "# break, continue, pass\n",
    "# Nested For Loop (A Loop within a loop)\n",
    "# for ...else statement "
   ]
  },
  {
   "cell_type": "code",
   "execution_count": 17,
   "id": "abc15dea-4e7f-425a-b345-d46a64c160fe",
   "metadata": {},
   "outputs": [
    {
     "name": "stdout",
     "output_type": "stream",
     "text": [
      "1\n",
      "2\n",
      "3\n",
      "4\n",
      "5\n",
      "6\n",
      "7\n",
      "8\n",
      "9\n",
      "10\n"
     ]
    }
   ],
   "source": [
    "# Simple for loop\n",
    "for i in range(1,11):   \n",
    "    print(i)\n",
    "    "
   ]
  },
  {
   "cell_type": "code",
   "execution_count": 22,
   "id": "f1469961-f460-4594-a10f-2af1c34a9fb3",
   "metadata": {},
   "outputs": [
    {
     "name": "stdout",
     "output_type": "stream",
     "text": [
      "0\n",
      "2\n",
      "4\n",
      "6\n",
      "8\n",
      "10\n"
     ]
    }
   ],
   "source": [
    "# Simple for loop\n",
    "for i in range(0,11,2):\n",
    "     print(i)\n"
   ]
  },
  {
   "cell_type": "code",
   "execution_count": 27,
   "id": "137b6cd0-6958-4398-8567-2083d518eaf1",
   "metadata": {},
   "outputs": [
    {
     "name": "stdout",
     "output_type": "stream",
     "text": [
      "0\n",
      "1\n",
      "2\n",
      "3\n",
      "4\n",
      "I value is 5\n",
      "6\n",
      "7\n",
      "8\n",
      "9\n"
     ]
    }
   ],
   "source": [
    "# For loop with break...continue..pass usage\n",
    "for i in range(10):\n",
    "    if (i==5):\n",
    "        print(\"I value is 5\")\n",
    "    else:\n",
    "        print(i)"
   ]
  },
  {
   "cell_type": "code",
   "execution_count": null,
   "id": "edf45969-956f-4465-89c1-5a3410c16fdf",
   "metadata": {},
   "outputs": [],
   "source": [
    "# Nested for loop program\n",
    "1 \n",
    "1 1 \n",
    "1 1 1 \n",
    "1 1 1 1 "
   ]
  },
  {
   "cell_type": "code",
   "execution_count": 29,
   "id": "f046bc78-58b5-49d2-af3c-a54575a0660b",
   "metadata": {},
   "outputs": [
    {
     "name": "stdout",
     "output_type": "stream",
     "text": [
      "1 \n",
      "\n",
      "1 1 \n",
      "\n",
      "1 1 1 \n",
      "\n",
      "1 1 1 1 \n",
      "\n"
     ]
    }
   ],
   "source": [
    "for i in range(1,5):\n",
    "    for j in range(i):\n",
    "        print(\"1\",end = \" \")\n",
    "    print(\"\\n\")\n",
    "        "
   ]
  },
  {
   "cell_type": "code",
   "execution_count": null,
   "id": "d2607a13-61aa-4882-9781-42de7fdf4b4b",
   "metadata": {},
   "outputs": [],
   "source": [
    "1 1 1 1 \n",
    "1 1 1 \n",
    "1 1 \n",
    "1\n",
    "\n",
    "      1\n",
    "    1   1 \n",
    "  1    1   1 "
   ]
  },
  {
   "cell_type": "code",
   "execution_count": null,
   "id": "9420cd64-1ee9-4426-97aa-1864e945feee",
   "metadata": {},
   "outputs": [],
   "source": [
    "# for else statement "
   ]
  },
  {
   "cell_type": "code",
   "execution_count": 30,
   "id": "8d7c1d06-9319-4ccd-b44b-32d60ec036ac",
   "metadata": {},
   "outputs": [
    {
     "name": "stdout",
     "output_type": "stream",
     "text": [
      "0\n",
      "1\n",
      "2\n",
      "3\n",
      "4\n",
      "5\n",
      "6\n",
      "7\n",
      "8\n",
      "9\n",
      "End of for loop\n"
     ]
    }
   ],
   "source": [
    "for i in range(10):\n",
    "    print(i)\n",
    "else:\n",
    "    print(\"End of for loop\")"
   ]
  },
  {
   "cell_type": "code",
   "execution_count": null,
   "id": "d035ea66-90b2-480b-ae19-bf51dcae5bd7",
   "metadata": {},
   "outputs": [],
   "source": []
  }
 ],
 "metadata": {
  "kernelspec": {
   "display_name": "Python 3 (ipykernel)",
   "language": "python",
   "name": "python3"
  },
  "language_info": {
   "codemirror_mode": {
    "name": "ipython",
    "version": 3
   },
   "file_extension": ".py",
   "mimetype": "text/x-python",
   "name": "python",
   "nbconvert_exporter": "python",
   "pygments_lexer": "ipython3",
   "version": "3.12.3"
  }
 },
 "nbformat": 4,
 "nbformat_minor": 5
}
