{
 "cells": [
  {
   "cell_type": "code",
   "execution_count": null,
   "metadata": {},
   "outputs": [],
   "source": [
    "# Nested Loops For .. else \n",
    "\n",
    "['Even' if n%2==0 else 'odd' for n in range(1,10)]\n"
   ]
  },
  {
   "cell_type": "code",
   "execution_count": 21,
   "metadata": {},
   "outputs": [
    {
     "data": {
      "text/html": [
       "<div>\n",
       "<style scoped>\n",
       "    .dataframe tbody tr th:only-of-type {\n",
       "        vertical-align: middle;\n",
       "    }\n",
       "\n",
       "    .dataframe tbody tr th {\n",
       "        vertical-align: top;\n",
       "    }\n",
       "\n",
       "    .dataframe thead th {\n",
       "        text-align: right;\n",
       "    }\n",
       "</style>\n",
       "<table border=\"1\" class=\"dataframe\">\n",
       "  <thead>\n",
       "    <tr style=\"text-align: right;\">\n",
       "      <th></th>\n",
       "      <th>empid</th>\n",
       "      <th>empname</th>\n",
       "      <th>doj</th>\n",
       "      <th>salary</th>\n",
       "      <th>mobile</th>\n",
       "    </tr>\n",
       "    <tr>\n",
       "      <th>dept_code</th>\n",
       "      <th></th>\n",
       "      <th></th>\n",
       "      <th></th>\n",
       "      <th></th>\n",
       "      <th></th>\n",
       "    </tr>\n",
       "  </thead>\n",
       "  <tbody>\n",
       "    <tr>\n",
       "      <th>IT</th>\n",
       "      <td>1002</td>\n",
       "      <td>Joseph</td>\n",
       "      <td>02-01-2001</td>\n",
       "      <td>400000</td>\n",
       "      <td>9333344446</td>\n",
       "    </tr>\n",
       "    <tr>\n",
       "      <th>MKT</th>\n",
       "      <td>1001</td>\n",
       "      <td>Raju</td>\n",
       "      <td>01-01-2001</td>\n",
       "      <td>250000</td>\n",
       "      <td>9333344446</td>\n",
       "    </tr>\n",
       "    <tr>\n",
       "      <th>SALES</th>\n",
       "      <td>1003</td>\n",
       "      <td>Keethi</td>\n",
       "      <td>03-01-2001</td>\n",
       "      <td>400000</td>\n",
       "      <td>9333344446</td>\n",
       "    </tr>\n",
       "  </tbody>\n",
       "</table>\n",
       "</div>"
      ],
      "text/plain": [
       "           empid empname         doj  salary      mobile\n",
       "dept_code                                               \n",
       "IT          1002  Joseph  02-01-2001  400000  9333344446\n",
       "MKT         1001    Raju  01-01-2001  250000  9333344446\n",
       "SALES       1003  Keethi  03-01-2001  400000  9333344446"
      ]
     },
     "execution_count": 21,
     "metadata": {},
     "output_type": "execute_result"
    }
   ],
   "source": [
    "import pandas as pd \n",
    "df = pd.read_csv(\"Employees.csv\")\n",
    "#df.select_dtypes(include='number').aggregate(['sum','min'])\n",
    "gk = df.groupby(\"dept_code\") \n",
    "gk.first()\n",
    "\n",
    "\n"
   ]
  },
  {
   "cell_type": "code",
   "execution_count": 12,
   "metadata": {},
   "outputs": [],
   "source": [
    "# Saving data frame to a CSV\n",
    "\n",
    "id = [1,2,3]\n",
    "name = [\"Ravi\",\"Krishna\",\"Sangeetha\"]\n",
    "age = [10,11,12]\n",
    "\n",
    "# dictionary of lists\n",
    "dict = {'id':id, 'name':name,'age':age}\n",
    "\n",
    "df=pd.DataFrame(dict)\n",
    "\n",
    "#Export DF to a CSV\n",
    "df.to_csv(\"student_exp.csv\")"
   ]
  }
 ],
 "metadata": {
  "kernelspec": {
   "display_name": "Python 3",
   "language": "python",
   "name": "python3"
  },
  "language_info": {
   "codemirror_mode": {
    "name": "ipython",
    "version": 3
   },
   "file_extension": ".py",
   "mimetype": "text/x-python",
   "name": "python",
   "nbconvert_exporter": "python",
   "pygments_lexer": "ipython3",
   "version": "3.12.3"
  }
 },
 "nbformat": 4,
 "nbformat_minor": 2
}
