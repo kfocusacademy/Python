{
 "cells": [
  {
   "cell_type": "markdown",
   "id": "c40bee64-39e2-4961-a0e7-6cef2f94e1fb",
   "metadata": {},
   "source": [
    "# Control Flow"
   ]
  },
  {
   "cell_type": "code",
   "execution_count": null,
   "id": "b38863f0",
   "metadata": {},
   "outputs": [],
   "source": []
  },
  {
   "cell_type": "markdown",
   "id": "c2bad8ba-4094-4382-8edd-12a32ef5d415",
   "metadata": {},
   "source": [
    "## If...Else"
   ]
  },
  {
   "cell_type": "code",
   "execution_count": 6,
   "id": "9d281576-b0c3-4d5e-beaf-5a6819f300f9",
   "metadata": {},
   "outputs": [
    {
     "name": "stdout",
     "output_type": "stream",
     "text": [
      "A is True\n",
      "also print this one\n",
      "always print this\n"
     ]
    }
   ],
   "source": [
    "a=True \n",
    "if a:\n",
    "    print('A is True')\n",
    "    print('also print this one')\n",
    "else:\n",
    "    print('A is false')\n",
    "print(\"always print this\")"
   ]
  },
  {
   "cell_type": "code",
   "execution_count": 12,
   "id": "3eebb9d2-86ff-423f-83cc-d151b204350e",
   "metadata": {},
   "outputs": [
    {
     "name": "stdout",
     "output_type": "stream",
     "text": [
      "A is True\n",
      "also print this one\n",
      "always print this\n"
     ]
    }
   ],
   "source": [
    "a=True \n",
    "b=False\n",
    "if a:\n",
    "    print('A is True')\n",
    "    print('also print this one')\n",
    "    if a == b:\n",
    "        print('Both A and B are True')\n",
    "else:\n",
    "    print('A is false')\n",
    "print(\"always print this\")"
   ]
  },
  {
   "cell_type": "markdown",
   "id": "034356c5-b2eb-44d6-b20c-2ad28958e8b6",
   "metadata": {},
   "source": [
    "## For Loops"
   ]
  },
  {
   "cell_type": "code",
   "execution_count": 23,
   "id": "3d8f3d9d-c144-45c6-a3a7-7221d985f65f",
   "metadata": {},
   "outputs": [
    {
     "name": "stdout",
     "output_type": "stream",
     "text": [
      "1\n",
      "2\n",
      "3\n",
      "4\n",
      "5\n"
     ]
    }
   ],
   "source": [
    "a = [1,2,3,4,5]\n",
    "for item in a:\n",
    "    print(item)\n",
    "    "
   ]
  },
  {
   "cell_type": "code",
   "execution_count": 24,
   "id": "cc270e40-33a8-4b0b-81eb-8078661440ba",
   "metadata": {},
   "outputs": [
    {
     "data": {
      "text/plain": [
       "True"
      ]
     },
     "execution_count": 24,
     "metadata": {},
     "output_type": "execute_result"
    }
   ],
   "source": [
    "4 in a"
   ]
  },
  {
   "cell_type": "markdown",
   "id": "3fa3e728-3d15-40d7-bbe9-448eeef84b1c",
   "metadata": {},
   "source": [
    "## While Loops"
   ]
  },
  {
   "cell_type": "code",
   "execution_count": 30,
   "id": "b6d41dd2-4b97-4a5c-918c-8b2967eb566b",
   "metadata": {},
   "outputs": [
    {
     "name": "stdout",
     "output_type": "stream",
     "text": [
      "0\n",
      "1\n",
      "2\n",
      "3\n"
     ]
    }
   ],
   "source": [
    "a = 0\n",
    "while a<4:\n",
    "    print(a)\n",
    "    a = a+1"
   ]
  },
  {
   "cell_type": "code",
   "execution_count": null,
   "id": "6c97390d-c1a5-4bb8-bfb1-0c9b7966d7b5",
   "metadata": {},
   "outputs": [],
   "source": []
  }
 ],
 "metadata": {
  "kernelspec": {
   "display_name": "Python 3 (ipykernel)",
   "language": "python",
   "name": "python3"
  },
  "language_info": {
   "codemirror_mode": {
    "name": "ipython",
    "version": 3
   },
   "file_extension": ".py",
   "mimetype": "text/x-python",
   "name": "python",
   "nbconvert_exporter": "python",
   "pygments_lexer": "ipython3",
   "version": "3.12.3"
  }
 },
 "nbformat": 4,
 "nbformat_minor": 5
}
