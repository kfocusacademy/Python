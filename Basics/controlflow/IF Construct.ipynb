{
 "cells": [
  {
   "cell_type": "markdown",
   "id": "11f53495-f9aa-4440-921c-39060acad3e9",
   "metadata": {},
   "source": [
    "# If Constructs                                                                 #  if -- else                                                                 \n",
    "  # If conditional expression\n",
    "  #  if -- elif \n",
    "  "
   ]
  },
  {
   "cell_type": "code",
   "execution_count": 25,
   "id": "af992e33-3814-4db3-9b05-415cd3d22da9",
   "metadata": {},
   "outputs": [
    {
     "name": "stdout",
     "output_type": "stream",
     "text": [
      "Odd Number\n",
      "Given number is 13\n"
     ]
    }
   ],
   "source": [
    "# Simple if...else.. Write a program to accept a number, display even or odd \n",
    "num = 13\n",
    "if (num%2!=0):\n",
    "    print(\"Odd Number\")\n",
    "    print(f\"Given number is {num}\")\n",
    "else:\n",
    "    print(\"Even Number\")\n"
   ]
  },
  {
   "cell_type": "code",
   "execution_count": null,
   "id": "956a0158-74eb-43ff-8986-e09be8f60ffd",
   "metadata": {},
   "outputs": [],
   "source": []
  },
  {
   "cell_type": "code",
   "execution_count": 29,
   "id": "c3624cf6-69cc-46d3-9f83-271161eb4786",
   "metadata": {},
   "outputs": [
    {
     "name": "stdout",
     "output_type": "stream",
     "text": [
      " The Adult age is 30\n"
     ]
    }
   ],
   "source": [
    "# A Program to display 'child' if the age is <12, <=18 Teenager, \n",
    "# <=28 - Young Adult, >=28 - Adult\n",
    "age = 30\n",
    "if (age < 12):\n",
    "    print(f\" The Child age is {age}\")\n",
    "elif (age<=18):\n",
    "    print(f\" The Teenager age is {age}\")\n",
    "elif (age<=28):\n",
    "    print(f\" The Young Adult age is {age}\")\n",
    "elif (age>28):\n",
    "    print(f\" The Adult age is {age}\")\n"
   ]
  },
  {
   "cell_type": "code",
   "execution_count": 31,
   "id": "2a150d02-0349-4289-9b71-f6ab08f50edc",
   "metadata": {},
   "outputs": [
    {
     "name": "stdout",
     "output_type": "stream",
     "text": [
      "Even\n"
     ]
    }
   ],
   "source": [
    "num = 10\n",
    "print (\"Even\" if (num%2==0) else \"Odd\")"
   ]
  },
  {
   "cell_type": "code",
   "execution_count": null,
   "id": "1e7ec659-6fa5-4bbc-a5b5-e94349017bcf",
   "metadata": {},
   "outputs": [],
   "source": [
    "Depart_code = \"CHEM\" - Chemical, \"IT\" - Information Tech, \"CSC\" - Computer Science"
   ]
  },
  {
   "cell_type": "code",
   "execution_count": null,
   "id": "66dd912b-0486-4760-9fe1-6db391f11e37",
   "metadata": {},
   "outputs": [],
   "source": []
  },
  {
   "cell_type": "code",
   "execution_count": null,
   "id": "41f4f004-f3b3-4ec6-be50-d85eca6fa236",
   "metadata": {},
   "outputs": [],
   "source": []
  }
 ],
 "metadata": {
  "kernelspec": {
   "display_name": "Python 3 (ipykernel)",
   "language": "python",
   "name": "python3"
  },
  "language_info": {
   "codemirror_mode": {
    "name": "ipython",
    "version": 3
   },
   "file_extension": ".py",
   "mimetype": "text/x-python",
   "name": "python",
   "nbconvert_exporter": "python",
   "pygments_lexer": "ipython3",
   "version": "3.12.3"
  }
 },
 "nbformat": 4,
 "nbformat_minor": 5
}
