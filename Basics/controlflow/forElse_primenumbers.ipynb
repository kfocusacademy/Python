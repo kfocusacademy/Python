{
 "cells": [
  {
   "cell_type": "code",
   "execution_count": null,
   "id": "212f9bf3-de64-4b35-a042-751745e0b429",
   "metadata": {},
   "outputs": [],
   "source": [
    "#to find a prime number using for...else statement "
   ]
  },
  {
   "cell_type": "code",
   "execution_count": null,
   "id": "6affee76-a696-4a8c-b8e6-d8970eaab42d",
   "metadata": {
    "scrolled": true
   },
   "outputs": [],
   "source": [
    "for number in range(2,10):\n",
    "    for factor in range(2,int(number**0.5)+1):\n",
    "        if number%factor ==0:\n",
    "            break\n",
    "    else:\n",
    "        print(f'{number} is a prime number')"
   ]
  },
  {
   "cell_type": "code",
   "execution_count": null,
   "id": "3fa06315-440d-49ef-beac-a1043eaed62a",
   "metadata": {},
   "outputs": [],
   "source": [
    "#write a function to add all prime numbers upto that number\n",
    "# Function to check if this is a prime number\n",
    "def primeNumber(num):\n",
    "    for number in range(2,num):\n",
    "        for factor in range(2,int(number**0.5)+1):\n",
    "            if number%factor == 0:\n",
    "                return 'N' \n",
    "                break\n",
    "        else:\n",
    "          #  print(number)\n",
    "            return 'Y' \n",
    "            \n",
    "def addPrimeUpto(paramNumber):\n",
    "    sumOfPrime = 0\n",
    "    for num in range(2,paramNumber):\n",
    "        print(f'{num} {primeNumber(num)}')\n",
    "        if primeNumber(num)=='Y':\n",
    "            sumOfPrime = sumOfPrime + num\n",
    "    return sumOfPrime\n",
    "\n",
    "\n",
    "    \n",
    "        "
   ]
  },
  {
   "cell_type": "code",
   "execution_count": 49,
   "id": "1b4203c6-cdfa-4038-b044-c8c9d5531908",
   "metadata": {},
   "outputs": [
    {
     "name": "stdout",
     "output_type": "stream",
     "text": [
      "2 None\n",
      "3 Y\n",
      "4 Y\n",
      "5 Y\n",
      "6 Y\n",
      "7 Y\n",
      "8 Y\n",
      "9 Y\n"
     ]
    },
    {
     "data": {
      "text/plain": [
       "42"
      ]
     },
     "execution_count": 49,
     "metadata": {},
     "output_type": "execute_result"
    }
   ],
   "source": [
    "addPrimeUpto(10)"
   ]
  },
  {
   "cell_type": "code",
   "execution_count": null,
   "id": "544e0e6b-2101-4d72-a678-fd6b53aee54a",
   "metadata": {},
   "outputs": [],
   "source": []
  }
 ],
 "metadata": {
  "kernelspec": {
   "display_name": "Python 3 (ipykernel)",
   "language": "python",
   "name": "python3"
  },
  "language_info": {
   "codemirror_mode": {
    "name": "ipython",
    "version": 3
   },
   "file_extension": ".py",
   "mimetype": "text/x-python",
   "name": "python",
   "nbconvert_exporter": "python",
   "pygments_lexer": "ipython3",
   "version": "3.12.3"
  }
 },
 "nbformat": 4,
 "nbformat_minor": 5
}
