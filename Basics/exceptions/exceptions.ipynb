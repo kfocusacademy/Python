{
 "cells": [
  {
   "cell_type": "code",
   "execution_count": 10,
   "id": "92e460f1",
   "metadata": {},
   "outputs": [
    {
     "name": "stdout",
     "output_type": "stream",
     "text": [
      "Custom Error :You called custom exception\n"
     ]
    }
   ],
   "source": [
    "class customException(Exception):\n",
    "    pass\n",
    "\n",
    "def handleException():\n",
    "    try:\n",
    "        1/0\n",
    "    except ZeroDivisionError:\n",
    "        print(\"Zero division error\")\n",
    "    except Exception as e:\n",
    "        print(e)\n",
    "\n",
    "def raiseError(n):\n",
    "    try:\n",
    "        if n<0:\n",
    "            raise customException(\"You called custom exception\")\n",
    "        else:\n",
    "            print(n)\n",
    "            \n",
    "    except customException as e:\n",
    "        print(f\"Custom Error :{e}\")\n",
    "\n",
    "raiseError(-5)"
   ]
  },
  {
   "cell_type": "code",
   "execution_count": 18,
   "id": "f35eb4ea",
   "metadata": {},
   "outputs": [
    {
     "name": "stdout",
     "output_type": "stream",
     "text": [
      "Processing data: 10\n",
      "Caught an error: Data must be a positive integer. Provided value: '-5'\n",
      "Program continues after error handling.\n"
     ]
    }
   ],
   "source": [
    "class InvalidInputError(Exception):\n",
    "    \"\"\"\n",
    "    Custom exception raised when an invalid input is provided.\n",
    "\n",
    "    Attributes:\n",
    "        value -- The input value that caused the error.\n",
    "        message -- Explanation of the error.\n",
    "    \"\"\"\n",
    "    def __init__(self, value, message=\"Invalid input provided.\"):\n",
    "        self.value = value\n",
    "        self.message = message\n",
    "        super().__init__(self.message)\n",
    "\n",
    "    def __str__(self):\n",
    "        return f\"{self.message} Provided value: '{self.value}'\"\n",
    "\n",
    "\n",
    "def process_data(data):\n",
    "    \"\"\"\n",
    "    Processes data, raising InvalidInputError if the data is not a positive integer.\n",
    "    \"\"\"\n",
    "    if not isinstance(data, int) or data <= 0:\n",
    "        raise InvalidInputError(data, \"Data must be a positive integer.\")\n",
    "    print(f\"Processing data: {data}\")\n",
    "\n",
    "# Example usage with try-except block\n",
    "try:\n",
    "    process_data(10)    \n",
    "    process_data(-5)    # This will also raise the custom exception\n",
    "   # process_data(\"hello\")  # This will raise the custom exception\n",
    "\n",
    "except InvalidInputError as e:\n",
    "    print(f\"Caught an error: {e}\")\n",
    "except Exception as e:\n",
    "    print(f\"Caught a general error: {e}\")\n",
    "\n",
    "print(\"Program continues after error handling.\")"
   ]
  },
  {
   "cell_type": "code",
   "execution_count": 23,
   "id": "40ed7b9e",
   "metadata": {},
   "outputs": [
    {
     "name": "stdout",
     "output_type": "stream",
     "text": [
      "It is a string\n"
     ]
    }
   ],
   "source": [
    "if not isinstance('aaaa',str):\n",
    "    print(\"It is not a string\")\n",
    "else:\n",
    "    print(\"It is a string\")"
   ]
  }
 ],
 "metadata": {
  "kernelspec": {
   "display_name": "Python 3",
   "language": "python",
   "name": "python3"
  },
  "language_info": {
   "codemirror_mode": {
    "name": "ipython",
    "version": 3
   },
   "file_extension": ".py",
   "mimetype": "text/x-python",
   "name": "python",
   "nbconvert_exporter": "python",
   "pygments_lexer": "ipython3",
   "version": "3.12.3"
  }
 },
 "nbformat": 4,
 "nbformat_minor": 5
}
