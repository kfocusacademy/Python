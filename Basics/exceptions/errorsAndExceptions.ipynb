{
 "cells": [
  {
   "cell_type": "markdown",
   "id": "ccf067f0-0bb5-4080-bcc8-42cd9bdc068f",
   "metadata": {},
   "source": [
    "## Errors & Exceptions"
   ]
  },
  {
   "cell_type": "code",
   "execution_count": 4,
   "id": "24ddc0d3-bd8b-4c46-b2f8-4477fea5cf36",
   "metadata": {},
   "outputs": [
    {
     "ename": "ZeroDivisionError",
     "evalue": "division by zero",
     "output_type": "error",
     "traceback": [
      "\u001b[1;31m---------------------------------------------------------------------------\u001b[0m",
      "\u001b[1;31mZeroDivisionError\u001b[0m                         Traceback (most recent call last)",
      "Cell \u001b[1;32mIn[4], line 8\u001b[0m\n\u001b[0;32m      4\u001b[0m \u001b[38;5;28;01mdef\u001b[39;00m \u001b[38;5;21mcallCauseError\u001b[39m():\n\u001b[0;32m      5\u001b[0m     \u001b[38;5;28;01mreturn\u001b[39;00m causeError();\n\u001b[1;32m----> 8\u001b[0m \u001b[43mcallCauseError\u001b[49m\u001b[43m(\u001b[49m\u001b[43m)\u001b[49m\n",
      "Cell \u001b[1;32mIn[4], line 5\u001b[0m, in \u001b[0;36mcallCauseError\u001b[1;34m()\u001b[0m\n\u001b[0;32m      4\u001b[0m \u001b[38;5;28;01mdef\u001b[39;00m \u001b[38;5;21mcallCauseError\u001b[39m():\n\u001b[1;32m----> 5\u001b[0m     \u001b[38;5;28;01mreturn\u001b[39;00m \u001b[43mcauseError\u001b[49m\u001b[43m(\u001b[49m\u001b[43m)\u001b[49m\n",
      "Cell \u001b[1;32mIn[4], line 2\u001b[0m, in \u001b[0;36mcauseError\u001b[1;34m()\u001b[0m\n\u001b[0;32m      1\u001b[0m \u001b[38;5;28;01mdef\u001b[39;00m \u001b[38;5;21mcauseError\u001b[39m():\n\u001b[1;32m----> 2\u001b[0m     \u001b[38;5;28;01mreturn\u001b[39;00m \u001b[38;5;241;43m1\u001b[39;49m\u001b[38;5;241;43m/\u001b[39;49m\u001b[38;5;241;43m0\u001b[39;49m\n",
      "\u001b[1;31mZeroDivisionError\u001b[0m: division by zero"
     ]
    }
   ],
   "source": [
    "def causeError():\n",
    "    return 1/0\n",
    "\n",
    "def callCauseError():\n",
    "    return causeError();\n",
    "\n",
    "\n",
    "callCauseError()"
   ]
  },
  {
   "cell_type": "markdown",
   "id": "dccdeac9-98aa-4372-b615-0ee739d3aa96",
   "metadata": {},
   "source": [
    "## Try/Execute "
   ]
  },
  {
   "cell_type": "code",
   "execution_count": 5,
   "id": "32bc2966-5c6e-4097-9f67-c625c7b50525",
   "metadata": {},
   "outputs": [
    {
     "name": "stdout",
     "output_type": "stream",
     "text": [
      "<class 'ZeroDivisionError'>\n"
     ]
    }
   ],
   "source": [
    "try:\n",
    "    1/0\n",
    "except Exception as e:\n",
    "    print(type(e))\n",
    "    "
   ]
  },
  {
   "cell_type": "code",
   "execution_count": 9,
   "id": "3872f4c4-9eb0-47f0-83ef-8e6317c8f524",
   "metadata": {},
   "outputs": [
    {
     "data": {
      "text/plain": [
       "TypeError(\"unsupported operand type(s) for +: 'int' and 'str'\")"
      ]
     },
     "execution_count": 9,
     "metadata": {},
     "output_type": "execute_result"
    }
   ],
   "source": [
    "def causeError():\n",
    "    try:\n",
    "        1+'a'\n",
    "        1/0\n",
    "    except Exception as e:\n",
    "        return e\n",
    "\n",
    "causeError()"
   ]
  },
  {
   "cell_type": "markdown",
   "id": "d21ee872-1020-4972-8750-6947a9a95173",
   "metadata": {},
   "source": [
    "## Finally()"
   ]
  },
  {
   "cell_type": "code",
   "execution_count": null,
   "id": "2d93ea41-0bfa-4ce0-a3df-1f59fc317239",
   "metadata": {},
   "outputs": [
    {
     "name": "stdout",
     "output_type": "stream",
     "text": [
      "unsupported operand type(s) for +: 'int' and 'str'\n",
      "Reached end of the code\n",
      "unsupported operand type(s) for +: 'int' and 'str'\n"
     ]
    }
   ],
   "source": [
    "def causeError():\n",
    "    try:\n",
    "        1+'a'\n",
    "        1/0\n",
    "    except Exception as e:\n",
    "        return e\n",
    "        \n",
    "    finally :\n",
    "        print(\"Reached end of the code\")\n",
    "\n",
    "excp = causeError()\n",
    "print(excp)"
   ]
  },
  {
   "cell_type": "code",
   "execution_count": 24,
   "id": "e22d14a0-5a8a-4f13-8620-c64f1974a1c2",
   "metadata": {},
   "outputs": [
    {
     "name": "stdout",
     "output_type": "stream",
     "text": [
      "1714542764.7524846\n",
      "Reached end of the code\n",
      " function took 0.5058531761169434\n"
     ]
    },
    {
     "data": {
      "text/plain": [
       "TypeError(\"unsupported operand type(s) for +: 'int' and 'str'\")"
      ]
     },
     "execution_count": 24,
     "metadata": {},
     "output_type": "execute_result"
    }
   ],
   "source": [
    "# to know the time taken to execute the program \n",
    "import time\n",
    "def causeError():\n",
    "    start = time.time()\n",
    "    print (start)\n",
    "    try:\n",
    "        time.sleep(0.5)\n",
    "        1+'a'\n",
    "        1/0\n",
    "    except Exception as e:\n",
    "        return e\n",
    "    finally :\n",
    "        print(\"Reached end of the code\")\n",
    "        print(f' function took {time.time()-start}')\n",
    "\n",
    "causeError()"
   ]
  },
  {
   "cell_type": "markdown",
   "id": "d1f53430-986e-4534-a4e8-ad5b0340e435",
   "metadata": {},
   "source": [
    "## Catching Exceptions by type"
   ]
  },
  {
   "cell_type": "code",
   "execution_count": 6,
   "id": "743c3625-c454-47c4-8843-1cca6f37337d",
   "metadata": {
    "scrolled": true
   },
   "outputs": [
    {
     "name": "stdout",
     "output_type": "stream",
     "text": [
      "There was a Zero Division Error in the code\n"
     ]
    }
   ],
   "source": [
    "def causeError():\n",
    "    try:\n",
    "        1/0\n",
    "        1 + 'a'\n",
    "    except ZeroDivisionError:\n",
    "        print(\"There was a Zero Division Error in the code\")\n",
    "    except TypeError:\n",
    "        print(\"Incorrect data type assigned\")\n",
    "    except Exception as e:\n",
    "        return e\n",
    "\n",
    "causeError()"
   ]
  },
  {
   "cell_type": "markdown",
   "id": "15bcf988-c2bb-4967-af4c-8eb677eebecb",
   "metadata": {},
   "source": [
    "## Custom Decorators "
   ]
  },
  {
   "cell_type": "code",
   "execution_count": 8,
   "id": "416ec46a-3b65-48ab-a258-3d27208c6b6f",
   "metadata": {},
   "outputs": [
    {
     "name": "stdout",
     "output_type": "stream",
     "text": [
      "Incorrect data type assigned\n"
     ]
    }
   ],
   "source": [
    "def handleException(func):\n",
    "    def wrapper():\n",
    "        try:\n",
    "            func()\n",
    "        except ZeroDivisionError:\n",
    "            print(\"There was a Zero Division Error in the code\")\n",
    "        except TypeError:\n",
    "            print(\"Incorrect data type assigned\")\n",
    "        except Exception as e:\n",
    "            print(e)\n",
    "    return wrapper\n",
    "\n",
    "@handleException\n",
    "def causeError():\n",
    "    return 1/0\n",
    "\n",
    "@handleException\n",
    "def typeError():\n",
    "    return 1+'a'\n",
    "\n",
    "typeError()"
   ]
  },
  {
   "cell_type": "markdown",
   "id": "812268e6-33f4-4af0-addc-ec782213b1b0",
   "metadata": {},
   "source": [
    "## Raising Exceptions"
   ]
  },
  {
   "cell_type": "code",
   "execution_count": 7,
   "id": "1bf28ba9-96c3-40dc-bc7b-0c39ade220bf",
   "metadata": {},
   "outputs": [
    {
     "ename": "TypeError",
     "evalue": "can only concatenate str (not \"NameError\") to str",
     "output_type": "error",
     "traceback": [
      "\u001b[1;31m---------------------------------------------------------------------------\u001b[0m",
      "\u001b[1;31mNameError\u001b[0m                                 Traceback (most recent call last)",
      "Cell \u001b[1;32mIn[7], line 5\u001b[0m, in \u001b[0;36mhandleException.<locals>.wrapper\u001b[1;34m(*args)\u001b[0m\n\u001b[0;32m      3\u001b[0m \u001b[38;5;28;01mtry\u001b[39;00m:\n\u001b[0;32m      4\u001b[0m   \u001b[38;5;66;03m#  print(func)\u001b[39;00m\n\u001b[1;32m----> 5\u001b[0m     \u001b[43mfunc\u001b[49m\u001b[43m(\u001b[49m\u001b[38;5;241;43m*\u001b[39;49m\u001b[43margs\u001b[49m\u001b[43m)\u001b[49m\n\u001b[0;32m      6\u001b[0m \u001b[38;5;28;01mexcept\u001b[39;00m \u001b[38;5;167;01mZeroDivisionError\u001b[39;00m:\n",
      "Cell \u001b[1;32mIn[7], line 20\u001b[0m, in \u001b[0;36mraiseError\u001b[1;34m(a, b, c)\u001b[0m\n\u001b[0;32m     18\u001b[0m \u001b[38;5;129m@handleException\u001b[39m\n\u001b[0;32m     19\u001b[0m \u001b[38;5;28;01mdef\u001b[39;00m \u001b[38;5;21mraiseError\u001b[39m(a,b,c):\n\u001b[1;32m---> 20\u001b[0m     \u001b[38;5;28;01mif\u001b[39;00m \u001b[43mn\u001b[49m \u001b[38;5;241m==\u001b[39m \u001b[38;5;241m0\u001b[39m:\n\u001b[0;32m     21\u001b[0m         \u001b[38;5;28;01mraise\u001b[39;00m \u001b[38;5;167;01mException\u001b[39;00m()\n",
      "\u001b[1;31mNameError\u001b[0m: name 'n' is not defined",
      "\nDuring handling of the above exception, another exception occurred:\n",
      "\u001b[1;31mTypeError\u001b[0m                                 Traceback (most recent call last)",
      "Cell \u001b[1;32mIn[7], line 25\u001b[0m\n\u001b[0;32m     22\u001b[0m     \u001b[38;5;28;01melse\u001b[39;00m:\n\u001b[0;32m     23\u001b[0m         \u001b[38;5;28mprint\u001b[39m(n)\n\u001b[1;32m---> 25\u001b[0m \u001b[43mraiseError\u001b[49m\u001b[43m(\u001b[49m\u001b[38;5;241;43m2\u001b[39;49m\u001b[43m,\u001b[49m\u001b[38;5;241;43m3\u001b[39;49m\u001b[43m,\u001b[49m\u001b[38;5;241;43m4\u001b[39;49m\u001b[43m)\u001b[49m\n",
      "Cell \u001b[1;32mIn[7], line 11\u001b[0m, in \u001b[0;36mhandleException.<locals>.wrapper\u001b[1;34m(*args)\u001b[0m\n\u001b[0;32m      9\u001b[0m     \u001b[38;5;28mprint\u001b[39m(\u001b[38;5;124m\"\u001b[39m\u001b[38;5;124mIncorrect data type assigned\u001b[39m\u001b[38;5;124m\"\u001b[39m)\n\u001b[0;32m     10\u001b[0m \u001b[38;5;28;01mexcept\u001b[39;00m \u001b[38;5;167;01mException\u001b[39;00m \u001b[38;5;28;01mas\u001b[39;00m e:\n\u001b[1;32m---> 11\u001b[0m     \u001b[38;5;28mprint\u001b[39m(\u001b[38;5;124;43m\"\u001b[39;49m\u001b[38;5;124;43msome exception raised\u001b[39;49m\u001b[38;5;124;43m\"\u001b[39;49m\u001b[43m \u001b[49m\u001b[38;5;241;43m+\u001b[39;49m\u001b[43m \u001b[49m\u001b[43me\u001b[49m)\n",
      "\u001b[1;31mTypeError\u001b[0m: can only concatenate str (not \"NameError\") to str"
     ]
    }
   ],
   "source": [
    "def handleException(func):\n",
    "    def wrapper(*args):\n",
    "        try:\n",
    "          #  print(func)\n",
    "            func(*args)\n",
    "        except ZeroDivisionError:\n",
    "            print(\"There was a Zero Division Error in the code\")\n",
    "        except TypeError:\n",
    "            print(\"Incorrect data type assigned\")\n",
    "        except Exception as e:\n",
    "            print(\"some exception raised\" + e)\n",
    "    return wrapper\n",
    "\n",
    "@handleException\n",
    "def causeError():\n",
    "    return 1/0\n",
    "\n",
    "@handleException\n",
    "def raiseError(a,b,c):\n",
    "    if n == 0:\n",
    "        raise Exception()\n",
    "    else:\n",
    "        print(n)\n",
    "\n",
    "raiseError(2,3,4)"
   ]
  },
  {
   "cell_type": "markdown",
   "id": "3778d494-1c4c-431f-bd93-44f7c015416b",
   "metadata": {},
   "source": [
    "## Custom Exceptions "
   ]
  },
  {
   "cell_type": "code",
   "execution_count": 57,
   "id": "b26e4d36-febd-4070-8311-ef61fcbfc733",
   "metadata": {},
   "outputs": [
    {
     "ename": "CustomException",
     "evalue": "You called custom exception",
     "output_type": "error",
     "traceback": [
      "\u001b[1;31m---------------------------------------------------------------------------\u001b[0m",
      "\u001b[1;31mCustomException\u001b[0m                           Traceback (most recent call last)",
      "Cell \u001b[1;32mIn[57], line 7\u001b[0m\n\u001b[0;32m      4\u001b[0m \u001b[38;5;28;01mdef\u001b[39;00m \u001b[38;5;21mcauseError\u001b[39m():\n\u001b[0;32m      5\u001b[0m     \u001b[38;5;28;01mraise\u001b[39;00m CustomException(\u001b[38;5;124m'\u001b[39m\u001b[38;5;124mYou called custom exception\u001b[39m\u001b[38;5;124m'\u001b[39m)\n\u001b[1;32m----> 7\u001b[0m \u001b[43mcauseError\u001b[49m\u001b[43m(\u001b[49m\u001b[43m)\u001b[49m\n",
      "Cell \u001b[1;32mIn[57], line 5\u001b[0m, in \u001b[0;36mcauseError\u001b[1;34m()\u001b[0m\n\u001b[0;32m      4\u001b[0m \u001b[38;5;28;01mdef\u001b[39;00m \u001b[38;5;21mcauseError\u001b[39m():\n\u001b[1;32m----> 5\u001b[0m     \u001b[38;5;28;01mraise\u001b[39;00m CustomException(\u001b[38;5;124m'\u001b[39m\u001b[38;5;124mYou called custom exception\u001b[39m\u001b[38;5;124m'\u001b[39m)\n",
      "\u001b[1;31mCustomException\u001b[0m: You called custom exception"
     ]
    }
   ],
   "source": [
    "class CustomException(Exception):\n",
    "    pass\n",
    "\n",
    "def causeError():\n",
    "    raise CustomException('You called custom exception')\n",
    "\n",
    "causeError()"
   ]
  },
  {
   "cell_type": "markdown",
   "id": "49067190-2d16-49f8-ad64-05bfb99cfa34",
   "metadata": {},
   "source": [
    "## Passing Attributes"
   ]
  },
  {
   "cell_type": "code",
   "execution_count": 9,
   "id": "4223dfae-ff08-499f-8add-8068addd157f",
   "metadata": {},
   "outputs": [
    {
     "ename": "ServerError",
     "evalue": "status code is 500 and message is Server error",
     "output_type": "error",
     "traceback": [
      "\u001b[1;31m---------------------------------------------------------------------------\u001b[0m",
      "\u001b[1;31mServerError\u001b[0m                               Traceback (most recent call last)",
      "Cell \u001b[1;32mIn[9], line 19\u001b[0m\n\u001b[0;32m     16\u001b[0m \u001b[38;5;28;01mdef\u001b[39;00m \u001b[38;5;21mraiseServerError\u001b[39m():\n\u001b[0;32m     17\u001b[0m     \u001b[38;5;28;01mraise\u001b[39;00m ServerError()\n\u001b[1;32m---> 19\u001b[0m \u001b[43mraiseServerError\u001b[49m\u001b[43m(\u001b[49m\u001b[43m)\u001b[49m\n",
      "Cell \u001b[1;32mIn[9], line 17\u001b[0m, in \u001b[0;36mraiseServerError\u001b[1;34m()\u001b[0m\n\u001b[0;32m     16\u001b[0m \u001b[38;5;28;01mdef\u001b[39;00m \u001b[38;5;21mraiseServerError\u001b[39m():\n\u001b[1;32m---> 17\u001b[0m     \u001b[38;5;28;01mraise\u001b[39;00m ServerError()\n",
      "\u001b[1;31mServerError\u001b[0m: status code is 500 and message is Server error"
     ]
    }
   ],
   "source": [
    "class HTTPException(Exception):\n",
    "    statusCode = None\n",
    "    errorMessage = None\n",
    "    #overriding super class constructor method\n",
    "    def __init__(self):\n",
    "        super().__init__(f'status code is {self.statusCode} and message is {self.errorMessage}')\n",
    "\n",
    "class NotFound(HTTPException):\n",
    "    statusCode = 404\n",
    "    errorMessage = 'Error: Resource not found exception'\n",
    "\n",
    "class ServerError(HTTPException):\n",
    "    statusCode = 500\n",
    "    errorMessage = 'Server error'\n",
    "\n",
    "def raiseServerError():\n",
    "    raise ServerError()\n",
    "\n",
    "raiseServerError()"
   ]
  },
  {
   "cell_type": "markdown",
   "id": "fc39f2a0-63f5-4a6d-bdb8-33eed5008d16",
   "metadata": {},
   "source": [
    "## Exercise BadArguments "
   ]
  },
  {
   "cell_type": "code",
   "execution_count": null,
   "id": "748223c2-accc-4d9d-85e7-80721139a333",
   "metadata": {},
   "outputs": [],
   "source": [
    "# create a custom exception NonIntArgumentException ()\n",
    "# fill in the wrapper function in the handleNonIntArgument() to act as an annotation \n",
    "\n",
    "class NonIntArgumentException(Exception):\n",
    "    pass\n",
    "\n",
    "def handleNonIntArguments(func):\n",
    "    def wrapper(*args):\n",
    "            for item in args:\n",
    "                if type(item) is not int:\n",
    "                    raise NonIntArgumentException()\n",
    "            return func(*args)\n",
    "    return wrapper\n",
    "\n"
   ]
  },
  {
   "cell_type": "code",
   "execution_count": 90,
   "id": "19966f1e-8de0-4e15-9528-a9948f6151b3",
   "metadata": {},
   "outputs": [
    {
     "name": "stdout",
     "output_type": "stream",
     "text": [
      " Sum of values 6\n"
     ]
    }
   ],
   "source": [
    "@handleNonIntArguments\n",
    "def sum(a,b,c):\n",
    "    return a+b+c\n",
    "\n",
    "try:\n",
    "    result = sum(1,2,3)\n",
    "    print(f' Sum of values {result}')\n",
    "except NonIntArgumentException as e:\n",
    "    print('Wrong datatype passed')\n",
    "    "
   ]
  },
  {
   "cell_type": "code",
   "execution_count": null,
   "id": "801ef6fd-ba43-429a-891a-d01be4a95f44",
   "metadata": {},
   "outputs": [],
   "source": []
  }
 ],
 "metadata": {
  "kernelspec": {
   "display_name": "Python 3",
   "language": "python",
   "name": "python3"
  },
  "language_info": {
   "codemirror_mode": {
    "name": "ipython",
    "version": 3
   },
   "file_extension": ".py",
   "mimetype": "text/x-python",
   "name": "python",
   "nbconvert_exporter": "python",
   "pygments_lexer": "ipython3",
   "version": "3.12.3"
  }
 },
 "nbformat": 4,
 "nbformat_minor": 5
}
