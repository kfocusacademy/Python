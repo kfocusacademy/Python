{
 "cells": [
  {
   "cell_type": "code",
   "execution_count": 2,
   "id": "50334441-8be9-4a7f-9d56-2da892018a49",
   "metadata": {},
   "outputs": [],
   "source": [
    "import csv \n"
   ]
  },
  {
   "cell_type": "markdown",
   "id": "d7881ee1-4a2a-4c66-bdb3-299bc205e604",
   "metadata": {},
   "source": [
    "## CSV Reading "
   ]
  },
  {
   "cell_type": "code",
   "execution_count": 36,
   "id": "7afe70f1-bc94-403e-9207-e2334e9d92b1",
   "metadata": {},
   "outputs": [
    {
     "name": "stdout",
     "output_type": "stream",
     "text": [
      "[]\n"
     ]
    }
   ],
   "source": [
    "with open('student.csv','r') as f:\n",
    "    reader = csv.reader(f)\n",
    "    next(reader)\n",
    "    for row in reader:\n",
    "        print (row)"
   ]
  },
  {
   "cell_type": "markdown",
   "id": "e63d05c5-29ca-45d0-af14-0f5a692d47f0",
   "metadata": {},
   "source": [
    "## Filtering data from CSV"
   ]
  },
  {
   "cell_type": "code",
   "execution_count": 30,
   "id": "673ec252-2b10-4d82-a559-1bb86186f62b",
   "metadata": {},
   "outputs": [
    {
     "name": "stdout",
     "output_type": "stream",
     "text": [
      "['3', 'Kishore', '33', '878888886']\n",
      "['5', 'Krishna', '44', '444233236']\n",
      "['6', 'Keerthi', '23', '999888996']\n"
     ]
    }
   ],
   "source": [
    "with open('student.csv','r') as f:\n",
    "    reader = csv.reader(f)\n",
    "  #  next(reader)\n",
    "    for row in reader:\n",
    "        try:\n",
    "            if (row[1].startswith (\"K\")):\n",
    "                print (row)\n",
    "            else:\n",
    "                continue \n",
    "        except:\n",
    "            continue\n",
    "\n",
    "\n",
    "        \n",
    "        "
   ]
  },
  {
   "cell_type": "markdown",
   "id": "970ff232-4f77-4399-bbd6-14878a65e875",
   "metadata": {},
   "source": [
    "## Write a row in CSV"
   ]
  },
  {
   "cell_type": "code",
   "execution_count": 38,
   "id": "29a19058-261e-4ad3-be60-77c525c26eaf",
   "metadata": {},
   "outputs": [],
   "source": [
    "with open('student.csv','w') as f:\n",
    "    writer = csv.writer(f)\n",
    "    writer.writerow(['7','Ravi','46','9999999'])\n"
   ]
  },
  {
   "cell_type": "code",
   "execution_count": null,
   "id": "3bf49d5c-875e-4cac-9a4f-12d3c1d33b12",
   "metadata": {},
   "outputs": [],
   "source": []
  }
 ],
 "metadata": {
  "kernelspec": {
   "display_name": "Python 3 (ipykernel)",
   "language": "python",
   "name": "python3"
  },
  "language_info": {
   "codemirror_mode": {
    "name": "ipython",
    "version": 3
   },
   "file_extension": ".py",
   "mimetype": "text/x-python",
   "name": "python",
   "nbconvert_exporter": "python",
   "pygments_lexer": "ipython3",
   "version": "3.12.3"
  }
 },
 "nbformat": 4,
 "nbformat_minor": 5
}
