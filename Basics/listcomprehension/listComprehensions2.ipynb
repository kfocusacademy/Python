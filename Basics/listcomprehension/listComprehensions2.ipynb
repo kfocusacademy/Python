{
 "cells": [
  {
   "cell_type": "code",
   "execution_count": null,
   "id": "e6dd608f",
   "metadata": {},
   "outputs": [],
   "source": [
    "# Print Even Numbers\n",
    "evennum = [i for i in range(10) if i%2==0]\n",
    "print(evennum)"
   ]
  },
  {
   "cell_type": "code",
   "execution_count": 2,
   "id": "d2c48076",
   "metadata": {},
   "outputs": [
    {
     "name": "stdout",
     "output_type": "stream",
     "text": [
      "[1, 4, 9, 16]\n"
     ]
    }
   ],
   "source": [
    "# Print Square Numbers \n",
    "squares = [x**2  for x in range(1,5)]\n",
    "print(squares)"
   ]
  },
  {
   "cell_type": "code",
   "execution_count": 3,
   "id": "5c55b00f",
   "metadata": {},
   "outputs": [
    {
     "name": "stdout",
     "output_type": "stream",
     "text": [
      "[1, 4, 9, 16, 25]\n"
     ]
    }
   ],
   "source": [
    "# double each number and add it to a list comprehension \n",
    "lst = [1,2,3,4,5]\n",
    "doublelist = [i*i for i in lst]\n",
    "print(doublelist)"
   ]
  },
  {
   "cell_type": "code",
   "execution_count": 5,
   "id": "a42288c8",
   "metadata": {},
   "outputs": [
    {
     "name": "stdout",
     "output_type": "stream",
     "text": [
      "[1, 3, 5, 7, 9]\n"
     ]
    }
   ],
   "source": [
    "# Display even numbers from 1 to 10\n",
    "evennumbers = [i for i in range(1,10) if i%2 !=0]\n",
    "print(evennumbers)\n"
   ]
  },
  {
   "cell_type": "code",
   "execution_count": 6,
   "id": "fae29260",
   "metadata": {},
   "outputs": [
    {
     "name": "stdout",
     "output_type": "stream",
     "text": [
      "[(0, 0), (0, 1), (0, 2), (1, 0), (1, 1), (1, 2), (2, 0), (2, 1), (2, 2)]\n"
     ]
    }
   ],
   "source": [
    "# Create a list of tuples representing all combinations (x,y) \n",
    "coordinates = [(x,y)for x in range(3) for y in range(3)]\n",
    "print(coordinates)"
   ]
  },
  {
   "cell_type": "code",
   "execution_count": 22,
   "id": "5ab802db",
   "metadata": {},
   "outputs": [
    {
     "name": "stdout",
     "output_type": "stream",
     "text": [
      "[1, 2, 3, 2, 3, 4]\n"
     ]
    }
   ],
   "source": [
    "# Convert list of lists into a single list\n",
    "mat = [[1,2,3],[2,3,4]]\n",
    "lst = [val for row in mat for val in row]\n",
    "print(lst)"
   ]
  },
  {
   "cell_type": "code",
   "execution_count": null,
   "id": "7da9124b",
   "metadata": {},
   "outputs": [
    {
     "name": "stdout",
     "output_type": "stream",
     "text": [
      "[0, 1, 4, 9, 16]\n"
     ]
    }
   ],
   "source": [
    "def square(num):\n",
    "    try:\n",
    "        if num ==0:\n",
    "            \n",
    "    except Exception as e:\n",
    "        raise e\n",
    "\n",
    "    \n",
    "        return num**2\n",
    "\n",
    "# Display squares \n",
    "sqrLst = [square(i) for i in range(5)]\n",
    "print(sqrLst)\n"
   ]
  },
  {
   "cell_type": "code",
   "execution_count": 19,
   "id": "604560ac",
   "metadata": {},
   "outputs": [
    {
     "name": "stdout",
     "output_type": "stream",
     "text": [
      "5\n",
      "3\n"
     ]
    }
   ],
   "source": [
    "a = [1,2,3,4,5]\n",
    "for i in a[5:0:-2]:\n",
    "    print(i)"
   ]
  },
  {
   "cell_type": "code",
   "execution_count": 72,
   "id": "23de9e3a",
   "metadata": {},
   "outputs": [
    {
     "name": "stdout",
     "output_type": "stream",
     "text": [
      "1010\n"
     ]
    }
   ],
   "source": [
    "num1 = input(\"enter value1\")\n",
    "num2 = input(\"enter value2\")\n",
    "print(num1+num2)"
   ]
  },
  {
   "cell_type": "code",
   "execution_count": 31,
   "id": "d99c373a",
   "metadata": {},
   "outputs": [
    {
     "name": "stdout",
     "output_type": "stream",
     "text": [
      "[12, 14]\n"
     ]
    }
   ],
   "source": [
    "# Create two lists, display who sum of two digitis from two lists > 10\n",
    "lst1 = [1,2,3,4,5]\n",
    "lst2 = [5,6,7,8,9]\n",
    "lst3 = [i+j for i,j in zip(lst1,lst2) if i+j>10]\n",
    "print(lst3)"
   ]
  },
  {
   "cell_type": "code",
   "execution_count": 35,
   "id": "9650731b",
   "metadata": {},
   "outputs": [
    {
     "name": "stdout",
     "output_type": "stream",
     "text": [
      "0 (1, 2)\n",
      "1 (2, 3)\n",
      "2 (3, 4)\n",
      "3 (4, 5)\n",
      "4 (5, 6)\n"
     ]
    }
   ],
   "source": [
    "# Enumerate function\n",
    "lst = [1,2,3,4,5]\n",
    "lst2= [2,3,4,5,6]\n",
    "for i,y in enumerate(zip(lst,lst2)):\n",
    "    print(i,y)\n"
   ]
  },
  {
   "cell_type": "code",
   "execution_count": 53,
   "id": "a5d84ee9",
   "metadata": {},
   "outputs": [
    {
     "name": "stdout",
     "output_type": "stream",
     "text": [
      "[3, 5, 7, 9, 11]\n"
     ]
    }
   ],
   "source": [
    "# Using function in listComprehension\n",
    "def add(num1,num2):\n",
    "    return (num1+num2)\n",
    "\n",
    "lst = [1,2,3,4,5]\n",
    "lst2= [2,3,4,5,6]\n",
    "sumlst = [add(lst[i],lst2[i]) for i in range(5)]\n",
    "print(sumlst)"
   ]
  },
  {
   "cell_type": "code",
   "execution_count": 52,
   "id": "022e1121",
   "metadata": {},
   "outputs": [
    {
     "name": "stdout",
     "output_type": "stream",
     "text": [
      "2\n",
      "3\n",
      "4\n",
      "5\n",
      "6\n"
     ]
    }
   ],
   "source": [
    "# Display numbers from two lists \n",
    "lst = [1,2,3,4,5]\n",
    "lst2= [2,3,4,5,6]\n",
    "#sumlst = [[row,col] for row in lst for col in lst2]\n",
    "for i in range(5):\n",
    "     print(lst2[i])\n",
    "    \n",
    "#print(sumlst)"
   ]
  },
  {
   "cell_type": "code",
   "execution_count": 70,
   "id": "12018aa0",
   "metadata": {},
   "outputs": [
    {
     "name": "stdout",
     "output_type": "stream",
     "text": [
      "[['Apple', 'Banana', 'Cherry'], ['Date', 'Fig', 'Grape'], ['Kiwi', 'Lemon', 'Mango']]\n"
     ]
    }
   ],
   "source": [
    "m = [[\"apple\", \"banana\", \"cherry\"],\n",
    "     [\"date\", \"fig\", \"grape\"],\n",
    "     [\"kiwi\", \"lemon\", \"mango\"]]\n",
    "\n",
    "lst = [[f.title() for f in r] for r in m]\n",
    "print(lst)\n",
    "\n"
   ]
  },
  {
   "cell_type": "code",
   "execution_count": null,
   "id": "3076de32",
   "metadata": {},
   "outputs": [],
   "source": []
  }
 ],
 "metadata": {
  "kernelspec": {
   "display_name": "Python 3",
   "language": "python",
   "name": "python3"
  },
  "language_info": {
   "codemirror_mode": {
    "name": "ipython",
    "version": 3
   },
   "file_extension": ".py",
   "mimetype": "text/x-python",
   "name": "python",
   "nbconvert_exporter": "python",
   "pygments_lexer": "ipython3",
   "version": "3.12.3"
  }
 },
 "nbformat": 4,
 "nbformat_minor": 5
}
