{
 "cells": [
  {
   "cell_type": "markdown",
   "id": "b245cd71-f05a-4757-88b4-d7698f134691",
   "metadata": {},
   "source": [
    "## List comprehensions "
   ]
  },
  {
   "cell_type": "code",
   "execution_count": 3,
   "id": "2caacfb7-3608-4c9b-9b34-389c6f01636a",
   "metadata": {},
   "outputs": [
    {
     "data": {
      "text/plain": [
       "[1, 4, 9, 16, 25]"
      ]
     },
     "execution_count": 3,
     "metadata": {},
     "output_type": "execute_result"
    }
   ],
   "source": [
    "mylist = [1,2,3,4,5]\n",
    "[item*item for item in mylist]"
   ]
  },
  {
   "cell_type": "code",
   "execution_count": null,
   "id": "46997021-38cd-4cc4-bdaa-1b7b7568442a",
   "metadata": {},
   "outputs": [],
   "source": []
  },
  {
   "cell_type": "markdown",
   "id": "96df0c82-4d31-484e-9048-6694f67b7df9",
   "metadata": {},
   "source": [
    "## List comprehensions  with filters"
   ]
  },
  {
   "cell_type": "code",
   "execution_count": 12,
   "id": "65d73c2f-2681-400d-af35-82b8a4f83243",
   "metadata": {},
   "outputs": [
    {
     "name": "stdout",
     "output_type": "stream",
     "text": [
      "[0, 2, 4, 6, 8, 10, 12, 14, 16, 18, 20, 22, 24, 26, 28, 30, 32, 34, 36, 38, 40, 42, 44, 46, 48]\n"
     ]
    }
   ],
   "source": [
    "#Only even numbers in the range of 50\n",
    "myList = list(range(50))\n",
    "filteredList = [item for item in myList if item%2 ==0]\n",
    "print(filteredList)"
   ]
  },
  {
   "cell_type": "code",
   "execution_count": null,
   "id": "ab696254-0c46-4a79-854d-d7569f969ede",
   "metadata": {},
   "outputs": [],
   "source": []
  },
  {
   "cell_type": "markdown",
   "id": "7fb459ea-5141-4e18-9cee-e91c4afeb1d2",
   "metadata": {},
   "source": [
    "## List comprehensions  with functions "
   ]
  },
  {
   "cell_type": "code",
   "execution_count": 15,
   "id": "7807eaac-f879-42d6-b0a4-edf069cb1246",
   "metadata": {},
   "outputs": [
    {
     "data": {
      "text/plain": [
       "['What', 'a', 'great', 'weather', 'today,', 'so', 'sunny']"
      ]
     },
     "execution_count": 15,
     "metadata": {},
     "output_type": "execute_result"
    }
   ],
   "source": [
    "myString = 'What a great weather today, so sunny' \n",
    "myString.split(' ')"
   ]
  },
  {
   "cell_type": "code",
   "execution_count": 24,
   "id": "123c7cf9-2e37-41ca-849e-7a1a60e4e0e8",
   "metadata": {},
   "outputs": [
    {
     "data": {
      "text/plain": [
       "['WHAT', 'A', 'GREAT', 'WEATHER', 'TODAY', 'SO', 'SUNNY']"
      ]
     },
     "execution_count": 24,
     "metadata": {},
     "output_type": "execute_result"
    }
   ],
   "source": [
    "def cleanWord (word):\n",
    "    return word.replace(',','').upper()\n",
    "    \n",
    "[cleanWord(myWord) for myWord in myString.split(' ')]\n",
    "\n",
    "#print(myWord)"
   ]
  },
  {
   "cell_type": "markdown",
   "id": "e3c23727-2390-483b-a9d1-aeb42bd2dbd5",
   "metadata": {},
   "source": [
    "## Nested List Comprehensions "
   ]
  },
  {
   "cell_type": "code",
   "execution_count": null,
   "id": "51af25b6-0874-42bd-a86b-1081a7807e11",
   "metadata": {},
   "outputs": [],
   "source": []
  }
 ],
 "metadata": {
  "kernelspec": {
   "display_name": "Python 3 (ipykernel)",
   "language": "python",
   "name": "python3"
  },
  "language_info": {
   "codemirror_mode": {
    "name": "ipython",
    "version": 3
   },
   "file_extension": ".py",
   "mimetype": "text/x-python",
   "name": "python",
   "nbconvert_exporter": "python",
   "pygments_lexer": "ipython3",
   "version": "3.12.3"
  }
 },
 "nbformat": 4,
 "nbformat_minor": 5
}
