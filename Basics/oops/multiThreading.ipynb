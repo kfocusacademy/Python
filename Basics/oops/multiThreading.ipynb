{
 "cells": [
  {
   "cell_type": "markdown",
   "id": "e4c8d3de-8f71-4229-ad45-f86bd2544818",
   "metadata": {},
   "source": [
    "## Multithreading"
   ]
  },
  {
   "cell_type": "code",
   "execution_count": 2,
   "id": "a5e9f8a5-ad17-4368-a1ce-471961a098f9",
   "metadata": {},
   "outputs": [],
   "source": [
    "import threading\n",
    "import time "
   ]
  },
  {
   "cell_type": "code",
   "execution_count": 3,
   "id": "8e40cdea-61da-4901-9231-ba0ece2f14ad",
   "metadata": {},
   "outputs": [
    {
     "data": {
      "text/plain": [
       "[0, 1, 4, 9, 16, 25, 36, 49, 64, 81]"
      ]
     },
     "execution_count": 3,
     "metadata": {},
     "output_type": "execute_result"
    }
   ],
   "source": [
    "def squareNum(num):\n",
    "    time.sleep(1)\n",
    "    return num**2\n",
    "\n",
    "[squareNum(n) for n in range (0,10)]"
   ]
  },
  {
   "cell_type": "code",
   "execution_count": 11,
   "id": "551d9154-1e1d-4e20-b4d9-6d62c4af13c1",
   "metadata": {},
   "outputs": [
    {
     "name": "stdout",
     "output_type": "stream",
     "text": [
      "{1: 1, 2: 4}\n"
     ]
    }
   ],
   "source": [
    "def squareNum(num,results):\n",
    "    time.sleep(1)\n",
    "    results[num] = num**2\n",
    "\n",
    "results = {}\n",
    "\n",
    "t1 = threading.Thread(target = squareNum,args=(1,results))\n",
    "t2 = threading.Thread(target = squareNum,args=(2,results))\n",
    "\n",
    "t1.start()\n",
    "t2.start()            \n",
    "\n",
    "t1.join()\n",
    "t2.join()\n",
    "\n",
    "print(results)\n"
   ]
  },
  {
   "cell_type": "code",
   "execution_count": null,
   "id": "b4bff071-3473-4c70-bfb9-391bcb2ea569",
   "metadata": {},
   "outputs": [],
   "source": [
    "# Execute them in a loop rather than start join individual threads"
   ]
  },
  {
   "cell_type": "code",
   "execution_count": 19,
   "id": "d7b95f63-d2ac-4848-922f-160a4bdde3ec",
   "metadata": {},
   "outputs": [
    {
     "name": "stdout",
     "output_type": "stream",
     "text": [
      "{2: 4, 1: 1, 3: 9, 4: 16, 5: 25, 6: 36, 7: 49, 8: 64, 9: 81, 10: 100, 11: 121, 12: 144, 13: 169, 14: 196, 15: 225, 16: 256, 17: 289, 18: 324, 19: 361, 20: 400, 21: 441, 22: 484, 23: 529, 24: 576, 25: 625, 26: 676, 27: 729, 29: 841, 28: 784, 30: 900, 31: 961, 32: 1024, 33: 1089, 34: 1156, 35: 1225, 36: 1296, 37: 1369, 38: 1444, 39: 1521, 40: 1600, 41: 1681, 42: 1764, 43: 1849, 44: 1936, 45: 2025, 47: 2209, 46: 2116, 48: 2304, 49: 2401, 50: 2500, 51: 2601, 52: 2704, 53: 2809, 54: 2916, 55: 3025, 57: 3249, 56: 3136, 58: 3364, 59: 3481, 60: 3600, 61: 3721, 62: 3844, 63: 3969, 64: 4096, 65: 4225, 66: 4356, 67: 4489, 68: 4624, 69: 4761, 70: 4900, 71: 5041, 72: 5184, 73: 5329, 75: 5625, 74: 5476, 76: 5776, 77: 5929, 78: 6084, 79: 6241, 81: 6561, 80: 6400, 82: 6724, 83: 6889, 84: 7056, 85: 7225, 86: 7396, 87: 7569, 88: 7744, 89: 7921, 90: 8100, 91: 8281, 92: 8464, 93: 8649, 94: 8836, 95: 9025, 96: 9216, 97: 9409, 98: 9604, 99: 9801}\n",
      "<built-in function time>\n"
     ]
    }
   ],
   "source": [
    "def squareNum(num,results):\n",
    "    time.sleep(1)\n",
    "    results[num] = num**2\n",
    "\n",
    "results = {}\n",
    "threads = [threading.Thread(target = squareNum,args=(n,results)) for n in range(1,100)]\n",
    "[t.start() for t in threads]\n",
    "[t.join() for t in threads]\n",
    "print(results)\n"
   ]
  },
  {
   "cell_type": "code",
   "execution_count": null,
   "id": "e2c3e048-a7a9-4f41-a199-27d257a4e242",
   "metadata": {},
   "outputs": [],
   "source": []
  }
 ],
 "metadata": {
  "kernelspec": {
   "display_name": "Python 3 (ipykernel)",
   "language": "python",
   "name": "python3"
  },
  "language_info": {
   "codemirror_mode": {
    "name": "ipython",
    "version": 3
   },
   "file_extension": ".py",
   "mimetype": "text/x-python",
   "name": "python",
   "nbconvert_exporter": "python",
   "pygments_lexer": "ipython3",
   "version": "3.12.3"
  }
 },
 "nbformat": 4,
 "nbformat_minor": 5
}
