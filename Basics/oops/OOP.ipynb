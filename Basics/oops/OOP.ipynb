{
 "cells": [
  {
   "cell_type": "code",
   "execution_count": 23,
   "id": "27682eb5",
   "metadata": {},
   "outputs": [
    {
     "name": "stdout",
     "output_type": "stream",
     "text": [
      "Maruthi alto\n",
      "Honda Amaze\n",
      "cars\n",
      "10\n"
     ]
    },
    {
     "ename": "AttributeError",
     "evalue": "'cars' object has no attribute '__mileage'",
     "output_type": "error",
     "traceback": [
      "\u001b[1;31m---------------------------------------------------------------------------\u001b[0m",
      "\u001b[1;31mAttributeError\u001b[0m                            Traceback (most recent call last)",
      "Cell \u001b[1;32mIn[23], line 29\u001b[0m\n\u001b[0;32m     27\u001b[0m mileage \u001b[38;5;241m=\u001b[39m honda\u001b[38;5;241m.\u001b[39mget_mileage()\n\u001b[0;32m     28\u001b[0m \u001b[38;5;28mprint\u001b[39m(mileage)\n\u001b[1;32m---> 29\u001b[0m mileage \u001b[38;5;241m=\u001b[39m \u001b[43mhonda\u001b[49m\u001b[38;5;241;43m.\u001b[39;49m\u001b[43m__mileage\u001b[49m\n\u001b[0;32m     30\u001b[0m \u001b[38;5;28mprint\u001b[39m(mileage)\n",
      "\u001b[1;31mAttributeError\u001b[0m: 'cars' object has no attribute '__mileage'"
     ]
    }
   ],
   "source": [
    "class cars:\n",
    "    #class attribute \n",
    "    globalname = \"cars\"\n",
    "    \n",
    "    def __init__(self,carname,model):\n",
    "        self.carname = carname\n",
    "        self.model = model\n",
    "        self.__mileage = 0 \n",
    "    \n",
    "    def get_mileage(self):\n",
    "        return self.__mileage\n",
    "    \n",
    "    def set_mileage(self,mileage):\n",
    "        if mileage >0 :\n",
    "            self.__mileage = mileage\n",
    "        else:\n",
    "            print(\"Invalid Mileage\")\n",
    "            \n",
    "\n",
    "\n",
    "alto = cars(\"Maruthi\",\"alto\")\n",
    "print(alto.carname,alto.model)\n",
    "honda = cars(\"Honda\",\"Amaze\")\n",
    "print(honda.carname,honda.model)\n",
    "print(alto.globalname)\n",
    "honda.set_mileage(10)\n",
    "mileage = honda.get_mileage()\n",
    "print(mileage)\n",
    "mileage = honda.__mileage\n",
    "print(mileage)\n",
    "\n",
    "\n",
    "\n"
   ]
  }
 ],
 "metadata": {
  "kernelspec": {
   "display_name": "Python 3",
   "language": "python",
   "name": "python3"
  },
  "language_info": {
   "codemirror_mode": {
    "name": "ipython",
    "version": 3
   },
   "file_extension": ".py",
   "mimetype": "text/x-python",
   "name": "python",
   "nbconvert_exporter": "python",
   "pygments_lexer": "ipython3",
   "version": "3.12.3"
  }
 },
 "nbformat": 4,
 "nbformat_minor": 5
}
