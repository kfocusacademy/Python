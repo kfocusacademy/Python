{
 "cells": [
  {
   "cell_type": "markdown",
   "id": "67c8085d-9f08-453c-a006-26fa6fbaba6e",
   "metadata": {},
   "source": [
    "# Class"
   ]
  },
  {
   "cell_type": "markdown",
   "id": "2a5346ff-646a-455e-9bda-edeadbd23cf2",
   "metadata": {},
   "source": [
    "A class always start with an upper case letter"
   ]
  },
  {
   "cell_type": "code",
   "execution_count": 7,
   "id": "28c60f9a-b7bb-4f7f-876c-935aec093ba9",
   "metadata": {},
   "outputs": [],
   "source": [
    "class Car:\n",
    "    _wheels = 4 \n",
    "    def __init__(self, name,model):\n",
    "         self.name = name\n",
    "         self.model = model \n",
    "    def start(self):\n",
    "        print(self.name + \" Starting Car\")\n",
    "\n",
    "    def getWheels(self):\n",
    "        return self._wheels\n",
    "          \n",
    "    "
   ]
  },
  {
   "cell_type": "code",
   "execution_count": 10,
   "id": "3725b56f-020b-4fd7-b6ef-2daa9129c247",
   "metadata": {},
   "outputs": [
    {
     "name": "stdout",
     "output_type": "stream",
     "text": [
      "5\n"
     ]
    }
   ],
   "source": [
    "maruthi = Car('Maturhi',800)\n",
    "maruthi._wheels = 5\n",
    "print(maruthi.getWheels())\n",
    "tata = Car('Nexo', 'XG')"
   ]
  },
  {
   "cell_type": "code",
   "execution_count": 15,
   "id": "181ed34f-4228-4a02-b95e-718edc7020a8",
   "metadata": {},
   "outputs": [
    {
     "name": "stdout",
     "output_type": "stream",
     "text": [
      "Maturhi Starting\n",
      "Nexo Starting\n"
     ]
    }
   ],
   "source": [
    "maruthi.start()\n",
    "tata.start()"
   ]
  },
  {
   "cell_type": "code",
   "execution_count": 15,
   "id": "6ad8470c-3450-4efd-97a6-80a7218c9b66",
   "metadata": {},
   "outputs": [
    {
     "name": "stdout",
     "output_type": "stream",
     "text": [
      "Ev2 Starting Electric Car\n"
     ]
    }
   ],
   "source": [
    "# Class Inheritance \n",
    "\n",
    "class ElectricCar(Car):\n",
    "    def start(self):\n",
    "        print(self.name + ' Starting Electric Car')\n",
    "\n",
    "ev2 = ElectricCar('Ev2','Mode')\n",
    "\n",
    "ev2.start()"
   ]
  },
  {
   "cell_type": "code",
   "execution_count": 21,
   "id": "f966d0de-78d6-427a-aa3c-304d6aeb9275",
   "metadata": {},
   "outputs": [
    {
     "name": "stdout",
     "output_type": "stream",
     "text": [
      "Unique List\n"
     ]
    }
   ],
   "source": [
    "# EXtending Built in classes \n",
    "# Not to append duplicate values \n",
    "mylist = list()\n",
    "\n",
    "class myUniqueList(list):\n",
    "    def __init__(self):\n",
    "        self.property = 'Unique List'\n",
    "        \n",
    "    \n",
    "    def append(self,item):\n",
    "        if item in self:\n",
    "            return\n",
    "        super().append(item)\n",
    "\n",
    "ul = myUniqueList()\n",
    "ul.append(1)\n",
    "ul.append(1)\n",
    "ul.append(2)\n",
    "\n",
    "print(ul.property)\n",
    "    "
   ]
  },
  {
   "cell_type": "code",
   "execution_count": null,
   "id": "b620038a-5f15-4f90-b5ba-24265f6dc0cf",
   "metadata": {},
   "outputs": [],
   "source": []
  }
 ],
 "metadata": {
  "kernelspec": {
   "display_name": "Python 3 (ipykernel)",
   "language": "python",
   "name": "python3"
  },
  "language_info": {
   "codemirror_mode": {
    "name": "ipython",
    "version": 3
   },
   "file_extension": ".py",
   "mimetype": "text/x-python",
   "name": "python",
   "nbconvert_exporter": "python",
   "pygments_lexer": "ipython3",
   "version": "3.12.3"
  }
 },
 "nbformat": 4,
 "nbformat_minor": 5
}
