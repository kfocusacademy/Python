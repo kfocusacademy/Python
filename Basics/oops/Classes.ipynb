{
 "cells": [
  {
   "cell_type": "code",
   "execution_count": 8,
   "id": "14165759",
   "metadata": {},
   "outputs": [
    {
     "name": "stdout",
     "output_type": "stream",
     "text": [
      "Grey i10\n",
      "White Nexon\n"
     ]
    }
   ],
   "source": [
    "class car:\n",
    "    varColor = ''\n",
    "    varMake = ''\n",
    "    def __init__(myCar):\n",
    "        pass\n",
    "\n",
    "    def   color(mycar,color):\n",
    "        varColor = color\n",
    "            \n",
    "    def   make(self,make):\n",
    "        varMake= make\n",
    "\n",
    "\n",
    "honda = car()\n",
    "honda.color = \"Grey\"\n",
    "honda.make = \"i10\"\n",
    "print(honda.color + ' ' + honda.make)\n",
    "\n",
    "tata = car()\n",
    "tata.color = \"White\"\n",
    "tata.make = \"Nexon\"\n",
    "print(tata.color + ' ' + tata.make)\n",
    "\n",
    "        "
   ]
  }
 ],
 "metadata": {
  "kernelspec": {
   "display_name": "Python 3",
   "language": "python",
   "name": "python3"
  },
  "language_info": {
   "codemirror_mode": {
    "name": "ipython",
    "version": 3
   },
   "file_extension": ".py",
   "mimetype": "text/x-python",
   "name": "python",
   "nbconvert_exporter": "python",
   "pygments_lexer": "ipython3",
   "version": "3.12.3"
  }
 },
 "nbformat": 4,
 "nbformat_minor": 5
}
