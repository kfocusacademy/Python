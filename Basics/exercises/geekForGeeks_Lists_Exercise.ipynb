{
 "cells": [
  {
   "cell_type": "markdown",
   "id": "23596e0f-6fae-4990-be9a-d823b4e235d8",
   "metadata": {},
   "source": [
    "## Interchange first and last numbers in a list"
   ]
  },
  {
   "cell_type": "code",
   "execution_count": 11,
   "id": "9444cab8-d04b-4da9-b011-b17d822eb604",
   "metadata": {},
   "outputs": [
    {
     "data": {
      "text/plain": [
       "[4, 2, 3, 1]"
      ]
     },
     "execution_count": 11,
     "metadata": {},
     "output_type": "execute_result"
    }
   ],
   "source": [
    "myList = [1,2,3,4]\n",
    "last = len(myList)\n",
    "myList[0], myList[last-1] = myList[last-1],myList[0]\n",
    "#myList[0] = last\n",
    "myList\n",
    "\n",
    "\n",
    "\n",
    "\n"
   ]
  },
  {
   "cell_type": "markdown",
   "id": "94e3e0e4-a56d-4038-acb5-aba655b7acea",
   "metadata": {},
   "source": [
    "\n",
    "## Convert list to a list of dictionary \n",
    "Input : test_list = [“Gfg”, 10], key_list = [“name”, “id”] \n",
    "Output : [{‘name’: ‘Gfg’, ‘id’: 10}] \n"
   ]
  },
  {
   "cell_type": "code",
   "execution_count": 26,
   "id": "74c35b47-94b2-48ee-8f5b-54f1264d457e",
   "metadata": {
    "scrolled": true
   },
   "outputs": [
    {
     "name": "stdout",
     "output_type": "stream",
     "text": [
      "The original list['Ravi', 20, 'Mohit', 30, 'Tulasi', 40]\n",
      "[{'Name': 'Ravi', 'ID': 20}, {'Name': 'Mohit', 'ID': 30}, {'Name': 'Tulasi', 'ID': 40}]\n"
     ]
    }
   ],
   "source": [
    "# initializing list \n",
    "test_List = [\"Ravi\",20,\"Mohit\",30,\"Tulasi\",40]\n",
    "\n",
    "# printing original list\n",
    "print(\"The original list\" + str(test_List))\n",
    "\n",
    "# Key list\n",
    "key_List = [\"Name\",\"ID\"]\n",
    "\n",
    "n = len(test_List)\n",
    "test_Dict = []\n",
    "\n",
    "test_Dict = [{key_List[0]:test_List[i], \n",
    "                                key_List[1]:test_List[i+1]}\n",
    "             for i in range(0,n,2)]\n",
    "    \n",
    "\n",
    "print(test_Dict)"
   ]
  },
  {
   "cell_type": "markdown",
   "id": "2a079855-dc4c-480a-8e9b-5714886a7a0c",
   "metadata": {},
   "source": [
    "## Converting lists of lists to dictionary "
   ]
  },
  {
   "cell_type": "code",
   "execution_count": 41,
   "id": "ff8a435e-609b-4993-86fc-89a26754b2c0",
   "metadata": {},
   "outputs": [
    {
     "name": "stdout",
     "output_type": "stream",
     "text": [
      "The mapped Dictionary : {('a', 'b'): (1, 2), ('c', 'd'): (3, 4), ('e', 'f'): (5, 6)}\n"
     ]
    }
   ],
   "source": [
    "test_list = [['a', 'b', 1, 2], ['c', 'd', 3, 4], ['e', 'f', 5, 6]]\n",
    "\n",
    "result_dict = {}\n",
    "for sublist in test_list:\n",
    "    key = tuple(sublist[:2])\n",
    "    value= tuple(sublist[2:])\n",
    "    result_dict[key]  = value\n",
    "    \n",
    "# printing result\n",
    "print(\"The mapped Dictionary : \" + str(result_dict))    \n"
   ]
  },
  {
   "cell_type": "code",
   "execution_count": null,
   "id": "228d6061-3935-4150-b3ee-fec96421f192",
   "metadata": {},
   "outputs": [],
   "source": [
    "key = tuple(sublist[:2])\n",
    "    value = tuple(sublist[2:])\n",
    "    result_dict[key] = value\n",
    "\n",
    "# printing result\n",
    "print(\"The mapped Dictionary : \" + str(result_dict))"
   ]
  },
  {
   "cell_type": "code",
   "execution_count": null,
   "id": "d670101a-4f53-4ecc-ab7e-739fafa2b40f",
   "metadata": {},
   "outputs": [],
   "source": []
  },
  {
   "cell_type": "code",
   "execution_count": null,
   "id": "996a8f26-a2d8-475c-8414-256d083aed82",
   "metadata": {},
   "outputs": [],
   "source": []
  }
 ],
 "metadata": {
  "kernelspec": {
   "display_name": "Python 3 (ipykernel)",
   "language": "python",
   "name": "python3"
  },
  "language_info": {
   "codemirror_mode": {
    "name": "ipython",
    "version": 3
   },
   "file_extension": ".py",
   "mimetype": "text/x-python",
   "name": "python",
   "nbconvert_exporter": "python",
   "pygments_lexer": "ipython3",
   "version": "3.12.3"
  }
 },
 "nbformat": 4,
 "nbformat_minor": 5
}
