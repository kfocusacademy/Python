{
 "cells": [
  {
   "cell_type": "markdown",
   "id": "9d227141-aeff-4742-99ae-4d74e71afaa8",
   "metadata": {},
   "source": [
    "## To open weather.json file"
   ]
  },
  {
   "cell_type": "code",
   "execution_count": 53,
   "id": "d02785ef-5b77-4e2b-b309-2a2fab95f662",
   "metadata": {},
   "outputs": [],
   "source": [
    "import json \n",
    "import pprint "
   ]
  },
  {
   "cell_type": "code",
   "execution_count": 60,
   "id": "8d842f78-ff05-4852-a808-58e6bead5788",
   "metadata": {},
   "outputs": [
    {
     "name": "stdout",
     "output_type": "stream",
     "text": [
      "file loaded\n",
      "2018\n",
      "2019\n",
      "2019\n",
      "2020\n",
      "{'2018': 1, '2019': 2, '2020': 1}\n"
     ]
    }
   ],
   "source": [
    "with open(\"files/sample.json\",\"r\") as weatherJson:\n",
    "      print(\"file loaded\")\n",
    "      weatherData = json.load(weatherJson)\n",
    "#print(len(weatherData))\n",
    "#pprint.pp(weatherData[0])\n",
    "years = {}\n",
    "\n",
    "for d in weatherData:\n",
    "    key =  d['date'][0:4]\n",
    "    print(key)\n",
    "    if key in years:\n",
    "        years[key] +=1 \n",
    "    else:\n",
    "        years[key] = 1\n",
    "\n",
    "pprint.pp(years)"
   ]
  },
  {
   "cell_type": "code",
   "execution_count": null,
   "id": "aecbd567-a5f8-40b6-9750-23114fdb8471",
   "metadata": {},
   "outputs": [],
   "source": []
  }
 ],
 "metadata": {
  "kernelspec": {
   "display_name": "Python 3 (ipykernel)",
   "language": "python",
   "name": "python3"
  },
  "language_info": {
   "codemirror_mode": {
    "name": "ipython",
    "version": 3
   },
   "file_extension": ".py",
   "mimetype": "text/x-python",
   "name": "python",
   "nbconvert_exporter": "python",
   "pygments_lexer": "ipython3",
   "version": "3.12.3"
  }
 },
 "nbformat": 4,
 "nbformat_minor": 5
}
