{
 "cells": [
  {
   "cell_type": "markdown",
   "id": "eb6f8c72-f5fc-4fd4-8aa2-7a92783fa3ca",
   "metadata": {},
   "source": [
    "## Dictionary Comprehensions"
   ]
  },
  {
   "cell_type": "code",
   "execution_count": 23,
   "id": "7fb9f5f8-8121-4c5f-978b-9d7961daf3ac",
   "metadata": {},
   "outputs": [
    {
     "data": {
      "text/plain": [
       "('a', 'Apple')"
      ]
     },
     "execution_count": 23,
     "metadata": {},
     "output_type": "execute_result"
    }
   ],
   "source": [
    "myDict = [('a','Apple'),('b','Boy'), ('c','Cat')]\n",
    "myDict[0]"
   ]
  },
  {
   "cell_type": "code",
   "execution_count": 30,
   "id": "6cfdc4ea-aabd-44f9-8f47-ec86386e73fc",
   "metadata": {},
   "outputs": [
    {
     "data": {
      "text/plain": [
       "{'a': 'Apple', 'b': 'Boy', 'c': 'Cat'}"
      ]
     },
     "execution_count": 30,
     "metadata": {},
     "output_type": "execute_result"
    }
   ],
   "source": [
    "dict = {item[0]: item[1] for item in myDict}\n",
    "dict"
   ]
  },
  {
   "cell_type": "code",
   "execution_count": 32,
   "id": "3d362a4a-71e0-4737-9e8c-1e7d1b54b2c4",
   "metadata": {},
   "outputs": [
    {
     "data": {
      "text/plain": [
       "{'a': 'Apple', 'b': 'Boy', 'c': 'Cat'}"
      ]
     },
     "execution_count": 32,
     "metadata": {},
     "output_type": "execute_result"
    }
   ],
   "source": [
    "dict = {key: value for key,value in myDict}\n",
    "dict"
   ]
  },
  {
   "cell_type": "code",
   "execution_count": null,
   "id": "38660ae1-f330-43bd-9591-ab39bc3a3ae4",
   "metadata": {},
   "outputs": [],
   "source": []
  },
  {
   "cell_type": "code",
   "execution_count": null,
   "id": "2fd837d0-fddb-4938-ba45-d6d41f9f0d1c",
   "metadata": {},
   "outputs": [],
   "source": []
  },
  {
   "cell_type": "code",
   "execution_count": null,
   "id": "f2146bed-2672-444d-9995-aab1c67db01b",
   "metadata": {},
   "outputs": [],
   "source": []
  }
 ],
 "metadata": {
  "kernelspec": {
   "display_name": "Python 3 (ipykernel)",
   "language": "python",
   "name": "python3"
  },
  "language_info": {
   "codemirror_mode": {
    "name": "ipython",
    "version": 3
   },
   "file_extension": ".py",
   "mimetype": "text/x-python",
   "name": "python",
   "nbconvert_exporter": "python",
   "pygments_lexer": "ipython3",
   "version": "3.12.3"
  }
 },
 "nbformat": 4,
 "nbformat_minor": 5
}
