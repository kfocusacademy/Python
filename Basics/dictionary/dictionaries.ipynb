{
 "cells": [
  {
   "cell_type": "code",
   "execution_count": 2,
   "id": "2023e0db-aae4-4c58-a137-aab75828ce7f",
   "metadata": {},
   "outputs": [
    {
     "data": {
      "text/plain": [
       "{'a': ['Apple', 'Ant'], 'b': 'Boy', 'c': 'Cat'}"
      ]
     },
     "execution_count": 2,
     "metadata": {},
     "output_type": "execute_result"
    }
   ],
   "source": [
    "mydict = {'a': ['Apple','Ant'], \n",
    "          'b': 'Boy',\n",
    "          'c': 'Cat',\n",
    "         }\n",
    "\n",
    "mydict"
   ]
  },
  {
   "cell_type": "code",
   "execution_count": 7,
   "id": "291e5f6f-68b4-4339-a3e2-5d7e9cf8250f",
   "metadata": {},
   "outputs": [
    {
     "data": {
      "text/plain": [
       "'Apple'"
      ]
     },
     "execution_count": 7,
     "metadata": {},
     "output_type": "execute_result"
    }
   ],
   "source": [
    "mydict['a']"
   ]
  },
  {
   "cell_type": "code",
   "execution_count": 5,
   "id": "c50aaefa-b17f-4fc2-b0ad-3a9929b4d402",
   "metadata": {},
   "outputs": [],
   "source": [
    "mydict['d']='dog'"
   ]
  },
  {
   "cell_type": "code",
   "execution_count": 4,
   "id": "0740b9af-4b27-49f8-b277-271d5089906d",
   "metadata": {},
   "outputs": [
    {
     "data": {
      "text/plain": [
       "{'a': ['Apple', 'Ant'], 'b': 'Boy', 'c': 'Cat'}"
      ]
     },
     "execution_count": 4,
     "metadata": {},
     "output_type": "execute_result"
    }
   ],
   "source": [
    "mydict"
   ]
  },
  {
   "cell_type": "code",
   "execution_count": 21,
   "id": "298771b4-a050-4608-8487-99e201ab2ab9",
   "metadata": {},
   "outputs": [
    {
     "data": {
      "text/plain": [
       "dict_keys(['f'])"
      ]
     },
     "execution_count": 21,
     "metadata": {},
     "output_type": "execute_result"
    }
   ],
   "source": [
    "mydict.keys()"
   ]
  },
  {
   "cell_type": "code",
   "execution_count": 3,
   "id": "bcd2d68a-eb33-4d08-b6cc-1f2702828772",
   "metadata": {},
   "outputs": [
    {
     "data": {
      "text/plain": [
       "['Apple', 'Ant']"
      ]
     },
     "execution_count": 3,
     "metadata": {},
     "output_type": "execute_result"
    }
   ],
   "source": [
    "mydict.get('a')"
   ]
  },
  {
   "cell_type": "code",
   "execution_count": 29,
   "id": "870509c9-64de-43ef-ae9d-2a10bb186987",
   "metadata": {},
   "outputs": [
    {
     "name": "stdout",
     "output_type": "stream",
     "text": [
      "['Frog', 'Fish']\n",
      "{'a': 'Apple'}\n"
     ]
    }
   ],
   "source": [
    "# to add a new key value pair\n",
    "#mydict['e']='Elephant'\n",
    "mydict['a']='Apple'\n",
    "mydict['f']=['Frog','Fish']\n",
    "print(mydict.pop('f'))\n",
    "print(mydict)"
   ]
  }
 ],
 "metadata": {
  "kernelspec": {
   "display_name": "Python 3",
   "language": "python",
   "name": "python3"
  },
  "language_info": {
   "codemirror_mode": {
    "name": "ipython",
    "version": 3
   },
   "file_extension": ".py",
   "mimetype": "text/x-python",
   "name": "python",
   "nbconvert_exporter": "python",
   "pygments_lexer": "ipython3",
   "version": "3.13.7"
  }
 },
 "nbformat": 4,
 "nbformat_minor": 5
}
