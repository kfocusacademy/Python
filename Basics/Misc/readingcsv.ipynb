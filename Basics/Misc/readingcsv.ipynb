{
 "cells": [
  {
   "cell_type": "code",
   "execution_count": 4,
   "id": "a9cd4410",
   "metadata": {},
   "outputs": [
    {
     "name": "stdout",
     "output_type": "stream",
     "text": [
      "[['Month', 'Emp_Count', 'Sales'], ['Jan', '25', '25000'], ['Feb', '20', '20000'], ['Mar', '32', '32000'], ['Apr', '22', '22000'], ['May', '19', '19000'], ['Jun', '32', '32000'], ['Jul', '22', '22000'], ['Aug', '33', '33000'], ['Sep', '40', '40000'], ['Oct', '26', '26000'], ['Nov', '28', '28000'], ['Dec', '30', '30000']]\n"
     ]
    }
   ],
   "source": [
    "import csv\n",
    "\n",
    "with open(\"sample.csv\",'r') as read_obj:\n",
    "    csv_reader  = csv.reader(read_obj)\n",
    "    list_csv = list(csv_reader)\n",
    "    print(list_csv)\n"
   ]
  },
  {
   "cell_type": "code",
   "execution_count": 10,
   "id": "d88b075d",
   "metadata": {},
   "outputs": [
    {
     "name": "stdout",
     "output_type": "stream",
     "text": [
      "['Month', 'Emp_Count', 'Sales']\n",
      "Month Emp_Count Sales\n",
      "['Jan', '25', '25000']\n",
      "Jan 25 25000\n",
      "['Feb', '20', '20000']\n",
      "Feb 20 20000\n",
      "['Mar', '32', '32000']\n",
      "Mar 32 32000\n",
      "['Apr', '22', '22000']\n",
      "Apr 22 22000\n",
      "['May', '19', '19000']\n",
      "May 19 19000\n",
      "['Jun', '32', '32000']\n",
      "Jun 32 32000\n",
      "['Jul', '22', '22000']\n",
      "Jul 22 22000\n",
      "['Aug', '33', '33000']\n",
      "Aug 33 33000\n",
      "['Sep', '40', '40000']\n",
      "Sep 40 40000\n",
      "['Oct', '26', '26000']\n",
      "Oct 26 26000\n",
      "['Nov', '28', '28000']\n",
      "Nov 28 28000\n",
      "['Dec', '30', '30000']\n",
      "Dec 30 30000\n"
     ]
    }
   ],
   "source": [
    "# Reading CSV file by iterating each row\n",
    "import csv\n",
    "\n",
    "with open(\"sample.csv\",'r') as read_obj:\n",
    "    csv_reader  = csv.reader(read_obj,delimiter = ',')\n",
    "    for row in csv_reader:\n",
    "        print(row)\n",
    "        print(row[0],row[1],row[2])\n",
    "    #list_csv = list(csv_reader)\n",
    "    #print(list_csv)"
   ]
  },
  {
   "cell_type": "code",
   "execution_count": null,
   "id": "7905ad19",
   "metadata": {},
   "outputs": [],
   "source": [
    "# Reading a large CSV file with chunks \n",
    "\n",
    "import pandas as pd \n",
    "chunk = pd.read_csv(\"sample.csv\", chunksize= 1000)\n",
    "df = pd.concat(chunk)\n",
    "print(df.head)\n",
    "\n"
   ]
  },
  {
   "cell_type": "code",
   "execution_count": null,
   "id": "1f47cf95",
   "metadata": {},
   "outputs": [
    {
     "name": "stdout",
     "output_type": "stream",
     "text": [
      "[  Month  Emp_Count  Sales\n",
      "2   Mar         32  32000\n",
      "5   Jun         32  32000\n",
      "7   Aug         33  33000\n",
      "8   Sep         40  40000]\n"
     ]
    }
   ],
   "source": [
    "# Moving filtered data using chunks\n",
    "import pandas as pd\n",
    "chunk_size = 1000\n",
    "filtered_data  = []\n",
    "\n",
    "for chunk in pd.read_csv(\"sample.csv\",chunksize=chunk_size):\n",
    "    filtered_chunk = chunk[chunk['Sales']>30000]\n",
    "    filtered_data.append(filtered_chunk)\n",
    "\n",
    "print(filtered_data)\n",
    "\n"
   ]
  },
  {
   "cell_type": "code",
   "execution_count": 1,
   "id": "65b23bcd",
   "metadata": {},
   "outputs": [
    {
     "name": "stdout",
     "output_type": "stream",
     "text": [
      "Sales sum of all chunks 329000\n"
     ]
    }
   ],
   "source": [
    "# Aggregation \n",
    "import pandas as pd\n",
    "chunk_size = 1000\n",
    "sales_tot = 0 \n",
    "\n",
    "for chunk in pd.read_csv(\"sample.csv\",chunksize=chunk_size):\n",
    "    sales_tot = sales_tot + chunk['Sales'].sum()\n",
    "    \n",
    "\n",
    "print(\"Sales sum of all chunks\" , sales_tot)"
   ]
  },
  {
   "cell_type": "code",
   "execution_count": 10,
   "id": "cdb310a9",
   "metadata": {},
   "outputs": [
    {
     "name": "stdout",
     "output_type": "stream",
     "text": [
      "   Month  Emp_Count  Sales\n",
      "0    Jan         25  25000\n",
      "1    Feb         20  20000\n",
      "2    Mar         32  32000\n",
      "3    Apr         22  22000\n",
      "4    May         19  19000\n",
      "5    Jun         32  32000\n",
      "6    Jul         22  22000\n",
      "7    Aug         33  33000\n",
      "8    Sep         40  40000\n",
      "9    Oct         26  26000\n",
      "10   Nov         28  28000\n",
      "11   Dec         30  30000\n",
      "  Month  Emp_Count  Sales\n",
      "0   Jan         25  25000\n",
      "1   Feb         20  20000\n",
      "2   Mar         32  32000\n",
      "3   Apr         22  22000\n",
      "4   May         19  19000\n",
      "5   Jun         32  32000\n",
      "  Month  Emp_Count  Sales\n",
      "0   Jul         22  22000\n",
      "1   Aug         33  33000\n",
      "2   Sep         40  40000\n",
      "3   Oct         26  26000\n",
      "4   Nov         28  28000\n",
      "5   Dec         30  30000\n"
     ]
    }
   ],
   "source": [
    "# How to split a CSV into multiple CSV files\n",
    "import pandas as pd\n",
    "\n",
    "df1 = pd.read_csv(\"sample.csv\")\n",
    "print(df1)\n",
    "df2 = df1[0:6]\n",
    "df2.to_csv('sample1.csv',index=False)\n",
    "df2 = df1[6:12]\n",
    "df2.to_csv('sample2.csv',index=False)\n",
    "\n",
    "df_1 = pd.read_csv(\"sample1.csv\")\n",
    "print(df_1)\n",
    "df_2 = pd.read_csv(\"sample2.csv\")\n",
    "print(df_2)\n",
    "\n"
   ]
  },
  {
   "cell_type": "code",
   "execution_count": 13,
   "id": "3cefe6ae",
   "metadata": {},
   "outputs": [
    {
     "name": "stdout",
     "output_type": "stream",
     "text": [
      "<pandas.core.groupby.generic.DataFrameGroupBy object at 0x0000025E5BB45940>\n"
     ]
    }
   ],
   "source": [
    "# Using Group By Clause\n",
    "import pandas as pd\n",
    "\n",
    "df1 = pd.read_csv(\"sample.csv\")\n",
    "df2 = df1.groupby(['Emp_Count'])\n",
    "print(df2)"
   ]
  }
 ],
 "metadata": {
  "kernelspec": {
   "display_name": "Python 3 (ipykernel)",
   "language": "python",
   "name": "python3"
  },
  "language_info": {
   "codemirror_mode": {
    "name": "ipython",
    "version": 3
   },
   "file_extension": ".py",
   "mimetype": "text/x-python",
   "name": "python",
   "nbconvert_exporter": "python",
   "pygments_lexer": "ipython3",
   "version": "3.12.3"
  }
 },
 "nbformat": 4,
 "nbformat_minor": 5
}
