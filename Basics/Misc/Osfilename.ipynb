{
 "cells": [
  {
   "cell_type": "code",
   "execution_count": null,
   "id": "7fff9fad",
   "metadata": {},
   "outputs": [
    {
     "ename": "SyntaxError",
     "evalue": "unterminated string literal (detected at line 4) (20416484.py, line 4)",
     "output_type": "error",
     "traceback": [
      "\u001b[1;36m  Cell \u001b[1;32mIn[12], line 4\u001b[1;36m\u001b[0m\n\u001b[1;33m    rootPath = \"c:\\\"\u001b[0m\n\u001b[1;37m               ^\u001b[0m\n\u001b[1;31mSyntaxError\u001b[0m\u001b[1;31m:\u001b[0m unterminated string literal (detected at line 4)\n"
     ]
    }
   ],
   "source": [
    "import fnmatch\n",
    "import os\n",
    "\n",
    "rootPath = \"c:\"\n",
    "images = ['*.jpg','*.gif','*.jpeg']\n",
    "matches = []\n",
    "\n",
    "for root, dirs, filenames in os.walk(rootPath):\n",
    "    for extensions in images:\n",
    "        for filenames in fnmatch.filter(filenames,extensions):\n",
    "            matches.append(os.path.join(root,filenames))\n",
    "\n",
    "print(matches)\n",
    "                                         "
   ]
  },
  {
   "cell_type": "code",
   "execution_count": 5,
   "id": "5088fa62",
   "metadata": {},
   "outputs": [
    {
     "name": "stdout",
     "output_type": "stream",
     "text": [
      "/Program Files\\Microsoft Office\\root\\Office16\\sdxs\\FA000000084\\fluidhost\\static\\media\\wl_completion_sound.13a69e47a3545eb5ac81.mp3\n",
      "/ProgramData\\Lenovo\\Vantage\\Addins\\LenovoHardwareScanAddin\\4.0.1.2\\audio_files\\bell.mp3\n",
      "/ProgramData\\Lenovo\\Vantage\\Addins\\LenovoHardwareScanAddin\\4.0.1.2\\audio_files\\cat.mp3\n",
      "/ProgramData\\Lenovo\\Vantage\\Addins\\LenovoHardwareScanAddin\\4.0.1.2\\audio_files\\chicken.mp3\n",
      "/ProgramData\\Lenovo\\Vantage\\Addins\\LenovoHardwareScanAddin\\4.0.1.2\\audio_files\\dog.mp3\n",
      "/ProgramData\\Lenovo\\Vantage\\Addins\\LenovoHardwareScanAddin\\4.0.1.2\\audio_files\\music.mp3\n",
      "/ProgramData\\Lenovo\\Vantage\\Addins\\LenovoHardwareScanAddin\\4.0.1.2\\audio_files\\water.mp3\n",
      "/Users\\ravi.buddha\\AppData\\Local\\Programs\\Microsoft VS Code\\resources\\app\\out\\vs\\platform\\accessibilitySignal\\browser\\media\\break.mp3\n",
      "/Users\\ravi.buddha\\AppData\\Local\\Programs\\Microsoft VS Code\\resources\\app\\out\\vs\\platform\\accessibilitySignal\\browser\\media\\chatEditModifiedFile.mp3\n",
      "/Users\\ravi.buddha\\AppData\\Local\\Programs\\Microsoft VS Code\\resources\\app\\out\\vs\\platform\\accessibilitySignal\\browser\\media\\clear.mp3\n",
      "/Users\\ravi.buddha\\AppData\\Local\\Programs\\Microsoft VS Code\\resources\\app\\out\\vs\\platform\\accessibilitySignal\\browser\\media\\diffLineDeleted.mp3\n",
      "/Users\\ravi.buddha\\AppData\\Local\\Programs\\Microsoft VS Code\\resources\\app\\out\\vs\\platform\\accessibilitySignal\\browser\\media\\diffLineInserted.mp3\n",
      "/Users\\ravi.buddha\\AppData\\Local\\Programs\\Microsoft VS Code\\resources\\app\\out\\vs\\platform\\accessibilitySignal\\browser\\media\\diffLineModified.mp3\n",
      "/Users\\ravi.buddha\\AppData\\Local\\Programs\\Microsoft VS Code\\resources\\app\\out\\vs\\platform\\accessibilitySignal\\browser\\media\\editsKept.mp3\n",
      "/Users\\ravi.buddha\\AppData\\Local\\Programs\\Microsoft VS Code\\resources\\app\\out\\vs\\platform\\accessibilitySignal\\browser\\media\\editsUndone.mp3\n",
      "/Users\\ravi.buddha\\AppData\\Local\\Programs\\Microsoft VS Code\\resources\\app\\out\\vs\\platform\\accessibilitySignal\\browser\\media\\error.mp3\n",
      "/Users\\ravi.buddha\\AppData\\Local\\Programs\\Microsoft VS Code\\resources\\app\\out\\vs\\platform\\accessibilitySignal\\browser\\media\\foldedAreas.mp3\n",
      "/Users\\ravi.buddha\\AppData\\Local\\Programs\\Microsoft VS Code\\resources\\app\\out\\vs\\platform\\accessibilitySignal\\browser\\media\\format.mp3\n",
      "/Users\\ravi.buddha\\AppData\\Local\\Programs\\Microsoft VS Code\\resources\\app\\out\\vs\\platform\\accessibilitySignal\\browser\\media\\progress.mp3\n",
      "/Users\\ravi.buddha\\AppData\\Local\\Programs\\Microsoft VS Code\\resources\\app\\out\\vs\\platform\\accessibilitySignal\\browser\\media\\quickFixes.mp3\n",
      "/Users\\ravi.buddha\\AppData\\Local\\Programs\\Microsoft VS Code\\resources\\app\\out\\vs\\platform\\accessibilitySignal\\browser\\media\\requestSent.mp3\n",
      "/Users\\ravi.buddha\\AppData\\Local\\Programs\\Microsoft VS Code\\resources\\app\\out\\vs\\platform\\accessibilitySignal\\browser\\media\\responseReceived1.mp3\n",
      "/Users\\ravi.buddha\\AppData\\Local\\Programs\\Microsoft VS Code\\resources\\app\\out\\vs\\platform\\accessibilitySignal\\browser\\media\\responseReceived2.mp3\n",
      "/Users\\ravi.buddha\\AppData\\Local\\Programs\\Microsoft VS Code\\resources\\app\\out\\vs\\platform\\accessibilitySignal\\browser\\media\\responseReceived3.mp3\n",
      "/Users\\ravi.buddha\\AppData\\Local\\Programs\\Microsoft VS Code\\resources\\app\\out\\vs\\platform\\accessibilitySignal\\browser\\media\\responseReceived4.mp3\n",
      "/Users\\ravi.buddha\\AppData\\Local\\Programs\\Microsoft VS Code\\resources\\app\\out\\vs\\platform\\accessibilitySignal\\browser\\media\\save.mp3\n",
      "/Users\\ravi.buddha\\AppData\\Local\\Programs\\Microsoft VS Code\\resources\\app\\out\\vs\\platform\\accessibilitySignal\\browser\\media\\success.mp3\n",
      "/Users\\ravi.buddha\\AppData\\Local\\Programs\\Microsoft VS Code\\resources\\app\\out\\vs\\platform\\accessibilitySignal\\browser\\media\\taskCompleted.mp3\n",
      "/Users\\ravi.buddha\\AppData\\Local\\Programs\\Microsoft VS Code\\resources\\app\\out\\vs\\platform\\accessibilitySignal\\browser\\media\\taskFailed.mp3\n",
      "/Users\\ravi.buddha\\AppData\\Local\\Programs\\Microsoft VS Code\\resources\\app\\out\\vs\\platform\\accessibilitySignal\\browser\\media\\terminalBell.mp3\n",
      "/Users\\ravi.buddha\\AppData\\Local\\Programs\\Microsoft VS Code\\resources\\app\\out\\vs\\platform\\accessibilitySignal\\browser\\media\\voiceRecordingStarted.mp3\n",
      "/Users\\ravi.buddha\\AppData\\Local\\Programs\\Microsoft VS Code\\resources\\app\\out\\vs\\platform\\accessibilitySignal\\browser\\media\\voiceRecordingStopped.mp3\n",
      "/Users\\ravi.buddha\\AppData\\Local\\Programs\\Microsoft VS Code\\resources\\app\\out\\vs\\platform\\accessibilitySignal\\browser\\media\\warning.mp3\n",
      "/Users\\ravi.buddha\\AppData\\Local\\Programs\\Microsoft VS Code\\_\\resources\\app\\out\\vs\\platform\\accessibilitySignal\\browser\\media\\break.mp3\n",
      "/Users\\ravi.buddha\\AppData\\Local\\Programs\\Microsoft VS Code\\_\\resources\\app\\out\\vs\\platform\\accessibilitySignal\\browser\\media\\chatEditModifiedFile.mp3\n",
      "/Users\\ravi.buddha\\AppData\\Local\\Programs\\Microsoft VS Code\\_\\resources\\app\\out\\vs\\platform\\accessibilitySignal\\browser\\media\\clear.mp3\n",
      "/Users\\ravi.buddha\\AppData\\Local\\Programs\\Microsoft VS Code\\_\\resources\\app\\out\\vs\\platform\\accessibilitySignal\\browser\\media\\diffLineDeleted.mp3\n",
      "/Users\\ravi.buddha\\AppData\\Local\\Programs\\Microsoft VS Code\\_\\resources\\app\\out\\vs\\platform\\accessibilitySignal\\browser\\media\\diffLineInserted.mp3\n",
      "/Users\\ravi.buddha\\AppData\\Local\\Programs\\Microsoft VS Code\\_\\resources\\app\\out\\vs\\platform\\accessibilitySignal\\browser\\media\\diffLineModified.mp3\n",
      "/Users\\ravi.buddha\\AppData\\Local\\Programs\\Microsoft VS Code\\_\\resources\\app\\out\\vs\\platform\\accessibilitySignal\\browser\\media\\editsKept.mp3\n",
      "/Users\\ravi.buddha\\AppData\\Local\\Programs\\Microsoft VS Code\\_\\resources\\app\\out\\vs\\platform\\accessibilitySignal\\browser\\media\\editsUndone.mp3\n",
      "/Users\\ravi.buddha\\AppData\\Local\\Programs\\Microsoft VS Code\\_\\resources\\app\\out\\vs\\platform\\accessibilitySignal\\browser\\media\\error.mp3\n",
      "/Users\\ravi.buddha\\AppData\\Local\\Programs\\Microsoft VS Code\\_\\resources\\app\\out\\vs\\platform\\accessibilitySignal\\browser\\media\\foldedAreas.mp3\n",
      "/Users\\ravi.buddha\\AppData\\Local\\Programs\\Microsoft VS Code\\_\\resources\\app\\out\\vs\\platform\\accessibilitySignal\\browser\\media\\format.mp3\n",
      "/Users\\ravi.buddha\\AppData\\Local\\Programs\\Microsoft VS Code\\_\\resources\\app\\out\\vs\\platform\\accessibilitySignal\\browser\\media\\nextEditSuggestion.mp3\n",
      "/Users\\ravi.buddha\\AppData\\Local\\Programs\\Microsoft VS Code\\_\\resources\\app\\out\\vs\\platform\\accessibilitySignal\\browser\\media\\progress.mp3\n",
      "/Users\\ravi.buddha\\AppData\\Local\\Programs\\Microsoft VS Code\\_\\resources\\app\\out\\vs\\platform\\accessibilitySignal\\browser\\media\\quickFixes.mp3\n",
      "/Users\\ravi.buddha\\AppData\\Local\\Programs\\Microsoft VS Code\\_\\resources\\app\\out\\vs\\platform\\accessibilitySignal\\browser\\media\\requestSent.mp3\n",
      "/Users\\ravi.buddha\\AppData\\Local\\Programs\\Microsoft VS Code\\_\\resources\\app\\out\\vs\\platform\\accessibilitySignal\\browser\\media\\responseReceived1.mp3\n",
      "/Users\\ravi.buddha\\AppData\\Local\\Programs\\Microsoft VS Code\\_\\resources\\app\\out\\vs\\platform\\accessibilitySignal\\browser\\media\\responseReceived2.mp3\n",
      "/Users\\ravi.buddha\\AppData\\Local\\Programs\\Microsoft VS Code\\_\\resources\\app\\out\\vs\\platform\\accessibilitySignal\\browser\\media\\responseReceived3.mp3\n",
      "/Users\\ravi.buddha\\AppData\\Local\\Programs\\Microsoft VS Code\\_\\resources\\app\\out\\vs\\platform\\accessibilitySignal\\browser\\media\\responseReceived4.mp3\n",
      "/Users\\ravi.buddha\\AppData\\Local\\Programs\\Microsoft VS Code\\_\\resources\\app\\out\\vs\\platform\\accessibilitySignal\\browser\\media\\save.mp3\n",
      "/Users\\ravi.buddha\\AppData\\Local\\Programs\\Microsoft VS Code\\_\\resources\\app\\out\\vs\\platform\\accessibilitySignal\\browser\\media\\success.mp3\n",
      "/Users\\ravi.buddha\\AppData\\Local\\Programs\\Microsoft VS Code\\_\\resources\\app\\out\\vs\\platform\\accessibilitySignal\\browser\\media\\taskCompleted.mp3\n",
      "/Users\\ravi.buddha\\AppData\\Local\\Programs\\Microsoft VS Code\\_\\resources\\app\\out\\vs\\platform\\accessibilitySignal\\browser\\media\\taskFailed.mp3\n",
      "/Users\\ravi.buddha\\AppData\\Local\\Programs\\Microsoft VS Code\\_\\resources\\app\\out\\vs\\platform\\accessibilitySignal\\browser\\media\\terminalBell.mp3\n",
      "/Users\\ravi.buddha\\AppData\\Local\\Programs\\Microsoft VS Code\\_\\resources\\app\\out\\vs\\platform\\accessibilitySignal\\browser\\media\\terminalCommandSucceeded.mp3\n",
      "/Users\\ravi.buddha\\AppData\\Local\\Programs\\Microsoft VS Code\\_\\resources\\app\\out\\vs\\platform\\accessibilitySignal\\browser\\media\\voiceRecordingStarted.mp3\n",
      "/Users\\ravi.buddha\\AppData\\Local\\Programs\\Microsoft VS Code\\_\\resources\\app\\out\\vs\\platform\\accessibilitySignal\\browser\\media\\voiceRecordingStopped.mp3\n",
      "/Users\\ravi.buddha\\AppData\\Local\\Programs\\Microsoft VS Code\\_\\resources\\app\\out\\vs\\platform\\accessibilitySignal\\browser\\media\\warning.mp3\n",
      "/Windows\\ImmersiveControlPanel\\SystemSettings\\Assets\\Aria.mp3\n",
      "/Windows\\ImmersiveControlPanel\\SystemSettings\\Assets\\Guy.mp3\n",
      "/Windows\\ImmersiveControlPanel\\SystemSettings\\Assets\\Jenny.mp3\n"
     ]
    },
    {
     "ename": "KeyboardInterrupt",
     "evalue": "",
     "output_type": "error",
     "traceback": [
      "\u001b[1;31m---------------------------------------------------------------------------\u001b[0m",
      "\u001b[1;31mKeyboardInterrupt\u001b[0m                         Traceback (most recent call last)",
      "Cell \u001b[1;32mIn[5], line 7\u001b[0m\n\u001b[0;32m      4\u001b[0m rootPath \u001b[38;5;241m=\u001b[39m \u001b[38;5;124m'\u001b[39m\u001b[38;5;124m/\u001b[39m\u001b[38;5;124m'\u001b[39m\n\u001b[0;32m      5\u001b[0m pattern \u001b[38;5;241m=\u001b[39m \u001b[38;5;124m'\u001b[39m\u001b[38;5;124m*.mp3\u001b[39m\u001b[38;5;124m'\u001b[39m\n\u001b[1;32m----> 7\u001b[0m \u001b[38;5;28;43;01mfor\u001b[39;49;00m\u001b[43m \u001b[49m\u001b[43mroot\u001b[49m\u001b[43m,\u001b[49m\u001b[43m \u001b[49m\u001b[43mdirs\u001b[49m\u001b[43m,\u001b[49m\u001b[43m \u001b[49m\u001b[43mfiles\u001b[49m\u001b[43m \u001b[49m\u001b[38;5;129;43;01min\u001b[39;49;00m\u001b[43m \u001b[49m\u001b[43mos\u001b[49m\u001b[38;5;241;43m.\u001b[39;49m\u001b[43mwalk\u001b[49m\u001b[43m(\u001b[49m\u001b[43mrootPath\u001b[49m\u001b[43m)\u001b[49m\u001b[43m:\u001b[49m\n\u001b[0;32m      8\u001b[0m \u001b[43m    \u001b[49m\u001b[38;5;28;43;01mfor\u001b[39;49;00m\u001b[43m \u001b[49m\u001b[43mfilename\u001b[49m\u001b[43m \u001b[49m\u001b[38;5;129;43;01min\u001b[39;49;00m\u001b[43m \u001b[49m\u001b[43mfnmatch\u001b[49m\u001b[38;5;241;43m.\u001b[39;49m\u001b[43mfilter\u001b[49m\u001b[43m(\u001b[49m\u001b[43mfiles\u001b[49m\u001b[43m,\u001b[49m\u001b[43m \u001b[49m\u001b[43mpattern\u001b[49m\u001b[43m)\u001b[49m\u001b[43m:\u001b[49m\n\u001b[0;32m      9\u001b[0m \u001b[43m        \u001b[49m\u001b[38;5;28;43mprint\u001b[39;49m\u001b[43m(\u001b[49m\u001b[43m \u001b[49m\u001b[43mos\u001b[49m\u001b[38;5;241;43m.\u001b[39;49m\u001b[43mpath\u001b[49m\u001b[38;5;241;43m.\u001b[39;49m\u001b[43mjoin\u001b[49m\u001b[43m(\u001b[49m\u001b[43mroot\u001b[49m\u001b[43m,\u001b[49m\u001b[43m \u001b[49m\u001b[43mfilename\u001b[49m\u001b[43m)\u001b[49m\u001b[43m)\u001b[49m\n",
      "File \u001b[1;32m<frozen os>:362\u001b[0m, in \u001b[0;36mwalk\u001b[1;34m(top, topdown, onerror, followlinks)\u001b[0m\n",
      "\u001b[1;31mKeyboardInterrupt\u001b[0m: "
     ]
    }
   ],
   "source": [
    "import fnmatch\n",
    "import os\n",
    " \n",
    "rootPath = '/'\n",
    "pattern = '*.mp3'\n",
    " \n",
    "for root, dirs, files in os.walk(rootPath):\n",
    "    for filename in fnmatch.filter(files, pattern):\n",
    "        print( os.path.join(root, filename))"
   ]
  }
 ],
 "metadata": {
  "kernelspec": {
   "display_name": "Python 3",
   "language": "python",
   "name": "python3"
  },
  "language_info": {
   "codemirror_mode": {
    "name": "ipython",
    "version": 3
   },
   "file_extension": ".py",
   "mimetype": "text/x-python",
   "name": "python",
   "nbconvert_exporter": "python",
   "pygments_lexer": "ipython3",
   "version": "3.12.3"
  }
 },
 "nbformat": 4,
 "nbformat_minor": 5
}
